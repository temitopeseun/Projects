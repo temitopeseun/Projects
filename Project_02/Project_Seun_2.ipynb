{
 "cells": [
  {
   "cell_type": "code",
   "execution_count": 1,
   "id": "abe6584c",
   "metadata": {},
   "outputs": [],
   "source": [
    "import pandas as pd\n",
    "import numpy as np\n",
    "import seaborn as sns\n",
    "\n",
    "from sklearn.compose import ColumnTransformer\n",
    "from sklearn.impute import SimpleImputer\n",
    "from sklearn.preprocessing import OneHotEncoder\n",
    "from sklearn.preprocessing import MinMaxScaler\n",
    "from sklearn.pipeline import make_pipeline\n",
    "from sklearn.linear_model import LogisticRegression\n",
    "from sklearn.model_selection import train_test_split\n",
    "from sklearn.pipeline import Pipeline\n",
    "from sklearn.preprocessing import StandardScaler\n",
    "\n",
    "from sklearn.ensemble import RandomForestClassifier\n",
    "from sklearn.datasets import make_classification\n",
    "\n",
    "import matplotlib.pyplot as plt\n"
   ]
  },
  {
   "cell_type": "code",
   "execution_count": 2,
   "id": "84d1a4a5",
   "metadata": {},
   "outputs": [],
   "source": [
    "df=pd.read_csv('train.csv')\n",
    "\n"
   ]
  },
  {
   "cell_type": "code",
   "execution_count": 3,
   "id": "a6433e81",
   "metadata": {},
   "outputs": [
    {
     "data": {
      "text/html": [
       "<div>\n",
       "<style scoped>\n",
       "    .dataframe tbody tr th:only-of-type {\n",
       "        vertical-align: middle;\n",
       "    }\n",
       "\n",
       "    .dataframe tbody tr th {\n",
       "        vertical-align: top;\n",
       "    }\n",
       "\n",
       "    .dataframe thead th {\n",
       "        text-align: right;\n",
       "    }\n",
       "</style>\n",
       "<table border=\"1\" class=\"dataframe\">\n",
       "  <thead>\n",
       "    <tr style=\"text-align: right;\">\n",
       "      <th></th>\n",
       "      <th>PassengerId</th>\n",
       "      <th>Survived</th>\n",
       "      <th>Pclass</th>\n",
       "      <th>Name</th>\n",
       "      <th>Sex</th>\n",
       "      <th>Age</th>\n",
       "      <th>SibSp</th>\n",
       "      <th>Parch</th>\n",
       "      <th>Ticket</th>\n",
       "      <th>Fare</th>\n",
       "      <th>Cabin</th>\n",
       "      <th>Embarked</th>\n",
       "    </tr>\n",
       "  </thead>\n",
       "  <tbody>\n",
       "    <tr>\n",
       "      <th>0</th>\n",
       "      <td>1</td>\n",
       "      <td>0</td>\n",
       "      <td>3</td>\n",
       "      <td>Braund, Mr. Owen Harris</td>\n",
       "      <td>male</td>\n",
       "      <td>22.0</td>\n",
       "      <td>1</td>\n",
       "      <td>0</td>\n",
       "      <td>A/5 21171</td>\n",
       "      <td>7.2500</td>\n",
       "      <td>NaN</td>\n",
       "      <td>S</td>\n",
       "    </tr>\n",
       "    <tr>\n",
       "      <th>1</th>\n",
       "      <td>2</td>\n",
       "      <td>1</td>\n",
       "      <td>1</td>\n",
       "      <td>Cumings, Mrs. John Bradley (Florence Briggs Th...</td>\n",
       "      <td>female</td>\n",
       "      <td>38.0</td>\n",
       "      <td>1</td>\n",
       "      <td>0</td>\n",
       "      <td>PC 17599</td>\n",
       "      <td>71.2833</td>\n",
       "      <td>C85</td>\n",
       "      <td>C</td>\n",
       "    </tr>\n",
       "    <tr>\n",
       "      <th>2</th>\n",
       "      <td>3</td>\n",
       "      <td>1</td>\n",
       "      <td>3</td>\n",
       "      <td>Heikkinen, Miss. Laina</td>\n",
       "      <td>female</td>\n",
       "      <td>26.0</td>\n",
       "      <td>0</td>\n",
       "      <td>0</td>\n",
       "      <td>STON/O2. 3101282</td>\n",
       "      <td>7.9250</td>\n",
       "      <td>NaN</td>\n",
       "      <td>S</td>\n",
       "    </tr>\n",
       "    <tr>\n",
       "      <th>3</th>\n",
       "      <td>4</td>\n",
       "      <td>1</td>\n",
       "      <td>1</td>\n",
       "      <td>Futrelle, Mrs. Jacques Heath (Lily May Peel)</td>\n",
       "      <td>female</td>\n",
       "      <td>35.0</td>\n",
       "      <td>1</td>\n",
       "      <td>0</td>\n",
       "      <td>113803</td>\n",
       "      <td>53.1000</td>\n",
       "      <td>C123</td>\n",
       "      <td>S</td>\n",
       "    </tr>\n",
       "    <tr>\n",
       "      <th>4</th>\n",
       "      <td>5</td>\n",
       "      <td>0</td>\n",
       "      <td>3</td>\n",
       "      <td>Allen, Mr. William Henry</td>\n",
       "      <td>male</td>\n",
       "      <td>35.0</td>\n",
       "      <td>0</td>\n",
       "      <td>0</td>\n",
       "      <td>373450</td>\n",
       "      <td>8.0500</td>\n",
       "      <td>NaN</td>\n",
       "      <td>S</td>\n",
       "    </tr>\n",
       "  </tbody>\n",
       "</table>\n",
       "</div>"
      ],
      "text/plain": [
       "   PassengerId  Survived  Pclass  \\\n",
       "0            1         0       3   \n",
       "1            2         1       1   \n",
       "2            3         1       3   \n",
       "3            4         1       1   \n",
       "4            5         0       3   \n",
       "\n",
       "                                                Name     Sex   Age  SibSp  \\\n",
       "0                            Braund, Mr. Owen Harris    male  22.0      1   \n",
       "1  Cumings, Mrs. John Bradley (Florence Briggs Th...  female  38.0      1   \n",
       "2                             Heikkinen, Miss. Laina  female  26.0      0   \n",
       "3       Futrelle, Mrs. Jacques Heath (Lily May Peel)  female  35.0      1   \n",
       "4                           Allen, Mr. William Henry    male  35.0      0   \n",
       "\n",
       "   Parch            Ticket     Fare Cabin Embarked  \n",
       "0      0         A/5 21171   7.2500   NaN        S  \n",
       "1      0          PC 17599  71.2833   C85        C  \n",
       "2      0  STON/O2. 3101282   7.9250   NaN        S  \n",
       "3      0            113803  53.1000  C123        S  \n",
       "4      0            373450   8.0500   NaN        S  "
      ]
     },
     "execution_count": 3,
     "metadata": {},
     "output_type": "execute_result"
    }
   ],
   "source": [
    "df.head(5)"
   ]
  },
  {
   "cell_type": "code",
   "execution_count": 4,
   "id": "a44c3c36",
   "metadata": {},
   "outputs": [
    {
     "data": {
      "text/plain": [
       "Index(['PassengerId', 'Survived', 'Pclass', 'Name', 'Sex', 'Age', 'SibSp',\n",
       "       'Parch', 'Ticket', 'Fare', 'Cabin', 'Embarked'],\n",
       "      dtype='object')"
      ]
     },
     "execution_count": 4,
     "metadata": {},
     "output_type": "execute_result"
    }
   ],
   "source": [
    "df.columns"
   ]
  },
  {
   "cell_type": "code",
   "execution_count": 5,
   "id": "311b9293",
   "metadata": {},
   "outputs": [],
   "source": [
    "\n",
    "#Val_df.drop(['PassengerId','Name','Parch','Ticket','Cabin'], axis=1)\n",
    "\n",
    "# will drop rows with one or more NULL values\n",
    "#df.dropna(axis=0)\n",
    "\n",
    "#dtrain['Age'].fillna(dtrain['Age'].mean(),inplace =True)\n",
    "#dtrain.replace({'Sex':{'male':1,'female':0}},inplace=True)\n",
    "#dtrain.head(5)"
   ]
  },
  {
   "cell_type": "code",
   "execution_count": 6,
   "id": "e8e2265d",
   "metadata": {},
   "outputs": [
    {
     "data": {
      "text/plain": [
       "342"
      ]
     },
     "execution_count": 6,
     "metadata": {},
     "output_type": "execute_result"
    }
   ],
   "source": [
    "# Finding the number of surviving and non-surviving people\n",
    "df['Survived'].sum()\n"
   ]
  },
  {
   "cell_type": "code",
   "execution_count": 7,
   "id": "d6c818bb",
   "metadata": {},
   "outputs": [],
   "source": [
    "dff = df[['PassengerId', 'Survived','Pclass','Sex','Age','Fare','Embarked']]"
   ]
  },
  {
   "cell_type": "code",
   "execution_count": 8,
   "id": "af30cee5",
   "metadata": {},
   "outputs": [
    {
     "data": {
      "text/html": [
       "<div>\n",
       "<style scoped>\n",
       "    .dataframe tbody tr th:only-of-type {\n",
       "        vertical-align: middle;\n",
       "    }\n",
       "\n",
       "    .dataframe tbody tr th {\n",
       "        vertical-align: top;\n",
       "    }\n",
       "\n",
       "    .dataframe thead th {\n",
       "        text-align: right;\n",
       "    }\n",
       "</style>\n",
       "<table border=\"1\" class=\"dataframe\">\n",
       "  <thead>\n",
       "    <tr style=\"text-align: right;\">\n",
       "      <th></th>\n",
       "      <th>PassengerId</th>\n",
       "      <th>Survived</th>\n",
       "      <th>Pclass</th>\n",
       "      <th>Sex</th>\n",
       "      <th>Age</th>\n",
       "      <th>Fare</th>\n",
       "      <th>Embarked</th>\n",
       "    </tr>\n",
       "  </thead>\n",
       "  <tbody>\n",
       "    <tr>\n",
       "      <th>0</th>\n",
       "      <td>1</td>\n",
       "      <td>0</td>\n",
       "      <td>3</td>\n",
       "      <td>male</td>\n",
       "      <td>22.0</td>\n",
       "      <td>7.2500</td>\n",
       "      <td>S</td>\n",
       "    </tr>\n",
       "    <tr>\n",
       "      <th>1</th>\n",
       "      <td>2</td>\n",
       "      <td>1</td>\n",
       "      <td>1</td>\n",
       "      <td>female</td>\n",
       "      <td>38.0</td>\n",
       "      <td>71.2833</td>\n",
       "      <td>C</td>\n",
       "    </tr>\n",
       "    <tr>\n",
       "      <th>2</th>\n",
       "      <td>3</td>\n",
       "      <td>1</td>\n",
       "      <td>3</td>\n",
       "      <td>female</td>\n",
       "      <td>26.0</td>\n",
       "      <td>7.9250</td>\n",
       "      <td>S</td>\n",
       "    </tr>\n",
       "    <tr>\n",
       "      <th>3</th>\n",
       "      <td>4</td>\n",
       "      <td>1</td>\n",
       "      <td>1</td>\n",
       "      <td>female</td>\n",
       "      <td>35.0</td>\n",
       "      <td>53.1000</td>\n",
       "      <td>S</td>\n",
       "    </tr>\n",
       "    <tr>\n",
       "      <th>4</th>\n",
       "      <td>5</td>\n",
       "      <td>0</td>\n",
       "      <td>3</td>\n",
       "      <td>male</td>\n",
       "      <td>35.0</td>\n",
       "      <td>8.0500</td>\n",
       "      <td>S</td>\n",
       "    </tr>\n",
       "  </tbody>\n",
       "</table>\n",
       "</div>"
      ],
      "text/plain": [
       "   PassengerId  Survived  Pclass     Sex   Age     Fare Embarked\n",
       "0            1         0       3    male  22.0   7.2500        S\n",
       "1            2         1       1  female  38.0  71.2833        C\n",
       "2            3         1       3  female  26.0   7.9250        S\n",
       "3            4         1       1  female  35.0  53.1000        S\n",
       "4            5         0       3    male  35.0   8.0500        S"
      ]
     },
     "execution_count": 8,
     "metadata": {},
     "output_type": "execute_result"
    }
   ],
   "source": [
    "dff.head(5)"
   ]
  },
  {
   "cell_type": "code",
   "execution_count": 9,
   "id": "d0d8d8a8",
   "metadata": {},
   "outputs": [
    {
     "data": {
      "text/plain": [
       "PassengerId      0\n",
       "Survived         0\n",
       "Pclass           0\n",
       "Sex              0\n",
       "Age            177\n",
       "Fare             0\n",
       "Embarked         2\n",
       "dtype: int64"
      ]
     },
     "execution_count": 9,
     "metadata": {},
     "output_type": "execute_result"
    }
   ],
   "source": [
    "dff.isnull().sum()"
   ]
  },
  {
   "cell_type": "code",
   "execution_count": 10,
   "id": "b6f86f2f",
   "metadata": {},
   "outputs": [
    {
     "data": {
      "text/html": [
       "<div>\n",
       "<style scoped>\n",
       "    .dataframe tbody tr th:only-of-type {\n",
       "        vertical-align: middle;\n",
       "    }\n",
       "\n",
       "    .dataframe tbody tr th {\n",
       "        vertical-align: top;\n",
       "    }\n",
       "\n",
       "    .dataframe thead th {\n",
       "        text-align: right;\n",
       "    }\n",
       "</style>\n",
       "<table border=\"1\" class=\"dataframe\">\n",
       "  <thead>\n",
       "    <tr style=\"text-align: right;\">\n",
       "      <th></th>\n",
       "      <th>PassengerId</th>\n",
       "      <th>Survived</th>\n",
       "      <th>Pclass</th>\n",
       "      <th>Sex</th>\n",
       "      <th>Age</th>\n",
       "      <th>Fare</th>\n",
       "      <th>Embarked</th>\n",
       "    </tr>\n",
       "  </thead>\n",
       "  <tbody>\n",
       "    <tr>\n",
       "      <th>0</th>\n",
       "      <td>1</td>\n",
       "      <td>0</td>\n",
       "      <td>3</td>\n",
       "      <td>male</td>\n",
       "      <td>22.0</td>\n",
       "      <td>7.2500</td>\n",
       "      <td>S</td>\n",
       "    </tr>\n",
       "    <tr>\n",
       "      <th>1</th>\n",
       "      <td>2</td>\n",
       "      <td>1</td>\n",
       "      <td>1</td>\n",
       "      <td>female</td>\n",
       "      <td>38.0</td>\n",
       "      <td>71.2833</td>\n",
       "      <td>C</td>\n",
       "    </tr>\n",
       "    <tr>\n",
       "      <th>2</th>\n",
       "      <td>3</td>\n",
       "      <td>1</td>\n",
       "      <td>3</td>\n",
       "      <td>female</td>\n",
       "      <td>26.0</td>\n",
       "      <td>7.9250</td>\n",
       "      <td>S</td>\n",
       "    </tr>\n",
       "    <tr>\n",
       "      <th>3</th>\n",
       "      <td>4</td>\n",
       "      <td>1</td>\n",
       "      <td>1</td>\n",
       "      <td>female</td>\n",
       "      <td>35.0</td>\n",
       "      <td>53.1000</td>\n",
       "      <td>S</td>\n",
       "    </tr>\n",
       "    <tr>\n",
       "      <th>4</th>\n",
       "      <td>5</td>\n",
       "      <td>0</td>\n",
       "      <td>3</td>\n",
       "      <td>male</td>\n",
       "      <td>35.0</td>\n",
       "      <td>8.0500</td>\n",
       "      <td>S</td>\n",
       "    </tr>\n",
       "    <tr>\n",
       "      <th>...</th>\n",
       "      <td>...</td>\n",
       "      <td>...</td>\n",
       "      <td>...</td>\n",
       "      <td>...</td>\n",
       "      <td>...</td>\n",
       "      <td>...</td>\n",
       "      <td>...</td>\n",
       "    </tr>\n",
       "    <tr>\n",
       "      <th>886</th>\n",
       "      <td>887</td>\n",
       "      <td>0</td>\n",
       "      <td>2</td>\n",
       "      <td>male</td>\n",
       "      <td>27.0</td>\n",
       "      <td>13.0000</td>\n",
       "      <td>S</td>\n",
       "    </tr>\n",
       "    <tr>\n",
       "      <th>887</th>\n",
       "      <td>888</td>\n",
       "      <td>1</td>\n",
       "      <td>1</td>\n",
       "      <td>female</td>\n",
       "      <td>19.0</td>\n",
       "      <td>30.0000</td>\n",
       "      <td>S</td>\n",
       "    </tr>\n",
       "    <tr>\n",
       "      <th>888</th>\n",
       "      <td>889</td>\n",
       "      <td>0</td>\n",
       "      <td>3</td>\n",
       "      <td>female</td>\n",
       "      <td>NaN</td>\n",
       "      <td>23.4500</td>\n",
       "      <td>S</td>\n",
       "    </tr>\n",
       "    <tr>\n",
       "      <th>889</th>\n",
       "      <td>890</td>\n",
       "      <td>1</td>\n",
       "      <td>1</td>\n",
       "      <td>male</td>\n",
       "      <td>26.0</td>\n",
       "      <td>30.0000</td>\n",
       "      <td>C</td>\n",
       "    </tr>\n",
       "    <tr>\n",
       "      <th>890</th>\n",
       "      <td>891</td>\n",
       "      <td>0</td>\n",
       "      <td>3</td>\n",
       "      <td>male</td>\n",
       "      <td>32.0</td>\n",
       "      <td>7.7500</td>\n",
       "      <td>Q</td>\n",
       "    </tr>\n",
       "  </tbody>\n",
       "</table>\n",
       "<p>891 rows × 7 columns</p>\n",
       "</div>"
      ],
      "text/plain": [
       "     PassengerId  Survived  Pclass     Sex   Age     Fare Embarked\n",
       "0              1         0       3    male  22.0   7.2500        S\n",
       "1              2         1       1  female  38.0  71.2833        C\n",
       "2              3         1       3  female  26.0   7.9250        S\n",
       "3              4         1       1  female  35.0  53.1000        S\n",
       "4              5         0       3    male  35.0   8.0500        S\n",
       "..           ...       ...     ...     ...   ...      ...      ...\n",
       "886          887         0       2    male  27.0  13.0000        S\n",
       "887          888         1       1  female  19.0  30.0000        S\n",
       "888          889         0       3  female   NaN  23.4500        S\n",
       "889          890         1       1    male  26.0  30.0000        C\n",
       "890          891         0       3    male  32.0   7.7500        Q\n",
       "\n",
       "[891 rows x 7 columns]"
      ]
     },
     "execution_count": 10,
     "metadata": {},
     "output_type": "execute_result"
    }
   ],
   "source": [
    "dff"
   ]
  },
  {
   "cell_type": "code",
   "execution_count": 11,
   "id": "0581b42e",
   "metadata": {},
   "outputs": [],
   "source": [
    "df_gr = dff.groupby(\"Sex\")\n",
    "\n",
    "df_male = df_gr.get_group('male') "
   ]
  },
  {
   "cell_type": "code",
   "execution_count": 12,
   "id": "8652aaac",
   "metadata": {},
   "outputs": [
    {
     "data": {
      "text/html": [
       "<div>\n",
       "<style scoped>\n",
       "    .dataframe tbody tr th:only-of-type {\n",
       "        vertical-align: middle;\n",
       "    }\n",
       "\n",
       "    .dataframe tbody tr th {\n",
       "        vertical-align: top;\n",
       "    }\n",
       "\n",
       "    .dataframe thead th {\n",
       "        text-align: right;\n",
       "    }\n",
       "</style>\n",
       "<table border=\"1\" class=\"dataframe\">\n",
       "  <thead>\n",
       "    <tr style=\"text-align: right;\">\n",
       "      <th></th>\n",
       "      <th>PassengerId</th>\n",
       "      <th>Survived</th>\n",
       "      <th>Pclass</th>\n",
       "      <th>Sex</th>\n",
       "      <th>Age</th>\n",
       "      <th>Fare</th>\n",
       "      <th>Embarked</th>\n",
       "    </tr>\n",
       "  </thead>\n",
       "  <tbody>\n",
       "    <tr>\n",
       "      <th>0</th>\n",
       "      <td>1</td>\n",
       "      <td>0</td>\n",
       "      <td>3</td>\n",
       "      <td>male</td>\n",
       "      <td>22.0</td>\n",
       "      <td>7.2500</td>\n",
       "      <td>S</td>\n",
       "    </tr>\n",
       "    <tr>\n",
       "      <th>4</th>\n",
       "      <td>5</td>\n",
       "      <td>0</td>\n",
       "      <td>3</td>\n",
       "      <td>male</td>\n",
       "      <td>35.0</td>\n",
       "      <td>8.0500</td>\n",
       "      <td>S</td>\n",
       "    </tr>\n",
       "    <tr>\n",
       "      <th>5</th>\n",
       "      <td>6</td>\n",
       "      <td>0</td>\n",
       "      <td>3</td>\n",
       "      <td>male</td>\n",
       "      <td>NaN</td>\n",
       "      <td>8.4583</td>\n",
       "      <td>Q</td>\n",
       "    </tr>\n",
       "    <tr>\n",
       "      <th>6</th>\n",
       "      <td>7</td>\n",
       "      <td>0</td>\n",
       "      <td>1</td>\n",
       "      <td>male</td>\n",
       "      <td>54.0</td>\n",
       "      <td>51.8625</td>\n",
       "      <td>S</td>\n",
       "    </tr>\n",
       "    <tr>\n",
       "      <th>7</th>\n",
       "      <td>8</td>\n",
       "      <td>0</td>\n",
       "      <td>3</td>\n",
       "      <td>male</td>\n",
       "      <td>2.0</td>\n",
       "      <td>21.0750</td>\n",
       "      <td>S</td>\n",
       "    </tr>\n",
       "    <tr>\n",
       "      <th>12</th>\n",
       "      <td>13</td>\n",
       "      <td>0</td>\n",
       "      <td>3</td>\n",
       "      <td>male</td>\n",
       "      <td>20.0</td>\n",
       "      <td>8.0500</td>\n",
       "      <td>S</td>\n",
       "    </tr>\n",
       "  </tbody>\n",
       "</table>\n",
       "</div>"
      ],
      "text/plain": [
       "    PassengerId  Survived  Pclass   Sex   Age     Fare Embarked\n",
       "0             1         0       3  male  22.0   7.2500        S\n",
       "4             5         0       3  male  35.0   8.0500        S\n",
       "5             6         0       3  male   NaN   8.4583        Q\n",
       "6             7         0       1  male  54.0  51.8625        S\n",
       "7             8         0       3  male   2.0  21.0750        S\n",
       "12           13         0       3  male  20.0   8.0500        S"
      ]
     },
     "execution_count": 12,
     "metadata": {},
     "output_type": "execute_result"
    }
   ],
   "source": [
    "df_male.head(6)"
   ]
  },
  {
   "cell_type": "code",
   "execution_count": 13,
   "id": "fbee0a08",
   "metadata": {},
   "outputs": [],
   "source": [
    "# Extracting all rows with \"0\", and \"1\" wrt Survived coloumn\n",
    "\n",
    "dff_Suviv= dff[(dff.Survived == 1)]\n",
    "\n",
    "dff_Dead= dff[(dff.Survived == 0)]"
   ]
  },
  {
   "cell_type": "code",
   "execution_count": 14,
   "id": "1fa264ee",
   "metadata": {},
   "outputs": [
    {
     "data": {
      "text/plain": [
       "0"
      ]
     },
     "execution_count": 14,
     "metadata": {},
     "output_type": "execute_result"
    }
   ],
   "source": [
    "\n",
    "dff_Dead['Survived'].sum()"
   ]
  },
  {
   "cell_type": "code",
   "execution_count": 15,
   "id": "c7a25a29",
   "metadata": {},
   "outputs": [
    {
     "data": {
      "text/html": [
       "<div>\n",
       "<style scoped>\n",
       "    .dataframe tbody tr th:only-of-type {\n",
       "        vertical-align: middle;\n",
       "    }\n",
       "\n",
       "    .dataframe tbody tr th {\n",
       "        vertical-align: top;\n",
       "    }\n",
       "\n",
       "    .dataframe thead th {\n",
       "        text-align: right;\n",
       "    }\n",
       "</style>\n",
       "<table border=\"1\" class=\"dataframe\">\n",
       "  <thead>\n",
       "    <tr style=\"text-align: right;\">\n",
       "      <th></th>\n",
       "      <th>PassengerId</th>\n",
       "      <th>Survived</th>\n",
       "      <th>Pclass</th>\n",
       "      <th>Sex</th>\n",
       "      <th>Age</th>\n",
       "      <th>Fare</th>\n",
       "      <th>Embarked</th>\n",
       "    </tr>\n",
       "  </thead>\n",
       "  <tbody>\n",
       "    <tr>\n",
       "      <th>0</th>\n",
       "      <td>1</td>\n",
       "      <td>0</td>\n",
       "      <td>3</td>\n",
       "      <td>male</td>\n",
       "      <td>22.0</td>\n",
       "      <td>7.2500</td>\n",
       "      <td>S</td>\n",
       "    </tr>\n",
       "    <tr>\n",
       "      <th>4</th>\n",
       "      <td>5</td>\n",
       "      <td>0</td>\n",
       "      <td>3</td>\n",
       "      <td>male</td>\n",
       "      <td>35.0</td>\n",
       "      <td>8.0500</td>\n",
       "      <td>S</td>\n",
       "    </tr>\n",
       "    <tr>\n",
       "      <th>5</th>\n",
       "      <td>6</td>\n",
       "      <td>0</td>\n",
       "      <td>3</td>\n",
       "      <td>male</td>\n",
       "      <td>NaN</td>\n",
       "      <td>8.4583</td>\n",
       "      <td>Q</td>\n",
       "    </tr>\n",
       "    <tr>\n",
       "      <th>6</th>\n",
       "      <td>7</td>\n",
       "      <td>0</td>\n",
       "      <td>1</td>\n",
       "      <td>male</td>\n",
       "      <td>54.0</td>\n",
       "      <td>51.8625</td>\n",
       "      <td>S</td>\n",
       "    </tr>\n",
       "    <tr>\n",
       "      <th>7</th>\n",
       "      <td>8</td>\n",
       "      <td>0</td>\n",
       "      <td>3</td>\n",
       "      <td>male</td>\n",
       "      <td>2.0</td>\n",
       "      <td>21.0750</td>\n",
       "      <td>S</td>\n",
       "    </tr>\n",
       "  </tbody>\n",
       "</table>\n",
       "</div>"
      ],
      "text/plain": [
       "   PassengerId  Survived  Pclass   Sex   Age     Fare Embarked\n",
       "0            1         0       3  male  22.0   7.2500        S\n",
       "4            5         0       3  male  35.0   8.0500        S\n",
       "5            6         0       3  male   NaN   8.4583        Q\n",
       "6            7         0       1  male  54.0  51.8625        S\n",
       "7            8         0       3  male   2.0  21.0750        S"
      ]
     },
     "execution_count": 15,
     "metadata": {},
     "output_type": "execute_result"
    }
   ],
   "source": [
    "dff_Dead.head(5)"
   ]
  },
  {
   "cell_type": "code",
   "execution_count": 16,
   "id": "68a4b33e",
   "metadata": {},
   "outputs": [
    {
     "data": {
      "text/plain": [
       "(array([  0., 100., 200., 300., 400., 500., 600.]),\n",
       " [Text(0, 0, ''),\n",
       "  Text(0, 0, ''),\n",
       "  Text(0, 0, ''),\n",
       "  Text(0, 0, ''),\n",
       "  Text(0, 0, ''),\n",
       "  Text(0, 0, ''),\n",
       "  Text(0, 0, '')])"
      ]
     },
     "execution_count": 16,
     "metadata": {},
     "output_type": "execute_result"
    },
    {
     "data": {
      "image/png": "[encoded data removed]",
      "text/plain": [
       "<Figure size 432x288 with 1 Axes>"
      ]
     },
     "metadata": {},
     "output_type": "display_data"
    }
   ],
   "source": [
    "import seaborn as sns\n",
    "import matplotlib.pyplot as plt\n",
    "\n",
    "sns.set_theme(style=\"darkgrid\")\n",
    "\n",
    "ax = sns.countplot(x=\"Survived\", data=dff)\n",
    "\n",
    "ax.set_xticklabels(['Dead','Survived'])\n",
    "\n",
    "plt.xlabel('Unsurvived / Survived',fontsize=20,color='b')\n",
    "plt.ylabel('Count',fontsize=20,color='b')\n",
    "plt.xticks(fontsize=15)\n",
    "plt.yticks(fontsize=15)"
   ]
  },
  {
   "cell_type": "code",
   "execution_count": 17,
   "id": "d0cadc69",
   "metadata": {},
   "outputs": [],
   "source": [
    "\n",
    "# Calculate the proportion of surviving 1st class passengers with regards to the total number of 1st class passengers.\n",
    "\n",
    "\n",
    "#To indicate passangers in First Class \n",
    "dff_Suviv_Pclass= dff[(dff.Pclass == 1)]\n",
    "\n",
    "#Total count of passangers in First Class\n",
    "Total_FistClass_count=dff_Suviv_Pclass['Pclass'].value_counts()\n",
    "\n",
    "#Total count of passangers in First Class that survived\n",
    "Total_Suviv_Pclass= dff_Suviv_Pclass[(dff_Suviv_Pclass.Survived == 1)]\n",
    "\n",
    "Total_Surviv_FistClass_count=Total_Suviv_Pclass['Survived'].value_counts()\n",
    "\n"
   ]
  },
  {
   "cell_type": "code",
   "execution_count": 18,
   "id": "bab0b3b7",
   "metadata": {},
   "outputs": [
    {
     "data": {
      "text/html": [
       "<div>\n",
       "<style scoped>\n",
       "    .dataframe tbody tr th:only-of-type {\n",
       "        vertical-align: middle;\n",
       "    }\n",
       "\n",
       "    .dataframe tbody tr th {\n",
       "        vertical-align: top;\n",
       "    }\n",
       "\n",
       "    .dataframe thead th {\n",
       "        text-align: right;\n",
       "    }\n",
       "</style>\n",
       "<table border=\"1\" class=\"dataframe\">\n",
       "  <thead>\n",
       "    <tr style=\"text-align: right;\">\n",
       "      <th></th>\n",
       "      <th>PassengerId</th>\n",
       "      <th>Survived</th>\n",
       "      <th>Pclass</th>\n",
       "      <th>Sex</th>\n",
       "      <th>Age</th>\n",
       "      <th>Fare</th>\n",
       "      <th>Embarked</th>\n",
       "    </tr>\n",
       "  </thead>\n",
       "  <tbody>\n",
       "    <tr>\n",
       "      <th>1</th>\n",
       "      <td>2</td>\n",
       "      <td>1</td>\n",
       "      <td>1</td>\n",
       "      <td>female</td>\n",
       "      <td>38.0</td>\n",
       "      <td>71.2833</td>\n",
       "      <td>C</td>\n",
       "    </tr>\n",
       "    <tr>\n",
       "      <th>3</th>\n",
       "      <td>4</td>\n",
       "      <td>1</td>\n",
       "      <td>1</td>\n",
       "      <td>female</td>\n",
       "      <td>35.0</td>\n",
       "      <td>53.1000</td>\n",
       "      <td>S</td>\n",
       "    </tr>\n",
       "    <tr>\n",
       "      <th>11</th>\n",
       "      <td>12</td>\n",
       "      <td>1</td>\n",
       "      <td>1</td>\n",
       "      <td>female</td>\n",
       "      <td>58.0</td>\n",
       "      <td>26.5500</td>\n",
       "      <td>S</td>\n",
       "    </tr>\n",
       "  </tbody>\n",
       "</table>\n",
       "</div>"
      ],
      "text/plain": [
       "    PassengerId  Survived  Pclass     Sex   Age     Fare Embarked\n",
       "1             2         1       1  female  38.0  71.2833        C\n",
       "3             4         1       1  female  35.0  53.1000        S\n",
       "11           12         1       1  female  58.0  26.5500        S"
      ]
     },
     "execution_count": 18,
     "metadata": {},
     "output_type": "execute_result"
    }
   ],
   "source": [
    "Total_Suviv_Pclass.head(3)"
   ]
  },
  {
   "cell_type": "code",
   "execution_count": 19,
   "id": "b7afa812",
   "metadata": {},
   "outputs": [],
   "source": [
    "# Proportion of surviving 1st class passengers\n",
    "Proportion=Total_Surviv_FistClass_count / Total_FistClass_count"
   ]
  },
  {
   "cell_type": "code",
   "execution_count": 20,
   "id": "0cb4c191",
   "metadata": {},
   "outputs": [
    {
     "data": {
      "text/plain": [
       "1    0.62963\n",
       "dtype: float64"
      ]
     },
     "execution_count": 20,
     "metadata": {},
     "output_type": "execute_result"
    }
   ],
   "source": [
    "Proportion"
   ]
  },
  {
   "cell_type": "code",
   "execution_count": 21,
   "id": "307e8c10",
   "metadata": {},
   "outputs": [],
   "source": [
    "# Short way\n",
    "Prop2=dff[dff['Pclass']==1]['Survived'].value_counts(normalize=True)[1]"
   ]
  },
  {
   "cell_type": "code",
   "execution_count": 22,
   "id": "65c71684",
   "metadata": {},
   "outputs": [
    {
     "data": {
      "text/plain": [
       "array([3, 1, 2], dtype=int64)"
      ]
     },
     "execution_count": 22,
     "metadata": {},
     "output_type": "execute_result"
    }
   ],
   "source": [
    "# To know the unique values in Pclass\n",
    "dff.Pclass.unique()"
   ]
  },
  {
   "cell_type": "markdown",
   "id": "fdf433ea",
   "metadata": {},
   "source": [
    "# Bar plot for male/female passengers and 1st/2nd/3rd class passengers."
   ]
  },
  {
   "cell_type": "code",
   "execution_count": 23,
   "id": "9c9d6546",
   "metadata": {},
   "outputs": [
    {
     "name": "stderr",
     "output_type": "stream",
     "text": [
      "C:\\Users\\seun\\anaconda3\\lib\\site-packages\\pandas\\core\\indexing.py:1676: SettingWithCopyWarning: \n",
      "A value is trying to be set on a copy of a slice from a DataFrame.\n",
      "Try using .loc[row_indexer,col_indexer] = value instead\n",
      "\n",
      "See the caveats in the documentation: https://pandas.pydata.org/pandas-docs/stable/user_guide/indexing.html#returning-a-view-versus-a-copy\n",
      "  self._setitem_single_column(ilocs[0], value, pi)\n"
     ]
    },
    {
     "data": {
      "text/plain": [
       "<matplotlib.legend.Legend at 0x1ffe6b97190>"
      ]
     },
     "execution_count": 23,
     "metadata": {},
     "output_type": "execute_result"
    },
    {
     "data": {
      "image/png": "[encoded data removed]",
      "text/plain": [
       "<Figure size 432x288 with 1 Axes>"
      ]
     },
     "metadata": {},
     "output_type": "display_data"
    }
   ],
   "source": [
    "#Create a bar plot with separate bars for male/female passengers and 1st/2nd/3rd class passengers.\n",
    "\n",
    "# First indicate male passangers with 1, and female passangers with 0 \n",
    "\n",
    "dff.replace({'Sex':{'male':1,'female':0}},inplace=True)\n",
    "\n",
    "dff.head(4)\n",
    "\n",
    "df_group = dff.groupby(['Pclass','Sex'])['Sex'].count()\n",
    "df_group.unstack().plot(kind='bar')\n",
    "\n",
    "plt.xlabel('Pclass',fontsize=20,color='k')\n",
    "plt.ylabel('Count',fontsize=20,color='k')\n",
    "plt.xticks(fontsize=15)\n",
    "plt.yticks(fontsize=15)\n",
    "\n",
    "plt.legend(['Female', 'Male'],fontsize=15)"
   ]
  },
  {
   "cell_type": "code",
   "execution_count": null,
   "id": "bb12277d",
   "metadata": {},
   "outputs": [],
   "source": []
  },
  {
   "cell_type": "code",
   "execution_count": 24,
   "id": "d130444f",
   "metadata": {},
   "outputs": [
    {
     "data": {
      "text/plain": [
       "<matplotlib.legend.Legend at 0x1ffece1e910>"
      ]
     },
     "execution_count": 24,
     "metadata": {},
     "output_type": "execute_result"
    },
    {
     "data": {
      "image/png": "[encoded data removed]",
      "text/plain": [
       "<Figure size 576x432 with 1 Axes>"
      ]
     },
     "metadata": {},
     "output_type": "display_data"
    }
   ],
   "source": [
    "# Histogram showing the age distribution of passengers. Compare surviving/non-surviving passengers.\n",
    "\n",
    "\n",
    "plt.figure(figsize=(8,6))\n",
    "plt.hist(dff['Age'][dff['Survived']==1],alpha=0.6)\n",
    "plt.hist(dff['Age'][dff['Survived']==0],alpha=0.6)\n",
    "plt.xlabel('Age',fontsize=20,color='k')\n",
    "plt.ylabel('Count',fontsize=20,color='k')\n",
    "plt.xticks(fontsize=15)\n",
    "plt.yticks(fontsize=15)\n",
    "plt.title(\"Age distribution of Surviving/Non-Surviving Passengers\",fontsize=18)\n",
    "\n",
    "plt.legend(['Surviving', 'Non-Surviving'],fontsize=15)\n"
   ]
  },
  {
   "cell_type": "markdown",
   "id": "b3081bac",
   "metadata": {},
   "source": [
    "# Computing the average age for the survived & drowned passengers "
   ]
  },
  {
   "cell_type": "code",
   "execution_count": 25,
   "id": "98bad1b8",
   "metadata": {},
   "outputs": [
    {
     "name": "stderr",
     "output_type": "stream",
     "text": [
      "C:\\Users\\seun\\anaconda3\\lib\\site-packages\\pandas\\core\\indexing.py:1676: SettingWithCopyWarning: \n",
      "A value is trying to be set on a copy of a slice from a DataFrame.\n",
      "Try using .loc[row_indexer,col_indexer] = value instead\n",
      "\n",
      "See the caveats in the documentation: https://pandas.pydata.org/pandas-docs/stable/user_guide/indexing.html#returning-a-view-versus-a-copy\n",
      "  self._setitem_single_column(ilocs[0], value, pi)\n"
     ]
    }
   ],
   "source": [
    "dff.replace({'Sex':{'male':1,'female':0}},inplace=True)\n"
   ]
  },
  {
   "cell_type": "code",
   "execution_count": 26,
   "id": "b36ca19a",
   "metadata": {},
   "outputs": [],
   "source": [
    "# Calculate the average age for survived .\n",
    "\n",
    "dff_All_Suviv= dff[(dff.Survived == 1)]\n",
    "dff_All_Suviv.head(4)\n",
    "\n",
    "Ave_dff_Suviv=dff_All_Suviv['Age'].mean()\n"
   ]
  },
  {
   "cell_type": "code",
   "execution_count": 27,
   "id": "fa2cc413",
   "metadata": {},
   "outputs": [],
   "source": [
    "# Calculate the average age for drowned passengers (Dead).\n",
    "\n",
    "dff_All_Drowned= dff[(dff.Survived == 0)]\n",
    "dff_All_Drowned.head(4)\n",
    "\n",
    "Ave_dff_Drowned=dff_All_Drowned['Age'].mean()"
   ]
  },
  {
   "cell_type": "code",
   "execution_count": 28,
   "id": "a1061fb6",
   "metadata": {},
   "outputs": [
    {
     "name": "stdout",
     "output_type": "stream",
     "text": [
      "28.343689655172415\n",
      "30.62617924528302\n"
     ]
    }
   ],
   "source": [
    "print (Ave_dff_Suviv)\n",
    "print (Ave_dff_Drowned)"
   ]
  },
  {
   "cell_type": "code",
   "execution_count": 29,
   "id": "7d8a321c",
   "metadata": {},
   "outputs": [
    {
     "name": "stderr",
     "output_type": "stream",
     "text": [
      "C:\\Users\\seun\\anaconda3\\lib\\site-packages\\pandas\\core\\series.py:4463: SettingWithCopyWarning: \n",
      "A value is trying to be set on a copy of a slice from a DataFrame\n",
      "\n",
      "See the caveats in the documentation: https://pandas.pydata.org/pandas-docs/stable/user_guide/indexing.html#returning-a-view-versus-a-copy\n",
      "  return super().fillna(\n"
     ]
    }
   ],
   "source": [
    "# Replace missing age values having NaN with the mean age.\n",
    "\n",
    "dff['Age'].fillna(dff['Age'].mean(),inplace =True)"
   ]
  },
  {
   "cell_type": "code",
   "execution_count": 30,
   "id": "eaf70cc9",
   "metadata": {},
   "outputs": [
    {
     "data": {
      "text/html": [
       "<div>\n",
       "<style scoped>\n",
       "    .dataframe tbody tr th:only-of-type {\n",
       "        vertical-align: middle;\n",
       "    }\n",
       "\n",
       "    .dataframe tbody tr th {\n",
       "        vertical-align: top;\n",
       "    }\n",
       "\n",
       "    .dataframe thead th {\n",
       "        text-align: right;\n",
       "    }\n",
       "</style>\n",
       "<table border=\"1\" class=\"dataframe\">\n",
       "  <thead>\n",
       "    <tr style=\"text-align: right;\">\n",
       "      <th></th>\n",
       "      <th>PassengerId</th>\n",
       "      <th>Survived</th>\n",
       "      <th>Pclass</th>\n",
       "      <th>Sex</th>\n",
       "      <th>Age</th>\n",
       "      <th>Fare</th>\n",
       "      <th>Embarked</th>\n",
       "    </tr>\n",
       "  </thead>\n",
       "  <tbody>\n",
       "    <tr>\n",
       "      <th>0</th>\n",
       "      <td>1</td>\n",
       "      <td>0</td>\n",
       "      <td>3</td>\n",
       "      <td>1</td>\n",
       "      <td>22.0</td>\n",
       "      <td>7.2500</td>\n",
       "      <td>S</td>\n",
       "    </tr>\n",
       "    <tr>\n",
       "      <th>1</th>\n",
       "      <td>2</td>\n",
       "      <td>1</td>\n",
       "      <td>1</td>\n",
       "      <td>0</td>\n",
       "      <td>38.0</td>\n",
       "      <td>71.2833</td>\n",
       "      <td>C</td>\n",
       "    </tr>\n",
       "    <tr>\n",
       "      <th>2</th>\n",
       "      <td>3</td>\n",
       "      <td>1</td>\n",
       "      <td>3</td>\n",
       "      <td>0</td>\n",
       "      <td>26.0</td>\n",
       "      <td>7.9250</td>\n",
       "      <td>S</td>\n",
       "    </tr>\n",
       "  </tbody>\n",
       "</table>\n",
       "</div>"
      ],
      "text/plain": [
       "   PassengerId  Survived  Pclass  Sex   Age     Fare Embarked\n",
       "0            1         0       3    1  22.0   7.2500        S\n",
       "1            2         1       1    0  38.0  71.2833        C\n",
       "2            3         1       3    0  26.0   7.9250        S"
      ]
     },
     "execution_count": 30,
     "metadata": {},
     "output_type": "execute_result"
    }
   ],
   "source": [
    "dff.head(3)"
   ]
  },
  {
   "cell_type": "code",
   "execution_count": 31,
   "id": "a1846de7",
   "metadata": {},
   "outputs": [
    {
     "name": "stdout",
     "output_type": "stream",
     "text": [
      "Pclass      1   2    3\n",
      "Survived              \n",
      "0          80  97  372\n",
      "1         136  87  119\n",
      "\n",
      "Sex         0    1\n",
      "Survived          \n",
      "0          81  468\n",
      "1         233  109\n",
      "\n",
      "Embarked   C   Q    S\n",
      "Survived             \n",
      "0         75  47  427\n",
      "1         93  30  217\n",
      "\n"
     ]
    }
   ],
   "source": [
    "# Table for counting the number of surviving/dead passengers separately for 1st/2nd/3rd class and male/female.\n",
    "\n",
    "# Create a table counting the number of surviving/dead passengers separately for 1st/2nd/3rd class and male/female.\n",
    "\n",
    "print(pd.pivot_table(dff, index = 'Survived', columns = 'Pclass',values = 'PassengerId', aggfunc ='count'))\n",
    "print()\n",
    "\n",
    "\n",
    "print(pd.pivot_table(dff, index = 'Survived', columns = 'Sex',values = 'PassengerId', aggfunc ='count'))\n",
    "print()\n",
    "\n",
    "print(pd.pivot_table(dff, index = 'Survived', columns = 'Embarked',values = 'PassengerId', aggfunc ='count'))\n",
    "print()\n"
   ]
  },
  {
   "cell_type": "code",
   "execution_count": 32,
   "id": "b52bcaf3",
   "metadata": {},
   "outputs": [
    {
     "data": {
      "text/html": [
       "<div>\n",
       "<style scoped>\n",
       "    .dataframe tbody tr th:only-of-type {\n",
       "        vertical-align: middle;\n",
       "    }\n",
       "\n",
       "    .dataframe tbody tr th {\n",
       "        vertical-align: top;\n",
       "    }\n",
       "\n",
       "    .dataframe thead th {\n",
       "        text-align: right;\n",
       "    }\n",
       "</style>\n",
       "<table border=\"1\" class=\"dataframe\">\n",
       "  <thead>\n",
       "    <tr style=\"text-align: right;\">\n",
       "      <th></th>\n",
       "      <th>PassengerId</th>\n",
       "      <th>Survived</th>\n",
       "      <th>Pclass</th>\n",
       "      <th>Sex</th>\n",
       "      <th>Age</th>\n",
       "      <th>Fare</th>\n",
       "      <th>Embarked</th>\n",
       "    </tr>\n",
       "  </thead>\n",
       "  <tbody>\n",
       "    <tr>\n",
       "      <th>0</th>\n",
       "      <td>1</td>\n",
       "      <td>0</td>\n",
       "      <td>3</td>\n",
       "      <td>1</td>\n",
       "      <td>22.0</td>\n",
       "      <td>7.2500</td>\n",
       "      <td>S</td>\n",
       "    </tr>\n",
       "    <tr>\n",
       "      <th>1</th>\n",
       "      <td>2</td>\n",
       "      <td>1</td>\n",
       "      <td>1</td>\n",
       "      <td>0</td>\n",
       "      <td>38.0</td>\n",
       "      <td>71.2833</td>\n",
       "      <td>C</td>\n",
       "    </tr>\n",
       "    <tr>\n",
       "      <th>2</th>\n",
       "      <td>3</td>\n",
       "      <td>1</td>\n",
       "      <td>3</td>\n",
       "      <td>0</td>\n",
       "      <td>26.0</td>\n",
       "      <td>7.9250</td>\n",
       "      <td>S</td>\n",
       "    </tr>\n",
       "  </tbody>\n",
       "</table>\n",
       "</div>"
      ],
      "text/plain": [
       "   PassengerId  Survived  Pclass  Sex   Age     Fare Embarked\n",
       "0            1         0       3    1  22.0   7.2500        S\n",
       "1            2         1       1    0  38.0  71.2833        C\n",
       "2            3         1       3    0  26.0   7.9250        S"
      ]
     },
     "execution_count": 32,
     "metadata": {},
     "output_type": "execute_result"
    }
   ],
   "source": [
    "dff.head(3)"
   ]
  },
  {
   "cell_type": "code",
   "execution_count": null,
   "id": "3d7ecb69",
   "metadata": {},
   "outputs": [],
   "source": []
  },
  {
   "cell_type": "markdown",
   "id": "1793cca2",
   "metadata": {},
   "source": [
    "## Exploratory Data Analysis (EDA)"
   ]
  },
  {
   "cell_type": "code",
   "execution_count": null,
   "id": "b7bf6f94",
   "metadata": {},
   "outputs": [],
   "source": []
  },
  {
   "cell_type": "code",
   "execution_count": 33,
   "id": "4be303f0",
   "metadata": {},
   "outputs": [
    {
     "data": {
      "text/html": [
       "<div>\n",
       "<style scoped>\n",
       "    .dataframe tbody tr th:only-of-type {\n",
       "        vertical-align: middle;\n",
       "    }\n",
       "\n",
       "    .dataframe tbody tr th {\n",
       "        vertical-align: top;\n",
       "    }\n",
       "\n",
       "    .dataframe thead th {\n",
       "        text-align: right;\n",
       "    }\n",
       "</style>\n",
       "<table border=\"1\" class=\"dataframe\">\n",
       "  <thead>\n",
       "    <tr style=\"text-align: right;\">\n",
       "      <th></th>\n",
       "      <th>PassengerId</th>\n",
       "      <th>Survived</th>\n",
       "      <th>Pclass</th>\n",
       "      <th>Name</th>\n",
       "      <th>Sex</th>\n",
       "      <th>Age</th>\n",
       "      <th>SibSp</th>\n",
       "      <th>Parch</th>\n",
       "      <th>Ticket</th>\n",
       "      <th>Fare</th>\n",
       "      <th>Cabin</th>\n",
       "      <th>Embarked</th>\n",
       "    </tr>\n",
       "  </thead>\n",
       "  <tbody>\n",
       "    <tr>\n",
       "      <th>0</th>\n",
       "      <td>1</td>\n",
       "      <td>0</td>\n",
       "      <td>3</td>\n",
       "      <td>Braund, Mr. Owen Harris</td>\n",
       "      <td>male</td>\n",
       "      <td>22.0</td>\n",
       "      <td>1</td>\n",
       "      <td>0</td>\n",
       "      <td>A/5 21171</td>\n",
       "      <td>7.2500</td>\n",
       "      <td>NaN</td>\n",
       "      <td>S</td>\n",
       "    </tr>\n",
       "    <tr>\n",
       "      <th>1</th>\n",
       "      <td>2</td>\n",
       "      <td>1</td>\n",
       "      <td>1</td>\n",
       "      <td>Cumings, Mrs. John Bradley (Florence Briggs Th...</td>\n",
       "      <td>female</td>\n",
       "      <td>38.0</td>\n",
       "      <td>1</td>\n",
       "      <td>0</td>\n",
       "      <td>PC 17599</td>\n",
       "      <td>71.2833</td>\n",
       "      <td>C85</td>\n",
       "      <td>C</td>\n",
       "    </tr>\n",
       "    <tr>\n",
       "      <th>2</th>\n",
       "      <td>3</td>\n",
       "      <td>1</td>\n",
       "      <td>3</td>\n",
       "      <td>Heikkinen, Miss. Laina</td>\n",
       "      <td>female</td>\n",
       "      <td>26.0</td>\n",
       "      <td>0</td>\n",
       "      <td>0</td>\n",
       "      <td>STON/O2. 3101282</td>\n",
       "      <td>7.9250</td>\n",
       "      <td>NaN</td>\n",
       "      <td>S</td>\n",
       "    </tr>\n",
       "    <tr>\n",
       "      <th>3</th>\n",
       "      <td>4</td>\n",
       "      <td>1</td>\n",
       "      <td>1</td>\n",
       "      <td>Futrelle, Mrs. Jacques Heath (Lily May Peel)</td>\n",
       "      <td>female</td>\n",
       "      <td>35.0</td>\n",
       "      <td>1</td>\n",
       "      <td>0</td>\n",
       "      <td>113803</td>\n",
       "      <td>53.1000</td>\n",
       "      <td>C123</td>\n",
       "      <td>S</td>\n",
       "    </tr>\n",
       "  </tbody>\n",
       "</table>\n",
       "</div>"
      ],
      "text/plain": [
       "   PassengerId  Survived  Pclass  \\\n",
       "0            1         0       3   \n",
       "1            2         1       1   \n",
       "2            3         1       3   \n",
       "3            4         1       1   \n",
       "\n",
       "                                                Name     Sex   Age  SibSp  \\\n",
       "0                            Braund, Mr. Owen Harris    male  22.0      1   \n",
       "1  Cumings, Mrs. John Bradley (Florence Briggs Th...  female  38.0      1   \n",
       "2                             Heikkinen, Miss. Laina  female  26.0      0   \n",
       "3       Futrelle, Mrs. Jacques Heath (Lily May Peel)  female  35.0      1   \n",
       "\n",
       "   Parch            Ticket     Fare Cabin Embarked  \n",
       "0      0         A/5 21171   7.2500   NaN        S  \n",
       "1      0          PC 17599  71.2833   C85        C  \n",
       "2      0  STON/O2. 3101282   7.9250   NaN        S  \n",
       "3      0            113803  53.1000  C123        S  "
      ]
     },
     "execution_count": 33,
     "metadata": {},
     "output_type": "execute_result"
    }
   ],
   "source": [
    "df.head(4)"
   ]
  },
  {
   "cell_type": "code",
   "execution_count": 34,
   "id": "bd4e5637",
   "metadata": {},
   "outputs": [
    {
     "data": {
      "text/plain": [
       "(891, 10)"
      ]
     },
     "execution_count": 34,
     "metadata": {},
     "output_type": "execute_result"
    }
   ],
   "source": [
    "dtrain = df[['PassengerId', 'Survived','Pclass','Sex','Age','SibSp','Parch','Ticket','Fare','Embarked']]\n",
    "\n",
    "dtrain.head(5)\n",
    "dtrain.shape"
   ]
  },
  {
   "cell_type": "code",
   "execution_count": 35,
   "id": "cb4278e2",
   "metadata": {},
   "outputs": [
    {
     "data": {
      "text/plain": [
       "array([0, 1, 2, 5, 3, 4, 6], dtype=int64)"
      ]
     },
     "execution_count": 35,
     "metadata": {},
     "output_type": "execute_result"
    }
   ],
   "source": [
    "dtrain['Parch'].unique()"
   ]
  },
  {
   "cell_type": "code",
   "execution_count": 36,
   "id": "5ac1e8a4",
   "metadata": {},
   "outputs": [
    {
     "data": {
      "image/png": "[encoded data removed]",
      "text/plain": [
       "<Figure size 432x432 with 2 Axes>"
      ]
     },
     "metadata": {},
     "output_type": "display_data"
    }
   ],
   "source": [
    "# Correlation matrix\n",
    "\n",
    "dt_Corr = df[['PassengerId', 'Survived','Pclass','Age','SibSp','Parch','Fare']]\n",
    "\n",
    "dt_Cor=dt_Corr .corr(method ='pearson')\n",
    "\n",
    "#dt_Cor.style.background_gradient(cmap='red').set_precision(2)\n",
    "\n",
    "plt.figure(figsize=(6, 6))\n",
    "sns.heatmap(dt_Cor, vmax=.8, linewidths=0.01,\n",
    "            square=True,annot=True,cmap='Blues',linecolor=\"red\")\n",
    "\n",
    "plt.title('Correlation between Survived features',fontsize=15);"
   ]
  },
  {
   "cell_type": "code",
   "execution_count": 37,
   "id": "dd9ca790",
   "metadata": {},
   "outputs": [
    {
     "data": {
      "image/png": "[encoded data removed]",
      "text/plain": [
       "<Figure size 432x432 with 2 Axes>"
      ]
     },
     "metadata": {},
     "output_type": "display_data"
    }
   ],
   "source": [
    "# Correlation matrix using heat map\n",
    "\n",
    "CorrMatrix = dt_Corr.corr()\n",
    "plt.figure(figsize=(6, 6))\n",
    "sns.heatmap(CorrMatrix, annot=True)\n",
    "plt.show()"
   ]
  },
  {
   "cell_type": "code",
   "execution_count": 38,
   "id": "ef4c7b51",
   "metadata": {},
   "outputs": [
    {
     "data": {
      "text/plain": [
       "array(['S', 'C', 'Q', nan], dtype=object)"
      ]
     },
     "execution_count": 38,
     "metadata": {},
     "output_type": "execute_result"
    }
   ],
   "source": [
    "dtrain.Embarked.unique()"
   ]
  },
  {
   "cell_type": "code",
   "execution_count": null,
   "id": "41b20638",
   "metadata": {},
   "outputs": [],
   "source": []
  },
  {
   "cell_type": "code",
   "execution_count": 39,
   "id": "1be91595",
   "metadata": {},
   "outputs": [],
   "source": [
    "# dtrain.replace({'Embarked':{'S':1,'C':2,'Q':3,'nan':4}},inplace=True)"
   ]
  },
  {
   "cell_type": "code",
   "execution_count": 40,
   "id": "0ce0387a",
   "metadata": {},
   "outputs": [],
   "source": [
    "# To create a ColumnTransformer\n",
    "# First, check for the sum of the missing values for every column\n",
    "\n",
    "\n"
   ]
  },
  {
   "cell_type": "code",
   "execution_count": 41,
   "id": "68aa3283",
   "metadata": {},
   "outputs": [],
   "source": [
    "# dtrain['Embarked'].dropna(inplace=True,axis=0)\n",
    "\n",
    "#dtrain['Age'].fillna(dtrain['Age'].mean(),inplace =True)"
   ]
  },
  {
   "cell_type": "code",
   "execution_count": null,
   "id": "07d0f918",
   "metadata": {},
   "outputs": [],
   "source": []
  },
  {
   "cell_type": "markdown",
   "id": "bf5a6c40",
   "metadata": {},
   "source": [
    "# Build a Logistic Regression model"
   ]
  },
  {
   "cell_type": "code",
   "execution_count": 42,
   "id": "5a7141b8",
   "metadata": {},
   "outputs": [
    {
     "data": {
      "text/plain": [
       "((668, 3), (223, 3), (668,), (223,))"
      ]
     },
     "execution_count": 42,
     "metadata": {},
     "output_type": "execute_result"
    }
   ],
   "source": [
    "dtrain=pd.read_csv('train.csv')\n",
    "\n",
    "X = dtrain[[\"Pclass\",\"Sex\",\"Age\"]]\n",
    "y = dtrain[\"Survived\"]\n",
    "\n",
    "X_train, X_test, y_train, y_test = train_test_split(X,y, random_state=42)\n",
    "X_train.shape, X_test.shape, y_train.shape, y_test.shape\n"
   ]
  },
  {
   "cell_type": "code",
   "execution_count": 43,
   "id": "1b1cb1b6",
   "metadata": {},
   "outputs": [
    {
     "data": {
      "text/plain": [
       "PassengerId      0\n",
       "Survived         0\n",
       "Pclass           0\n",
       "Name             0\n",
       "Sex              0\n",
       "Age            177\n",
       "SibSp            0\n",
       "Parch            0\n",
       "Ticket           0\n",
       "Fare             0\n",
       "Cabin          687\n",
       "Embarked         2\n",
       "dtype: int64"
      ]
     },
     "execution_count": 43,
     "metadata": {},
     "output_type": "execute_result"
    }
   ],
   "source": [
    "dtrain.isnull().sum()"
   ]
  },
  {
   "cell_type": "code",
   "execution_count": 44,
   "id": "1bac9c49",
   "metadata": {},
   "outputs": [
    {
     "data": {
      "text/plain": [
       "PassengerId      0\n",
       "Survived         0\n",
       "Pclass           0\n",
       "Name             0\n",
       "Sex              0\n",
       "Age              0\n",
       "SibSp            0\n",
       "Parch            0\n",
       "Ticket           0\n",
       "Fare             0\n",
       "Cabin          687\n",
       "Embarked         2\n",
       "dtype: int64"
      ]
     },
     "execution_count": 44,
     "metadata": {},
     "output_type": "execute_result"
    }
   ],
   "source": [
    "dtrain['Age'].fillna(dtrain['Age'].mean(),inplace =True)\n",
    "\n",
    "dtrain.isnull().sum()"
   ]
  },
  {
   "cell_type": "code",
   "execution_count": 45,
   "id": "e285ce57",
   "metadata": {},
   "outputs": [],
   "source": [
    "# Applying Feature Engineering on the Sex column\n",
    "\n",
    "transformation = ColumnTransformer(\n",
    "    [\n",
    "        (\"encoder\", OneHotEncoder(handle_unknown=\"ignore\", sparse=False), [\"Sex\"]),\n",
    "    ]\n",
    ")\n"
   ]
  },
  {
   "cell_type": "code",
   "execution_count": 46,
   "id": "1c730fb0",
   "metadata": {},
   "outputs": [],
   "source": [
    "# Transformation of the X_train data and Fit\n",
    "\n",
    "X_train_Fe = transformation.fit_transform(X_train)"
   ]
  },
  {
   "cell_type": "code",
   "execution_count": 47,
   "id": "d1914b4c",
   "metadata": {},
   "outputs": [],
   "source": [
    "# Transformation of the X_test data\n",
    "\n",
    "X_test_Fe = transformation.transform(X_test)"
   ]
  },
  {
   "cell_type": "code",
   "execution_count": 48,
   "id": "8e9f4f49",
   "metadata": {},
   "outputs": [
    {
     "data": {
      "text/plain": [
       "array([[0., 1.],\n",
       "       [0., 1.],\n",
       "       [0., 1.],\n",
       "       [1., 0.],\n",
       "       [1., 0.],\n",
       "       [1., 0.],\n",
       "       [1., 0.],\n",
       "       [0., 1.],\n",
       "       [1., 0.],\n",
       "       [1., 0.],\n",
       "       [0., 1.],\n",
       "       [0., 1.],\n",
       "       [1., 0.],\n",
       "       [0., 1.],\n",
       "       [0., 1.],\n",
       "       [1., 0.],\n",
       "       [0., 1.],\n",
       "       [1., 0.],\n",
       "       [0., 1.],\n",
       "       [0., 1.],\n",
       "       [0., 1.],\n",
       "       [0., 1.],\n",
       "       [1., 0.],\n",
       "       [0., 1.],\n",
       "       [0., 1.],\n",
       "       [0., 1.],\n",
       "       [0., 1.],\n",
       "       [0., 1.],\n",
       "       [0., 1.],\n",
       "       [1., 0.],\n",
       "       [0., 1.],\n",
       "       [1., 0.],\n",
       "       [0., 1.],\n",
       "       [1., 0.],\n",
       "       [0., 1.],\n",
       "       [0., 1.],\n",
       "       [0., 1.],\n",
       "       [1., 0.],\n",
       "       [1., 0.],\n",
       "       [0., 1.],\n",
       "       [0., 1.],\n",
       "       [0., 1.],\n",
       "       [0., 1.],\n",
       "       [0., 1.],\n",
       "       [1., 0.],\n",
       "       [0., 1.],\n",
       "       [0., 1.],\n",
       "       [0., 1.],\n",
       "       [0., 1.],\n",
       "       [0., 1.],\n",
       "       [1., 0.],\n",
       "       [1., 0.],\n",
       "       [0., 1.],\n",
       "       [0., 1.],\n",
       "       [0., 1.],\n",
       "       [1., 0.],\n",
       "       [0., 1.],\n",
       "       [1., 0.],\n",
       "       [1., 0.],\n",
       "       [1., 0.],\n",
       "       [0., 1.],\n",
       "       [1., 0.],\n",
       "       [1., 0.],\n",
       "       [0., 1.],\n",
       "       [0., 1.],\n",
       "       [1., 0.],\n",
       "       [0., 1.],\n",
       "       [0., 1.],\n",
       "       [0., 1.],\n",
       "       [1., 0.],\n",
       "       [1., 0.],\n",
       "       [1., 0.],\n",
       "       [0., 1.],\n",
       "       [1., 0.],\n",
       "       [0., 1.],\n",
       "       [0., 1.],\n",
       "       [1., 0.],\n",
       "       [1., 0.],\n",
       "       [1., 0.],\n",
       "       [1., 0.],\n",
       "       [0., 1.],\n",
       "       [1., 0.],\n",
       "       [1., 0.],\n",
       "       [0., 1.],\n",
       "       [0., 1.],\n",
       "       [0., 1.],\n",
       "       [1., 0.],\n",
       "       [1., 0.],\n",
       "       [0., 1.],\n",
       "       [0., 1.],\n",
       "       [0., 1.],\n",
       "       [1., 0.],\n",
       "       [0., 1.],\n",
       "       [0., 1.],\n",
       "       [0., 1.],\n",
       "       [0., 1.],\n",
       "       [0., 1.],\n",
       "       [0., 1.],\n",
       "       [1., 0.],\n",
       "       [0., 1.],\n",
       "       [0., 1.],\n",
       "       [0., 1.],\n",
       "       [1., 0.],\n",
       "       [0., 1.],\n",
       "       [0., 1.],\n",
       "       [0., 1.],\n",
       "       [1., 0.],\n",
       "       [0., 1.],\n",
       "       [0., 1.],\n",
       "       [0., 1.],\n",
       "       [1., 0.],\n",
       "       [0., 1.],\n",
       "       [1., 0.],\n",
       "       [0., 1.],\n",
       "       [0., 1.],\n",
       "       [0., 1.],\n",
       "       [0., 1.],\n",
       "       [0., 1.],\n",
       "       [1., 0.],\n",
       "       [1., 0.],\n",
       "       [0., 1.],\n",
       "       [1., 0.],\n",
       "       [1., 0.],\n",
       "       [0., 1.],\n",
       "       [0., 1.],\n",
       "       [0., 1.],\n",
       "       [1., 0.],\n",
       "       [0., 1.],\n",
       "       [1., 0.],\n",
       "       [0., 1.],\n",
       "       [1., 0.],\n",
       "       [0., 1.],\n",
       "       [0., 1.],\n",
       "       [1., 0.],\n",
       "       [0., 1.],\n",
       "       [1., 0.],\n",
       "       [1., 0.],\n",
       "       [0., 1.],\n",
       "       [0., 1.],\n",
       "       [1., 0.],\n",
       "       [0., 1.],\n",
       "       [1., 0.],\n",
       "       [0., 1.],\n",
       "       [0., 1.],\n",
       "       [1., 0.],\n",
       "       [1., 0.],\n",
       "       [0., 1.],\n",
       "       [0., 1.],\n",
       "       [1., 0.],\n",
       "       [0., 1.],\n",
       "       [0., 1.],\n",
       "       [0., 1.],\n",
       "       [0., 1.],\n",
       "       [1., 0.],\n",
       "       [0., 1.],\n",
       "       [0., 1.],\n",
       "       [0., 1.],\n",
       "       [1., 0.],\n",
       "       [1., 0.],\n",
       "       [1., 0.],\n",
       "       [0., 1.],\n",
       "       [0., 1.],\n",
       "       [0., 1.],\n",
       "       [1., 0.],\n",
       "       [0., 1.],\n",
       "       [0., 1.],\n",
       "       [0., 1.],\n",
       "       [1., 0.],\n",
       "       [0., 1.],\n",
       "       [0., 1.],\n",
       "       [0., 1.],\n",
       "       [1., 0.],\n",
       "       [0., 1.],\n",
       "       [1., 0.],\n",
       "       [0., 1.],\n",
       "       [0., 1.],\n",
       "       [1., 0.],\n",
       "       [1., 0.],\n",
       "       [1., 0.],\n",
       "       [0., 1.],\n",
       "       [0., 1.],\n",
       "       [0., 1.],\n",
       "       [0., 1.],\n",
       "       [1., 0.],\n",
       "       [0., 1.],\n",
       "       [0., 1.],\n",
       "       [0., 1.],\n",
       "       [0., 1.],\n",
       "       [0., 1.],\n",
       "       [1., 0.],\n",
       "       [0., 1.],\n",
       "       [0., 1.],\n",
       "       [0., 1.],\n",
       "       [0., 1.],\n",
       "       [1., 0.],\n",
       "       [1., 0.],\n",
       "       [1., 0.],\n",
       "       [0., 1.],\n",
       "       [1., 0.],\n",
       "       [1., 0.],\n",
       "       [0., 1.],\n",
       "       [1., 0.],\n",
       "       [1., 0.],\n",
       "       [1., 0.],\n",
       "       [0., 1.],\n",
       "       [1., 0.],\n",
       "       [0., 1.],\n",
       "       [0., 1.],\n",
       "       [0., 1.],\n",
       "       [0., 1.],\n",
       "       [0., 1.],\n",
       "       [0., 1.],\n",
       "       [1., 0.],\n",
       "       [0., 1.],\n",
       "       [1., 0.],\n",
       "       [0., 1.],\n",
       "       [1., 0.],\n",
       "       [0., 1.],\n",
       "       [1., 0.],\n",
       "       [0., 1.],\n",
       "       [0., 1.],\n",
       "       [1., 0.],\n",
       "       [0., 1.]])"
      ]
     },
     "execution_count": 48,
     "metadata": {},
     "output_type": "execute_result"
    }
   ],
   "source": [
    "X_test_Fe"
   ]
  },
  {
   "cell_type": "markdown",
   "id": "e416c435",
   "metadata": {},
   "source": [
    "# Initiate the model"
   ]
  },
  {
   "cell_type": "code",
   "execution_count": 49,
   "id": "3fc9b33f",
   "metadata": {},
   "outputs": [
    {
     "data": {
      "text/plain": [
       "LogisticRegression()"
      ]
     },
     "execution_count": 49,
     "metadata": {},
     "output_type": "execute_result"
    }
   ],
   "source": [
    "model = LogisticRegression()\n",
    "\n",
    "model.fit(X_train_Fe, y_train)\n",
    "\n"
   ]
  },
  {
   "cell_type": "code",
   "execution_count": 50,
   "id": "604426ac",
   "metadata": {},
   "outputs": [
    {
     "data": {
      "text/plain": [
       "(array([[ 1.23406955, -1.23406551]]), array([-0.20379425]))"
      ]
     },
     "execution_count": 50,
     "metadata": {},
     "output_type": "execute_result"
    }
   ],
   "source": [
    "# Show the coefficients calculated by the model.\n",
    "\n",
    "model.coef_, model.intercept_"
   ]
  },
  {
   "cell_type": "code",
   "execution_count": 51,
   "id": "022e5e5c",
   "metadata": {},
   "outputs": [
    {
     "data": {
      "text/plain": [
       "array([[0.808123  , 0.191877  ],\n",
       "       [0.808123  , 0.191877  ],\n",
       "       [0.808123  , 0.191877  ],\n",
       "       [0.26303073, 0.73696927],\n",
       "       [0.26303073, 0.73696927],\n",
       "       [0.26303073, 0.73696927],\n",
       "       [0.26303073, 0.73696927],\n",
       "       [0.808123  , 0.191877  ],\n",
       "       [0.26303073, 0.73696927],\n",
       "       [0.26303073, 0.73696927],\n",
       "       [0.808123  , 0.191877  ],\n",
       "       [0.808123  , 0.191877  ],\n",
       "       [0.26303073, 0.73696927],\n",
       "       [0.808123  , 0.191877  ],\n",
       "       [0.808123  , 0.191877  ],\n",
       "       [0.26303073, 0.73696927],\n",
       "       [0.808123  , 0.191877  ],\n",
       "       [0.26303073, 0.73696927],\n",
       "       [0.808123  , 0.191877  ],\n",
       "       [0.808123  , 0.191877  ],\n",
       "       [0.808123  , 0.191877  ],\n",
       "       [0.808123  , 0.191877  ],\n",
       "       [0.26303073, 0.73696927],\n",
       "       [0.808123  , 0.191877  ],\n",
       "       [0.808123  , 0.191877  ],\n",
       "       [0.808123  , 0.191877  ],\n",
       "       [0.808123  , 0.191877  ],\n",
       "       [0.808123  , 0.191877  ],\n",
       "       [0.808123  , 0.191877  ],\n",
       "       [0.26303073, 0.73696927],\n",
       "       [0.808123  , 0.191877  ],\n",
       "       [0.26303073, 0.73696927],\n",
       "       [0.808123  , 0.191877  ],\n",
       "       [0.26303073, 0.73696927],\n",
       "       [0.808123  , 0.191877  ],\n",
       "       [0.808123  , 0.191877  ],\n",
       "       [0.808123  , 0.191877  ],\n",
       "       [0.26303073, 0.73696927],\n",
       "       [0.26303073, 0.73696927],\n",
       "       [0.808123  , 0.191877  ],\n",
       "       [0.808123  , 0.191877  ],\n",
       "       [0.808123  , 0.191877  ],\n",
       "       [0.808123  , 0.191877  ],\n",
       "       [0.808123  , 0.191877  ],\n",
       "       [0.26303073, 0.73696927],\n",
       "       [0.808123  , 0.191877  ],\n",
       "       [0.808123  , 0.191877  ],\n",
       "       [0.808123  , 0.191877  ],\n",
       "       [0.808123  , 0.191877  ],\n",
       "       [0.808123  , 0.191877  ],\n",
       "       [0.26303073, 0.73696927],\n",
       "       [0.26303073, 0.73696927],\n",
       "       [0.808123  , 0.191877  ],\n",
       "       [0.808123  , 0.191877  ],\n",
       "       [0.808123  , 0.191877  ],\n",
       "       [0.26303073, 0.73696927],\n",
       "       [0.808123  , 0.191877  ],\n",
       "       [0.26303073, 0.73696927],\n",
       "       [0.26303073, 0.73696927],\n",
       "       [0.26303073, 0.73696927],\n",
       "       [0.808123  , 0.191877  ],\n",
       "       [0.26303073, 0.73696927],\n",
       "       [0.26303073, 0.73696927],\n",
       "       [0.808123  , 0.191877  ],\n",
       "       [0.808123  , 0.191877  ],\n",
       "       [0.26303073, 0.73696927],\n",
       "       [0.808123  , 0.191877  ],\n",
       "       [0.808123  , 0.191877  ],\n",
       "       [0.808123  , 0.191877  ],\n",
       "       [0.26303073, 0.73696927],\n",
       "       [0.26303073, 0.73696927],\n",
       "       [0.26303073, 0.73696927],\n",
       "       [0.808123  , 0.191877  ],\n",
       "       [0.26303073, 0.73696927],\n",
       "       [0.808123  , 0.191877  ],\n",
       "       [0.808123  , 0.191877  ],\n",
       "       [0.26303073, 0.73696927],\n",
       "       [0.26303073, 0.73696927],\n",
       "       [0.26303073, 0.73696927],\n",
       "       [0.26303073, 0.73696927],\n",
       "       [0.808123  , 0.191877  ],\n",
       "       [0.26303073, 0.73696927],\n",
       "       [0.26303073, 0.73696927],\n",
       "       [0.808123  , 0.191877  ],\n",
       "       [0.808123  , 0.191877  ],\n",
       "       [0.808123  , 0.191877  ],\n",
       "       [0.26303073, 0.73696927],\n",
       "       [0.26303073, 0.73696927],\n",
       "       [0.808123  , 0.191877  ],\n",
       "       [0.808123  , 0.191877  ],\n",
       "       [0.808123  , 0.191877  ],\n",
       "       [0.26303073, 0.73696927],\n",
       "       [0.808123  , 0.191877  ],\n",
       "       [0.808123  , 0.191877  ],\n",
       "       [0.808123  , 0.191877  ],\n",
       "       [0.808123  , 0.191877  ],\n",
       "       [0.808123  , 0.191877  ],\n",
       "       [0.808123  , 0.191877  ],\n",
       "       [0.26303073, 0.73696927],\n",
       "       [0.808123  , 0.191877  ],\n",
       "       [0.808123  , 0.191877  ],\n",
       "       [0.808123  , 0.191877  ],\n",
       "       [0.26303073, 0.73696927],\n",
       "       [0.808123  , 0.191877  ],\n",
       "       [0.808123  , 0.191877  ],\n",
       "       [0.808123  , 0.191877  ],\n",
       "       [0.26303073, 0.73696927],\n",
       "       [0.808123  , 0.191877  ],\n",
       "       [0.808123  , 0.191877  ],\n",
       "       [0.808123  , 0.191877  ],\n",
       "       [0.26303073, 0.73696927],\n",
       "       [0.808123  , 0.191877  ],\n",
       "       [0.26303073, 0.73696927],\n",
       "       [0.808123  , 0.191877  ],\n",
       "       [0.808123  , 0.191877  ],\n",
       "       [0.808123  , 0.191877  ],\n",
       "       [0.808123  , 0.191877  ],\n",
       "       [0.808123  , 0.191877  ],\n",
       "       [0.26303073, 0.73696927],\n",
       "       [0.26303073, 0.73696927],\n",
       "       [0.808123  , 0.191877  ],\n",
       "       [0.26303073, 0.73696927],\n",
       "       [0.26303073, 0.73696927],\n",
       "       [0.808123  , 0.191877  ],\n",
       "       [0.808123  , 0.191877  ],\n",
       "       [0.808123  , 0.191877  ],\n",
       "       [0.26303073, 0.73696927],\n",
       "       [0.808123  , 0.191877  ],\n",
       "       [0.26303073, 0.73696927],\n",
       "       [0.808123  , 0.191877  ],\n",
       "       [0.26303073, 0.73696927],\n",
       "       [0.808123  , 0.191877  ],\n",
       "       [0.808123  , 0.191877  ],\n",
       "       [0.26303073, 0.73696927],\n",
       "       [0.808123  , 0.191877  ],\n",
       "       [0.26303073, 0.73696927],\n",
       "       [0.26303073, 0.73696927],\n",
       "       [0.808123  , 0.191877  ],\n",
       "       [0.808123  , 0.191877  ],\n",
       "       [0.26303073, 0.73696927],\n",
       "       [0.808123  , 0.191877  ],\n",
       "       [0.26303073, 0.73696927],\n",
       "       [0.808123  , 0.191877  ],\n",
       "       [0.808123  , 0.191877  ],\n",
       "       [0.26303073, 0.73696927],\n",
       "       [0.26303073, 0.73696927],\n",
       "       [0.808123  , 0.191877  ],\n",
       "       [0.808123  , 0.191877  ],\n",
       "       [0.26303073, 0.73696927],\n",
       "       [0.808123  , 0.191877  ],\n",
       "       [0.808123  , 0.191877  ],\n",
       "       [0.808123  , 0.191877  ],\n",
       "       [0.808123  , 0.191877  ],\n",
       "       [0.26303073, 0.73696927],\n",
       "       [0.808123  , 0.191877  ],\n",
       "       [0.808123  , 0.191877  ],\n",
       "       [0.808123  , 0.191877  ],\n",
       "       [0.26303073, 0.73696927],\n",
       "       [0.26303073, 0.73696927],\n",
       "       [0.26303073, 0.73696927],\n",
       "       [0.808123  , 0.191877  ],\n",
       "       [0.808123  , 0.191877  ],\n",
       "       [0.808123  , 0.191877  ],\n",
       "       [0.26303073, 0.73696927],\n",
       "       [0.808123  , 0.191877  ],\n",
       "       [0.808123  , 0.191877  ],\n",
       "       [0.808123  , 0.191877  ],\n",
       "       [0.26303073, 0.73696927],\n",
       "       [0.808123  , 0.191877  ],\n",
       "       [0.808123  , 0.191877  ],\n",
       "       [0.808123  , 0.191877  ],\n",
       "       [0.26303073, 0.73696927],\n",
       "       [0.808123  , 0.191877  ],\n",
       "       [0.26303073, 0.73696927],\n",
       "       [0.808123  , 0.191877  ],\n",
       "       [0.808123  , 0.191877  ],\n",
       "       [0.26303073, 0.73696927],\n",
       "       [0.26303073, 0.73696927],\n",
       "       [0.26303073, 0.73696927],\n",
       "       [0.808123  , 0.191877  ],\n",
       "       [0.808123  , 0.191877  ],\n",
       "       [0.808123  , 0.191877  ],\n",
       "       [0.808123  , 0.191877  ],\n",
       "       [0.26303073, 0.73696927],\n",
       "       [0.808123  , 0.191877  ],\n",
       "       [0.808123  , 0.191877  ],\n",
       "       [0.808123  , 0.191877  ],\n",
       "       [0.808123  , 0.191877  ],\n",
       "       [0.808123  , 0.191877  ],\n",
       "       [0.26303073, 0.73696927],\n",
       "       [0.808123  , 0.191877  ],\n",
       "       [0.808123  , 0.191877  ],\n",
       "       [0.808123  , 0.191877  ],\n",
       "       [0.808123  , 0.191877  ],\n",
       "       [0.26303073, 0.73696927],\n",
       "       [0.26303073, 0.73696927],\n",
       "       [0.26303073, 0.73696927],\n",
       "       [0.808123  , 0.191877  ],\n",
       "       [0.26303073, 0.73696927],\n",
       "       [0.26303073, 0.73696927],\n",
       "       [0.808123  , 0.191877  ],\n",
       "       [0.26303073, 0.73696927],\n",
       "       [0.26303073, 0.73696927],\n",
       "       [0.26303073, 0.73696927],\n",
       "       [0.808123  , 0.191877  ],\n",
       "       [0.26303073, 0.73696927],\n",
       "       [0.808123  , 0.191877  ],\n",
       "       [0.808123  , 0.191877  ],\n",
       "       [0.808123  , 0.191877  ],\n",
       "       [0.808123  , 0.191877  ],\n",
       "       [0.808123  , 0.191877  ],\n",
       "       [0.808123  , 0.191877  ],\n",
       "       [0.26303073, 0.73696927],\n",
       "       [0.808123  , 0.191877  ],\n",
       "       [0.26303073, 0.73696927],\n",
       "       [0.808123  , 0.191877  ],\n",
       "       [0.26303073, 0.73696927],\n",
       "       [0.808123  , 0.191877  ],\n",
       "       [0.26303073, 0.73696927],\n",
       "       [0.808123  , 0.191877  ],\n",
       "       [0.808123  , 0.191877  ],\n",
       "       [0.26303073, 0.73696927],\n",
       "       [0.808123  , 0.191877  ]])"
      ]
     },
     "execution_count": 51,
     "metadata": {},
     "output_type": "execute_result"
    }
   ],
   "source": [
    "# Checking the accuracy of the model\n",
    "\n",
    "model.predict_proba(X_test_Fe)"
   ]
  },
  {
   "cell_type": "markdown",
   "id": "a8901322",
   "metadata": {},
   "source": [
    "# Testing for overfitting or Underfitting (i.e:Evaluate the model)\n",
    "\n"
   ]
  },
  {
   "cell_type": "code",
   "execution_count": 52,
   "id": "6d075dd6",
   "metadata": {},
   "outputs": [
    {
     "data": {
      "text/plain": [
       "0.7874251497005988"
      ]
     },
     "execution_count": 52,
     "metadata": {},
     "output_type": "execute_result"
    }
   ],
   "source": [
    "# train accuracy\n",
    "\n",
    "from sklearn.metrics import accuracy_score\n",
    "\n",
    "model.score(X_train_Fe, y_train)"
   ]
  },
  {
   "cell_type": "code",
   "execution_count": 53,
   "id": "966c829a",
   "metadata": {},
   "outputs": [
    {
     "data": {
      "text/plain": [
       "0.7847533632286996"
      ]
     },
     "execution_count": 53,
     "metadata": {},
     "output_type": "execute_result"
    }
   ],
   "source": [
    "model.score(X_test_Fe, y_test)"
   ]
  },
  {
   "cell_type": "markdown",
   "id": "48bc8e06",
   "metadata": {},
   "source": [
    "# To predict y values (i.e.Survived-Ypred; Alive-1,Dead-0)"
   ]
  },
  {
   "cell_type": "code",
   "execution_count": 54,
   "id": "df7996d1",
   "metadata": {},
   "outputs": [
    {
     "data": {
      "text/plain": [
       "array([0, 0, 0, 1, 1, 1, 1, 0, 1, 1, 0, 0, 1, 0, 0, 1, 0, 1, 0, 0, 0, 0,\n",
       "       1, 0, 0, 0, 0, 0, 0, 1, 0, 1, 0, 1, 0, 0, 0, 1, 1, 0, 0, 0, 0, 0,\n",
       "       1, 0, 0, 0, 0, 0, 1, 1, 0, 0, 0, 1, 0, 1, 1, 1, 0, 1, 1, 0, 0, 1,\n",
       "       0, 0, 0, 1, 1, 1, 0, 1, 0, 0, 1, 1, 1, 1, 0, 1, 1, 0, 0, 0, 1, 1,\n",
       "       0, 0, 0, 1, 0, 0, 0, 0, 0, 0, 1, 0, 0, 0, 1, 0, 0, 0, 1, 0, 0, 0,\n",
       "       1, 0, 1, 0, 0, 0, 0, 0, 1, 1, 0, 1, 1, 0, 0, 0, 1, 0, 1, 0, 1, 0,\n",
       "       0, 1, 0, 1, 1, 0, 0, 1, 0, 1, 0, 0, 1, 1, 0, 0, 1, 0, 0, 0, 0, 1,\n",
       "       0, 0, 0, 1, 1, 1, 0, 0, 0, 1, 0, 0, 0, 1, 0, 0, 0, 1, 0, 1, 0, 0,\n",
       "       1, 1, 1, 0, 0, 0, 0, 1, 0, 0, 0, 0, 0, 1, 0, 0, 0, 0, 1, 1, 1, 0,\n",
       "       1, 1, 0, 1, 1, 1, 0, 1, 0, 0, 0, 0, 0, 0, 1, 0, 1, 0, 1, 0, 1, 0,\n",
       "       0, 1, 0], dtype=int64)"
      ]
     },
     "execution_count": 54,
     "metadata": {},
     "output_type": "execute_result"
    }
   ],
   "source": [
    "Ypred = model.predict(X_test_Fe) \n",
    "Ypred"
   ]
  },
  {
   "cell_type": "code",
   "execution_count": 55,
   "id": "e7399943",
   "metadata": {},
   "outputs": [
    {
     "data": {
      "text/plain": [
       "0.7847533632286996"
      ]
     },
     "execution_count": 55,
     "metadata": {},
     "output_type": "execute_result"
    }
   ],
   "source": [
    "# another way of computing accuracy for the test data \n",
    "accuracy_score(y_test,Ypred)"
   ]
  },
  {
   "cell_type": "markdown",
   "id": "0ad9435e",
   "metadata": {},
   "source": [
    "# Precision vs recall"
   ]
  },
  {
   "cell_type": "code",
   "execution_count": 56,
   "id": "09de01d0",
   "metadata": {},
   "outputs": [
    {
     "name": "stdout",
     "output_type": "stream",
     "text": [
      "0.7411764705882353 0.7078651685393258\n"
     ]
    }
   ],
   "source": [
    "from sklearn.metrics import precision_score, recall_score\n",
    "\n",
    "precision = precision_score(y_test,Ypred)\n",
    "recall = recall_score(y_test,Ypred)\n",
    "print(precision_score(y_test,Ypred), recall_score(y_test,Ypred))"
   ]
  },
  {
   "cell_type": "markdown",
   "id": "8e7727c7",
   "metadata": {},
   "source": [
    "# Now make predictions with the developed model on the test data"
   ]
  },
  {
   "cell_type": "code",
   "execution_count": 57,
   "id": "866b6122",
   "metadata": {},
   "outputs": [
    {
     "data": {
      "text/html": [
       "<div>\n",
       "<style scoped>\n",
       "    .dataframe tbody tr th:only-of-type {\n",
       "        vertical-align: middle;\n",
       "    }\n",
       "\n",
       "    .dataframe tbody tr th {\n",
       "        vertical-align: top;\n",
       "    }\n",
       "\n",
       "    .dataframe thead th {\n",
       "        text-align: right;\n",
       "    }\n",
       "</style>\n",
       "<table border=\"1\" class=\"dataframe\">\n",
       "  <thead>\n",
       "    <tr style=\"text-align: right;\">\n",
       "      <th></th>\n",
       "      <th>PassengerId</th>\n",
       "      <th>Pclass</th>\n",
       "      <th>Name</th>\n",
       "      <th>Sex</th>\n",
       "      <th>Age</th>\n",
       "      <th>SibSp</th>\n",
       "      <th>Parch</th>\n",
       "      <th>Ticket</th>\n",
       "      <th>Fare</th>\n",
       "      <th>Cabin</th>\n",
       "      <th>Embarked</th>\n",
       "    </tr>\n",
       "  </thead>\n",
       "  <tbody>\n",
       "    <tr>\n",
       "      <th>0</th>\n",
       "      <td>892</td>\n",
       "      <td>3</td>\n",
       "      <td>Kelly, Mr. James</td>\n",
       "      <td>male</td>\n",
       "      <td>34.5</td>\n",
       "      <td>0</td>\n",
       "      <td>0</td>\n",
       "      <td>330911</td>\n",
       "      <td>7.8292</td>\n",
       "      <td>NaN</td>\n",
       "      <td>Q</td>\n",
       "    </tr>\n",
       "    <tr>\n",
       "      <th>1</th>\n",
       "      <td>893</td>\n",
       "      <td>3</td>\n",
       "      <td>Wilkes, Mrs. James (Ellen Needs)</td>\n",
       "      <td>female</td>\n",
       "      <td>47.0</td>\n",
       "      <td>1</td>\n",
       "      <td>0</td>\n",
       "      <td>363272</td>\n",
       "      <td>7.0000</td>\n",
       "      <td>NaN</td>\n",
       "      <td>S</td>\n",
       "    </tr>\n",
       "    <tr>\n",
       "      <th>2</th>\n",
       "      <td>894</td>\n",
       "      <td>2</td>\n",
       "      <td>Myles, Mr. Thomas Francis</td>\n",
       "      <td>male</td>\n",
       "      <td>62.0</td>\n",
       "      <td>0</td>\n",
       "      <td>0</td>\n",
       "      <td>240276</td>\n",
       "      <td>9.6875</td>\n",
       "      <td>NaN</td>\n",
       "      <td>Q</td>\n",
       "    </tr>\n",
       "    <tr>\n",
       "      <th>3</th>\n",
       "      <td>895</td>\n",
       "      <td>3</td>\n",
       "      <td>Wirz, Mr. Albert</td>\n",
       "      <td>male</td>\n",
       "      <td>27.0</td>\n",
       "      <td>0</td>\n",
       "      <td>0</td>\n",
       "      <td>315154</td>\n",
       "      <td>8.6625</td>\n",
       "      <td>NaN</td>\n",
       "      <td>S</td>\n",
       "    </tr>\n",
       "    <tr>\n",
       "      <th>4</th>\n",
       "      <td>896</td>\n",
       "      <td>3</td>\n",
       "      <td>Hirvonen, Mrs. Alexander (Helga E Lindqvist)</td>\n",
       "      <td>female</td>\n",
       "      <td>22.0</td>\n",
       "      <td>1</td>\n",
       "      <td>1</td>\n",
       "      <td>3101298</td>\n",
       "      <td>12.2875</td>\n",
       "      <td>NaN</td>\n",
       "      <td>S</td>\n",
       "    </tr>\n",
       "  </tbody>\n",
       "</table>\n",
       "</div>"
      ],
      "text/plain": [
       "   PassengerId  Pclass                                          Name     Sex  \\\n",
       "0          892       3                              Kelly, Mr. James    male   \n",
       "1          893       3              Wilkes, Mrs. James (Ellen Needs)  female   \n",
       "2          894       2                     Myles, Mr. Thomas Francis    male   \n",
       "3          895       3                              Wirz, Mr. Albert    male   \n",
       "4          896       3  Hirvonen, Mrs. Alexander (Helga E Lindqvist)  female   \n",
       "\n",
       "    Age  SibSp  Parch   Ticket     Fare Cabin Embarked  \n",
       "0  34.5      0      0   330911   7.8292   NaN        Q  \n",
       "1  47.0      1      0   363272   7.0000   NaN        S  \n",
       "2  62.0      0      0   240276   9.6875   NaN        Q  \n",
       "3  27.0      0      0   315154   8.6625   NaN        S  \n",
       "4  22.0      1      1  3101298  12.2875   NaN        S  "
      ]
     },
     "execution_count": 57,
     "metadata": {},
     "output_type": "execute_result"
    }
   ],
   "source": [
    "# Run the same procedure above again on test.csv file. Never fit your test.csv file\n",
    "\n",
    "df_test = pd.read_csv('test.csv')\n",
    "df_test.head(5)"
   ]
  },
  {
   "cell_type": "code",
   "execution_count": 58,
   "id": "906ed226",
   "metadata": {},
   "outputs": [
    {
     "data": {
      "text/html": [
       "<div>\n",
       "<style scoped>\n",
       "    .dataframe tbody tr th:only-of-type {\n",
       "        vertical-align: middle;\n",
       "    }\n",
       "\n",
       "    .dataframe tbody tr th {\n",
       "        vertical-align: top;\n",
       "    }\n",
       "\n",
       "    .dataframe thead th {\n",
       "        text-align: right;\n",
       "    }\n",
       "</style>\n",
       "<table border=\"1\" class=\"dataframe\">\n",
       "  <thead>\n",
       "    <tr style=\"text-align: right;\">\n",
       "      <th></th>\n",
       "      <th>Pclass</th>\n",
       "      <th>Sex</th>\n",
       "      <th>Age</th>\n",
       "    </tr>\n",
       "  </thead>\n",
       "  <tbody>\n",
       "    <tr>\n",
       "      <th>0</th>\n",
       "      <td>3</td>\n",
       "      <td>male</td>\n",
       "      <td>34.5</td>\n",
       "    </tr>\n",
       "    <tr>\n",
       "      <th>1</th>\n",
       "      <td>3</td>\n",
       "      <td>female</td>\n",
       "      <td>47.0</td>\n",
       "    </tr>\n",
       "    <tr>\n",
       "      <th>2</th>\n",
       "      <td>2</td>\n",
       "      <td>male</td>\n",
       "      <td>62.0</td>\n",
       "    </tr>\n",
       "    <tr>\n",
       "      <th>3</th>\n",
       "      <td>3</td>\n",
       "      <td>male</td>\n",
       "      <td>27.0</td>\n",
       "    </tr>\n",
       "    <tr>\n",
       "      <th>4</th>\n",
       "      <td>3</td>\n",
       "      <td>female</td>\n",
       "      <td>22.0</td>\n",
       "    </tr>\n",
       "  </tbody>\n",
       "</table>\n",
       "</div>"
      ],
      "text/plain": [
       "   Pclass     Sex   Age\n",
       "0       3    male  34.5\n",
       "1       3  female  47.0\n",
       "2       2    male  62.0\n",
       "3       3    male  27.0\n",
       "4       3  female  22.0"
      ]
     },
     "execution_count": 58,
     "metadata": {},
     "output_type": "execute_result"
    }
   ],
   "source": [
    "df_Test = df_test[[\"Pclass\", \"Sex\",\"Age\"]]\n",
    "df_Test.head()"
   ]
  },
  {
   "cell_type": "code",
   "execution_count": 59,
   "id": "bcaaaf91",
   "metadata": {},
   "outputs": [
    {
     "data": {
      "text/plain": [
       "array([[0., 1.],\n",
       "       [1., 0.],\n",
       "       [0., 1.],\n",
       "       [0., 1.],\n",
       "       [1., 0.],\n",
       "       [0., 1.],\n",
       "       [1., 0.],\n",
       "       [0., 1.],\n",
       "       [1., 0.],\n",
       "       [0., 1.],\n",
       "       [0., 1.],\n",
       "       [0., 1.],\n",
       "       [1., 0.],\n",
       "       [0., 1.],\n",
       "       [1., 0.],\n",
       "       [1., 0.],\n",
       "       [0., 1.],\n",
       "       [0., 1.],\n",
       "       [1., 0.],\n",
       "       [1., 0.],\n",
       "       [0., 1.],\n",
       "       [0., 1.],\n",
       "       [1., 0.],\n",
       "       [0., 1.],\n",
       "       [1., 0.],\n",
       "       [0., 1.],\n",
       "       [1., 0.],\n",
       "       [0., 1.],\n",
       "       [0., 1.],\n",
       "       [0., 1.],\n",
       "       [0., 1.],\n",
       "       [0., 1.],\n",
       "       [1., 0.],\n",
       "       [1., 0.],\n",
       "       [0., 1.],\n",
       "       [0., 1.],\n",
       "       [1., 0.],\n",
       "       [1., 0.],\n",
       "       [0., 1.],\n",
       "       [0., 1.],\n",
       "       [0., 1.],\n",
       "       [0., 1.],\n",
       "       [0., 1.],\n",
       "       [1., 0.],\n",
       "       [1., 0.],\n",
       "       [0., 1.],\n",
       "       [0., 1.],\n",
       "       [0., 1.],\n",
       "       [1., 0.],\n",
       "       [1., 0.],\n",
       "       [0., 1.],\n",
       "       [0., 1.],\n",
       "       [1., 0.],\n",
       "       [1., 0.],\n",
       "       [0., 1.],\n",
       "       [0., 1.],\n",
       "       [0., 1.],\n",
       "       [0., 1.],\n",
       "       [0., 1.],\n",
       "       [1., 0.],\n",
       "       [0., 1.],\n",
       "       [0., 1.],\n",
       "       [0., 1.],\n",
       "       [1., 0.],\n",
       "       [0., 1.],\n",
       "       [1., 0.],\n",
       "       [1., 0.],\n",
       "       [0., 1.],\n",
       "       [0., 1.],\n",
       "       [1., 0.],\n",
       "       [1., 0.],\n",
       "       [0., 1.],\n",
       "       [1., 0.],\n",
       "       [0., 1.],\n",
       "       [1., 0.],\n",
       "       [0., 1.],\n",
       "       [0., 1.],\n",
       "       [1., 0.],\n",
       "       [0., 1.],\n",
       "       [1., 0.],\n",
       "       [0., 1.],\n",
       "       [0., 1.],\n",
       "       [0., 1.],\n",
       "       [0., 1.],\n",
       "       [0., 1.],\n",
       "       [0., 1.],\n",
       "       [1., 0.],\n",
       "       [1., 0.],\n",
       "       [1., 0.],\n",
       "       [0., 1.],\n",
       "       [1., 0.],\n",
       "       [0., 1.],\n",
       "       [1., 0.],\n",
       "       [0., 1.],\n",
       "       [0., 1.],\n",
       "       [0., 1.],\n",
       "       [1., 0.],\n",
       "       [0., 1.],\n",
       "       [1., 0.],\n",
       "       [0., 1.],\n",
       "       [1., 0.],\n",
       "       [0., 1.],\n",
       "       [0., 1.],\n",
       "       [0., 1.],\n",
       "       [1., 0.],\n",
       "       [0., 1.],\n",
       "       [0., 1.],\n",
       "       [0., 1.],\n",
       "       [0., 1.],\n",
       "       [0., 1.],\n",
       "       [0., 1.],\n",
       "       [1., 0.],\n",
       "       [1., 0.],\n",
       "       [1., 0.],\n",
       "       [1., 0.],\n",
       "       [0., 1.],\n",
       "       [0., 1.],\n",
       "       [1., 0.],\n",
       "       [0., 1.],\n",
       "       [1., 0.],\n",
       "       [1., 0.],\n",
       "       [0., 1.],\n",
       "       [1., 0.],\n",
       "       [0., 1.],\n",
       "       [0., 1.],\n",
       "       [1., 0.],\n",
       "       [0., 1.],\n",
       "       [1., 0.],\n",
       "       [0., 1.],\n",
       "       [0., 1.],\n",
       "       [0., 1.],\n",
       "       [0., 1.],\n",
       "       [1., 0.],\n",
       "       [0., 1.],\n",
       "       [0., 1.],\n",
       "       [0., 1.],\n",
       "       [0., 1.],\n",
       "       [0., 1.],\n",
       "       [1., 0.],\n",
       "       [0., 1.],\n",
       "       [1., 0.],\n",
       "       [1., 0.],\n",
       "       [0., 1.],\n",
       "       [0., 1.],\n",
       "       [0., 1.],\n",
       "       [0., 1.],\n",
       "       [0., 1.],\n",
       "       [0., 1.],\n",
       "       [0., 1.],\n",
       "       [0., 1.],\n",
       "       [1., 0.],\n",
       "       [0., 1.],\n",
       "       [0., 1.],\n",
       "       [1., 0.],\n",
       "       [0., 1.],\n",
       "       [0., 1.],\n",
       "       [1., 0.],\n",
       "       [1., 0.],\n",
       "       [0., 1.],\n",
       "       [1., 0.],\n",
       "       [1., 0.],\n",
       "       [0., 1.],\n",
       "       [1., 0.],\n",
       "       [0., 1.],\n",
       "       [0., 1.],\n",
       "       [1., 0.],\n",
       "       [0., 1.],\n",
       "       [0., 1.],\n",
       "       [1., 0.],\n",
       "       [1., 0.],\n",
       "       [0., 1.],\n",
       "       [0., 1.],\n",
       "       [0., 1.],\n",
       "       [0., 1.],\n",
       "       [0., 1.],\n",
       "       [1., 0.],\n",
       "       [1., 0.],\n",
       "       [0., 1.],\n",
       "       [1., 0.],\n",
       "       [1., 0.],\n",
       "       [0., 1.],\n",
       "       [0., 1.],\n",
       "       [1., 0.],\n",
       "       [0., 1.],\n",
       "       [1., 0.],\n",
       "       [0., 1.],\n",
       "       [1., 0.],\n",
       "       [0., 1.],\n",
       "       [1., 0.],\n",
       "       [0., 1.],\n",
       "       [0., 1.],\n",
       "       [0., 1.],\n",
       "       [0., 1.],\n",
       "       [0., 1.],\n",
       "       [0., 1.],\n",
       "       [0., 1.],\n",
       "       [0., 1.],\n",
       "       [1., 0.],\n",
       "       [0., 1.],\n",
       "       [1., 0.],\n",
       "       [1., 0.],\n",
       "       [0., 1.],\n",
       "       [0., 1.],\n",
       "       [1., 0.],\n",
       "       [0., 1.],\n",
       "       [0., 1.],\n",
       "       [1., 0.],\n",
       "       [0., 1.],\n",
       "       [1., 0.],\n",
       "       [0., 1.],\n",
       "       [0., 1.],\n",
       "       [0., 1.],\n",
       "       [0., 1.],\n",
       "       [1., 0.],\n",
       "       [1., 0.],\n",
       "       [0., 1.],\n",
       "       [1., 0.],\n",
       "       [0., 1.],\n",
       "       [1., 0.],\n",
       "       [0., 1.],\n",
       "       [1., 0.],\n",
       "       [0., 1.],\n",
       "       [1., 0.],\n",
       "       [0., 1.],\n",
       "       [1., 0.],\n",
       "       [1., 0.],\n",
       "       [0., 1.],\n",
       "       [1., 0.],\n",
       "       [0., 1.],\n",
       "       [0., 1.],\n",
       "       [0., 1.],\n",
       "       [1., 0.],\n",
       "       [0., 1.],\n",
       "       [0., 1.],\n",
       "       [0., 1.],\n",
       "       [0., 1.],\n",
       "       [0., 1.],\n",
       "       [0., 1.],\n",
       "       [1., 0.],\n",
       "       [1., 0.],\n",
       "       [1., 0.],\n",
       "       [1., 0.],\n",
       "       [0., 1.],\n",
       "       [0., 1.],\n",
       "       [0., 1.],\n",
       "       [0., 1.],\n",
       "       [1., 0.],\n",
       "       [0., 1.],\n",
       "       [1., 0.],\n",
       "       [1., 0.],\n",
       "       [1., 0.],\n",
       "       [0., 1.],\n",
       "       [0., 1.],\n",
       "       [0., 1.],\n",
       "       [0., 1.],\n",
       "       [0., 1.],\n",
       "       [0., 1.],\n",
       "       [0., 1.],\n",
       "       [1., 0.],\n",
       "       [0., 1.],\n",
       "       [0., 1.],\n",
       "       [0., 1.],\n",
       "       [1., 0.],\n",
       "       [1., 0.],\n",
       "       [0., 1.],\n",
       "       [0., 1.],\n",
       "       [0., 1.],\n",
       "       [0., 1.],\n",
       "       [1., 0.],\n",
       "       [0., 1.],\n",
       "       [0., 1.],\n",
       "       [0., 1.],\n",
       "       [1., 0.],\n",
       "       [1., 0.],\n",
       "       [0., 1.],\n",
       "       [1., 0.],\n",
       "       [0., 1.],\n",
       "       [0., 1.],\n",
       "       [0., 1.],\n",
       "       [0., 1.],\n",
       "       [1., 0.],\n",
       "       [0., 1.],\n",
       "       [1., 0.],\n",
       "       [1., 0.],\n",
       "       [1., 0.],\n",
       "       [0., 1.],\n",
       "       [0., 1.],\n",
       "       [0., 1.],\n",
       "       [0., 1.],\n",
       "       [0., 1.],\n",
       "       [0., 1.],\n",
       "       [1., 0.],\n",
       "       [0., 1.],\n",
       "       [0., 1.],\n",
       "       [0., 1.],\n",
       "       [0., 1.],\n",
       "       [1., 0.],\n",
       "       [0., 1.],\n",
       "       [0., 1.],\n",
       "       [0., 1.],\n",
       "       [0., 1.],\n",
       "       [0., 1.],\n",
       "       [0., 1.],\n",
       "       [0., 1.],\n",
       "       [1., 0.],\n",
       "       [1., 0.],\n",
       "       [0., 1.],\n",
       "       [0., 1.],\n",
       "       [0., 1.],\n",
       "       [1., 0.],\n",
       "       [0., 1.],\n",
       "       [0., 1.],\n",
       "       [0., 1.],\n",
       "       [1., 0.],\n",
       "       [1., 0.],\n",
       "       [1., 0.],\n",
       "       [0., 1.],\n",
       "       [0., 1.],\n",
       "       [0., 1.],\n",
       "       [0., 1.],\n",
       "       [0., 1.],\n",
       "       [0., 1.],\n",
       "       [0., 1.],\n",
       "       [0., 1.],\n",
       "       [1., 0.],\n",
       "       [0., 1.],\n",
       "       [1., 0.],\n",
       "       [0., 1.],\n",
       "       [0., 1.],\n",
       "       [0., 1.],\n",
       "       [1., 0.],\n",
       "       [0., 1.],\n",
       "       [0., 1.],\n",
       "       [1., 0.],\n",
       "       [0., 1.],\n",
       "       [0., 1.],\n",
       "       [0., 1.],\n",
       "       [0., 1.],\n",
       "       [0., 1.],\n",
       "       [0., 1.],\n",
       "       [0., 1.],\n",
       "       [0., 1.],\n",
       "       [0., 1.],\n",
       "       [1., 0.],\n",
       "       [0., 1.],\n",
       "       [1., 0.],\n",
       "       [0., 1.],\n",
       "       [1., 0.],\n",
       "       [0., 1.],\n",
       "       [1., 0.],\n",
       "       [1., 0.],\n",
       "       [0., 1.],\n",
       "       [0., 1.],\n",
       "       [0., 1.],\n",
       "       [1., 0.],\n",
       "       [0., 1.],\n",
       "       [1., 0.],\n",
       "       [0., 1.],\n",
       "       [0., 1.],\n",
       "       [1., 0.],\n",
       "       [0., 1.],\n",
       "       [1., 0.],\n",
       "       [1., 0.],\n",
       "       [0., 1.],\n",
       "       [1., 0.],\n",
       "       [1., 0.],\n",
       "       [0., 1.],\n",
       "       [1., 0.],\n",
       "       [1., 0.],\n",
       "       [0., 1.],\n",
       "       [0., 1.],\n",
       "       [1., 0.],\n",
       "       [0., 1.],\n",
       "       [0., 1.],\n",
       "       [1., 0.],\n",
       "       [1., 0.],\n",
       "       [1., 0.],\n",
       "       [0., 1.],\n",
       "       [0., 1.],\n",
       "       [0., 1.],\n",
       "       [0., 1.],\n",
       "       [0., 1.],\n",
       "       [1., 0.],\n",
       "       [1., 0.],\n",
       "       [0., 1.],\n",
       "       [1., 0.],\n",
       "       [0., 1.],\n",
       "       [0., 1.],\n",
       "       [0., 1.],\n",
       "       [0., 1.],\n",
       "       [0., 1.],\n",
       "       [1., 0.],\n",
       "       [0., 1.],\n",
       "       [0., 1.],\n",
       "       [0., 1.],\n",
       "       [1., 0.],\n",
       "       [0., 1.],\n",
       "       [1., 0.],\n",
       "       [0., 1.],\n",
       "       [0., 1.],\n",
       "       [1., 0.],\n",
       "       [0., 1.],\n",
       "       [1., 0.],\n",
       "       [0., 1.],\n",
       "       [0., 1.],\n",
       "       [0., 1.],\n",
       "       [0., 1.],\n",
       "       [0., 1.],\n",
       "       [1., 0.],\n",
       "       [1., 0.],\n",
       "       [1., 0.],\n",
       "       [1., 0.],\n",
       "       [1., 0.],\n",
       "       [0., 1.],\n",
       "       [1., 0.],\n",
       "       [0., 1.],\n",
       "       [0., 1.],\n",
       "       [0., 1.]])"
      ]
     },
     "execution_count": 59,
     "metadata": {},
     "output_type": "execute_result"
    }
   ],
   "source": [
    "# Applying Feature Engineering. Using the function \"transformation\" defined above\n",
    "\n",
    "X_TEST_FE = transformation.transform(df_Test)\n",
    "X_TEST_FE"
   ]
  },
  {
   "cell_type": "code",
   "execution_count": 60,
   "id": "15dddbd2",
   "metadata": {},
   "outputs": [
    {
     "data": {
      "text/plain": [
       "LogisticRegression()"
      ]
     },
     "execution_count": 60,
     "metadata": {},
     "output_type": "execute_result"
    }
   ],
   "source": [
    "m_LogReg = LogisticRegression()\n",
    "m_LogReg.fit(X_train_Fe, y_train)\n",
    "\n",
    "#log_reg = LogisticRegression()\n",
    "#log_reg.fit(X_train, y_train)\n",
    "#y_pred = log_reg.predict(X_test)\n",
    "#y_pred"
   ]
  },
  {
   "cell_type": "code",
   "execution_count": 61,
   "id": "22cb3bb7",
   "metadata": {},
   "outputs": [
    {
     "data": {
      "text/plain": [
       "array([0, 1, 0, 0, 1, 0, 1, 0, 1, 0, 0, 0, 1, 0, 1, 1, 0, 0, 1, 1, 0, 0,\n",
       "       1, 0, 1, 0, 1, 0, 0, 0, 0, 0, 1, 1, 0, 0, 1, 1, 0, 0, 0, 0, 0, 1,\n",
       "       1, 0, 0, 0, 1, 1, 0, 0, 1, 1, 0, 0, 0, 0, 0, 1, 0, 0, 0, 1, 0, 1,\n",
       "       1, 0, 0, 1, 1, 0, 1, 0, 1, 0, 0, 1, 0, 1, 0, 0, 0, 0, 0, 0, 1, 1,\n",
       "       1, 0, 1, 0, 1, 0, 0, 0, 1, 0, 1, 0, 1, 0, 0, 0, 1, 0, 0, 0, 0, 0,\n",
       "       0, 1, 1, 1, 1, 0, 0, 1, 0, 1, 1, 0, 1, 0, 0, 1, 0, 1, 0, 0, 0, 0,\n",
       "       1, 0, 0, 0, 0, 0, 1, 0, 1, 1, 0, 0, 0, 0, 0, 0, 0, 0, 1, 0, 0, 1,\n",
       "       0, 0, 1, 1, 0, 1, 1, 0, 1, 0, 0, 1, 0, 0, 1, 1, 0, 0, 0, 0, 0, 1,\n",
       "       1, 0, 1, 1, 0, 0, 1, 0, 1, 0, 1, 0, 1, 0, 0, 0, 0, 0, 0, 0, 0, 1,\n",
       "       0, 1, 1, 0, 0, 1, 0, 0, 1, 0, 1, 0, 0, 0, 0, 1, 1, 0, 1, 0, 1, 0,\n",
       "       1, 0, 1, 0, 1, 1, 0, 1, 0, 0, 0, 1, 0, 0, 0, 0, 0, 0, 1, 1, 1, 1,\n",
       "       0, 0, 0, 0, 1, 0, 1, 1, 1, 0, 0, 0, 0, 0, 0, 0, 1, 0, 0, 0, 1, 1,\n",
       "       0, 0, 0, 0, 1, 0, 0, 0, 1, 1, 0, 1, 0, 0, 0, 0, 1, 0, 1, 1, 1, 0,\n",
       "       0, 0, 0, 0, 0, 1, 0, 0, 0, 0, 1, 0, 0, 0, 0, 0, 0, 0, 1, 1, 0, 0,\n",
       "       0, 1, 0, 0, 0, 1, 1, 1, 0, 0, 0, 0, 0, 0, 0, 0, 1, 0, 1, 0, 0, 0,\n",
       "       1, 0, 0, 1, 0, 0, 0, 0, 0, 0, 0, 0, 0, 1, 0, 1, 0, 1, 0, 1, 1, 0,\n",
       "       0, 0, 1, 0, 1, 0, 0, 1, 0, 1, 1, 0, 1, 1, 0, 1, 1, 0, 0, 1, 0, 0,\n",
       "       1, 1, 1, 0, 0, 0, 0, 0, 1, 1, 0, 1, 0, 0, 0, 0, 0, 1, 0, 0, 0, 1,\n",
       "       0, 1, 0, 0, 1, 0, 1, 0, 0, 0, 0, 0, 1, 1, 1, 1, 1, 0, 1, 0, 0, 0],\n",
       "      dtype=int64)"
      ]
     },
     "execution_count": 61,
     "metadata": {},
     "output_type": "execute_result"
    }
   ],
   "source": [
    "predictions = m_LogReg.predict(X_TEST_FE)\n",
    "predictions\n",
    "\n"
   ]
  },
  {
   "cell_type": "code",
   "execution_count": 63,
   "id": "5eafc1da",
   "metadata": {},
   "outputs": [
    {
     "data": {
      "text/plain": [
       "(418,)"
      ]
     },
     "execution_count": 63,
     "metadata": {},
     "output_type": "execute_result"
    }
   ],
   "source": [
    "predictions.shape"
   ]
  },
  {
   "cell_type": "markdown",
   "id": "5625965b",
   "metadata": {},
   "source": [
    "# Confusion matrix"
   ]
  },
  {
   "cell_type": "code",
   "execution_count": 64,
   "id": "78ececad",
   "metadata": {},
   "outputs": [
    {
     "data": {
      "text/plain": [
       "array([[112,  22],\n",
       "       [ 26,  63]], dtype=int64)"
      ]
     },
     "execution_count": 64,
     "metadata": {},
     "output_type": "execute_result"
    }
   ],
   "source": [
    "from sklearn.metrics import confusion_matrix\n",
    "\n",
    "conf = confusion_matrix(y_test,Ypred)\n",
    "conf\n"
   ]
  },
  {
   "cell_type": "code",
   "execution_count": 65,
   "id": "f8f70da0",
   "metadata": {},
   "outputs": [
    {
     "data": {
      "text/plain": [
       "Text(0.5, 1.0, 'Confusion Matrix')"
      ]
     },
     "execution_count": 65,
     "metadata": {},
     "output_type": "execute_result"
    },
    {
     "data": {
      "image/png": "[encoded data removed]",
      "text/plain": [
       "<Figure size 432x432 with 2 Axes>"
      ]
     },
     "metadata": {},
     "output_type": "display_data"
    }
   ],
   "source": [
    "#plot the heatmap\n",
    "fig = plt.figure(figsize=(6, 6))\n",
    "ax = plt.subplot()\n",
    "sns.heatmap(conf, annot=True, ax = ax, fmt='g', cmap = 'inferno')\n",
    "\n",
    "ax.set_xlabel('Predicted labels')\n",
    "ax.set_ylabel('True labels')\n",
    "ax.set_title('Confusion Matrix')"
   ]
  },
  {
   "cell_type": "code",
   "execution_count": 69,
   "id": "d7a6a69f",
   "metadata": {},
   "outputs": [],
   "source": [
    "pd.DataFrame(data=predictions, index=df_test['PassengerId'], columns=['Survived']).to_csv('kaggle_submission.csv')"
   ]
  },
  {
   "cell_type": "markdown",
   "id": "e547f021",
   "metadata": {},
   "source": [
    "# Add more features into the model to a obtain better accuracy"
   ]
  },
  {
   "cell_type": "code",
   "execution_count": 103,
   "id": "f2543e09",
   "metadata": {},
   "outputs": [],
   "source": [
    "X = dtrain[[\"Pclass\",\"Sex\", \"Age\", \"Fare\", \"Embarked\"]]\n",
    "y = dtrain[\"Survived\"]\n",
    "\n"
   ]
  },
  {
   "cell_type": "code",
   "execution_count": 104,
   "id": "7f2a9018",
   "metadata": {},
   "outputs": [
    {
     "data": {
      "text/plain": [
       "((668, 5), (223, 5), (668,), (223,))"
      ]
     },
     "execution_count": 104,
     "metadata": {},
     "output_type": "execute_result"
    }
   ],
   "source": [
    "X_train, X_test, y_train, y_test = train_test_split(X,y, random_state=42)\n",
    "X_train.shape, X_test.shape, y_train.shape, y_test.shape"
   ]
  },
  {
   "cell_type": "markdown",
   "id": "6c7ade3c",
   "metadata": {},
   "source": [
    "# Applying Feature Engineering"
   ]
  },
  {
   "cell_type": "code",
   "execution_count": null,
   "id": "a387cc21",
   "metadata": {},
   "outputs": [],
   "source": [
    "#trans = ColumnTransformer([\n",
    "## missing values\n",
    "    #('missing_embarked', SimpleImputer(strategy='most_frequent'), ['Embarked']),\n",
    "    #('missing_cabin', SimpleImputer(strategy='most_frequent'), ['Cabin']),\n",
    "   # ('missing_age', SimpleImputer(strategy='mean'), ['Age']),\n",
    "    #('transform Age column',Age_pipeline,['Age']),\n",
    "    #(\"encoder\", OneHotEncoder(handle_unknown=\"ignore\", sparse=False), [\"Pclass\",\"Sex\",\"SibSp\", \"Parch\", \"Ticket\", \"Embarked\"]),\n",
    "  #  (\"scaler\", StandardScaler(), [\"Age\",\"Fare\"])\n",
    "#])"
   ]
  },
  {
   "cell_type": "code",
   "execution_count": 113,
   "id": "a77019cc",
   "metadata": {},
   "outputs": [],
   "source": [
    "#Pipelines\n",
    "\n",
    "pipeline_age = Pipeline(\n",
    "    [\n",
    "        (\"imputer\", SimpleImputer(strategy=\"mean\")),\n",
    "        (\"scaler\", StandardScaler())\n",
    "    ]\n",
    ")"
   ]
  },
  {
   "cell_type": "code",
   "execution_count": 117,
   "id": "9da1fe10",
   "metadata": {},
   "outputs": [],
   "source": [
    "# Transformers\n",
    "\n",
    "\n",
    "final_transformation = ColumnTransformer(\n",
    "    [\n",
    "        (\"transform twice Age-col2\", pipeline_age, [\"Age\"]),\n",
    "        (\"encoder2\", OneHotEncoder(handle_unknown=\"ignore\", sparse=False), [\"Sex\"]),\n",
    "        (\"encoder3\", OneHotEncoder(handle_unknown=\"ignore\", sparse=False), [\"Embarked\"]),\n",
    "        (\"scaler2\", StandardScaler(), ['Fare']),\n",
    "        (\"scaler3\", StandardScaler(), ['Pclass']),\n",
    "        \n",
    "    ]\n",
    ")\n",
    "\n"
   ]
  },
  {
   "cell_type": "code",
   "execution_count": 118,
   "id": "d7f2b8c0",
   "metadata": {},
   "outputs": [],
   "source": [
    "X_train_FE = final_transformation.fit_transform(X_train)"
   ]
  },
  {
   "cell_type": "code",
   "execution_count": 119,
   "id": "e53db9cf",
   "metadata": {},
   "outputs": [],
   "source": [
    "X_test_FE = final_transformation.transform(X_test)\n"
   ]
  },
  {
   "cell_type": "code",
   "execution_count": 120,
   "id": "c191e117",
   "metadata": {},
   "outputs": [
    {
     "data": {
      "text/plain": [
       "array([[ 0.0171447 ,  0.        ,  1.        , ...,  0.        ,\n",
       "        -0.32839086,  0.80934914],\n",
       "       [ 0.11721087,  0.        ,  1.        , ...,  0.        ,\n",
       "        -0.42042549, -0.40558395],\n",
       "       [-0.72892862,  0.        ,  1.        , ...,  0.        ,\n",
       "        -0.4703621 ,  0.80934914],\n",
       "       ...,\n",
       "       [ 0.0171447 ,  0.        ,  1.        , ...,  0.        ,\n",
       "        -0.47092837,  0.80934914],\n",
       "       [-0.42124153,  1.        ,  0.        , ...,  0.        ,\n",
       "        -0.37194334, -0.40558395],\n",
       "       [-0.88277216,  0.        ,  1.        , ...,  0.        ,\n",
       "        -0.23207234,  0.80934914]])"
      ]
     },
     "execution_count": 120,
     "metadata": {},
     "output_type": "execute_result"
    }
   ],
   "source": [
    "final_transformation.transform(X_test)"
   ]
  },
  {
   "cell_type": "markdown",
   "id": "71ab047a",
   "metadata": {},
   "source": []
  },
  {
   "cell_type": "code",
   "execution_count": 121,
   "id": "f8e2e4a7",
   "metadata": {},
   "outputs": [
    {
     "data": {
      "text/plain": [
       "LogisticRegression()"
      ]
     },
     "execution_count": 121,
     "metadata": {},
     "output_type": "execute_result"
    }
   ],
   "source": [
    "model.fit(X_train_FE, y_train)"
   ]
  },
  {
   "cell_type": "code",
   "execution_count": 122,
   "id": "55a53502",
   "metadata": {},
   "outputs": [
    {
     "data": {
      "text/plain": [
       "array([[0.856575  , 0.143425  ],\n",
       "       [0.79763858, 0.20236142],\n",
       "       [0.8890378 , 0.1109622 ],\n",
       "       [0.13625891, 0.86374109],\n",
       "       [0.24128776, 0.75871224],\n",
       "       [0.08796756, 0.91203244],\n",
       "       [0.36438105, 0.63561895],\n",
       "       [0.87645445, 0.12354555],\n",
       "       [0.28017503, 0.71982497],\n",
       "       [0.07644991, 0.92355009],\n",
       "       [0.61932649, 0.38067351],\n",
       "       [0.94042993, 0.05957007],\n",
       "       [0.46197796, 0.53802204],\n",
       "       [0.85845239, 0.14154761],\n",
       "       [0.81917716, 0.18082284],\n",
       "       [0.06994059, 0.93005941],\n",
       "       [0.65214436, 0.34785564],\n",
       "       [0.36436536, 0.63563464],\n",
       "       [0.77840661, 0.22159339],\n",
       "       [0.68358004, 0.31641996],\n",
       "       [0.89971229, 0.10028771],\n",
       "       [0.60458581, 0.39541419],\n",
       "       [0.3918082 , 0.6081918 ],\n",
       "       [0.88892805, 0.11107195],\n",
       "       [0.91289156, 0.08710844],\n",
       "       [0.85584755, 0.14415245],\n",
       "       [0.50787377, 0.49212623],\n",
       "       [0.79729316, 0.20270684],\n",
       "       [0.83363836, 0.16636164],\n",
       "       [0.47488427, 0.52511573],\n",
       "       [0.88622126, 0.11377874],\n",
       "       [0.41221017, 0.58778983],\n",
       "       [0.4348246 , 0.5651754 ],\n",
       "       [0.46578961, 0.53421039],\n",
       "       [0.88332643, 0.11667357],\n",
       "       [0.84703312, 0.15296688],\n",
       "       [0.56152869, 0.43847131],\n",
       "       [0.36438105, 0.63561895],\n",
       "       [0.06028951, 0.93971049],\n",
       "       [0.91333977, 0.08666023],\n",
       "       [0.73789682, 0.26210318],\n",
       "       [0.91182141, 0.08817859],\n",
       "       [0.91332933, 0.08667067],\n",
       "       [0.87391924, 0.12608076],\n",
       "       [0.43236941, 0.56763059],\n",
       "       [0.87492964, 0.12507036],\n",
       "       [0.88619861, 0.11380139],\n",
       "       [0.89702806, 0.10297194],\n",
       "       [0.89977756, 0.10022244],\n",
       "       [0.61468928, 0.38531072],\n",
       "       [0.19672856, 0.80327144],\n",
       "       [0.16570601, 0.83429399],\n",
       "       [0.93271401, 0.06728599],\n",
       "       [0.42423617, 0.57576383],\n",
       "       [0.949493  , 0.050507  ],\n",
       "       [0.0713917 , 0.9286083 ],\n",
       "       [0.80216238, 0.19783762],\n",
       "       [0.08577493, 0.91422507],\n",
       "       [0.26565325, 0.73434675],\n",
       "       [0.29756681, 0.70243319],\n",
       "       [0.89180792, 0.10819208],\n",
       "       [0.16283027, 0.83716973],\n",
       "       [0.22812728, 0.77187272],\n",
       "       [0.5753183 , 0.4246817 ],\n",
       "       [0.87391924, 0.12608076],\n",
       "       [0.40468177, 0.59531823],\n",
       "       [0.73789682, 0.26210318],\n",
       "       [0.91176436, 0.08823564],\n",
       "       [0.80768804, 0.19231196],\n",
       "       [0.10293457, 0.89706543],\n",
       "       [0.2183267 , 0.7816733 ],\n",
       "       [0.03614121, 0.96385879],\n",
       "       [0.40947147, 0.59052853],\n",
       "       [0.0733282 , 0.9266718 ],\n",
       "       [0.89713633, 0.10286367],\n",
       "       [0.9259894 , 0.0740106 ],\n",
       "       [0.36963971, 0.63036029],\n",
       "       [0.04795483, 0.95204517],\n",
       "       [0.28390903, 0.71609097],\n",
       "       [0.54277584, 0.45722416],\n",
       "       [0.8744315 , 0.1255685 ],\n",
       "       [0.23552136, 0.76447864],\n",
       "       [0.07227147, 0.92772853],\n",
       "       [0.87392041, 0.12607959],\n",
       "       [0.61802643, 0.38197357],\n",
       "       [0.70869476, 0.29130524],\n",
       "       [0.05794711, 0.94205289],\n",
       "       [0.05904505, 0.94095495],\n",
       "       [0.6365401 , 0.3634599 ],\n",
       "       [0.91338348, 0.08661652],\n",
       "       [0.85311765, 0.14688235],\n",
       "       [0.32248069, 0.67751931],\n",
       "       [0.76545203, 0.23454797],\n",
       "       [0.8739212 , 0.1260788 ],\n",
       "       [0.91333977, 0.08666023],\n",
       "       [0.90946535, 0.09053465],\n",
       "       [0.68966158, 0.31033842],\n",
       "       [0.94199376, 0.05800624],\n",
       "       [0.27255822, 0.72744178],\n",
       "       [0.90710804, 0.09289196],\n",
       "       [0.7812569 , 0.2187431 ],\n",
       "       [0.92453329, 0.07546671],\n",
       "       [0.04274924, 0.95725076],\n",
       "       [0.93024469, 0.06975531],\n",
       "       [0.9151045 , 0.0848955 ],\n",
       "       [0.90224303, 0.09775697],\n",
       "       [0.29093108, 0.70906892],\n",
       "       [0.68607263, 0.31392737],\n",
       "       [0.9139026 , 0.0860974 ],\n",
       "       [0.50717264, 0.49282736],\n",
       "       [0.09875044, 0.90124956],\n",
       "       [0.8904806 , 0.1095194 ],\n",
       "       [0.0570749 , 0.9429251 ],\n",
       "       [0.61806962, 0.38193038],\n",
       "       [0.53395825, 0.46604175],\n",
       "       [0.8888756 , 0.1111244 ],\n",
       "       [0.71131034, 0.28868966],\n",
       "       [0.72095302, 0.27904698],\n",
       "       [0.1992374 , 0.8007626 ],\n",
       "       [0.58837623, 0.41162377],\n",
       "       [0.75852893, 0.24147107],\n",
       "       [0.06130498, 0.93869502],\n",
       "       [0.21548581, 0.78451419],\n",
       "       [0.62317441, 0.37682559],\n",
       "       [0.90228263, 0.09771737],\n",
       "       [0.47282138, 0.52717862],\n",
       "       [0.1620083 , 0.8379917 ],\n",
       "       [0.38585565, 0.61414435],\n",
       "       [0.33077962, 0.66922038],\n",
       "       [0.89178522, 0.10821478],\n",
       "       [0.36435546, 0.63564454],\n",
       "       [0.856575  , 0.143425  ],\n",
       "       [0.79311645, 0.20688355],\n",
       "       [0.30166763, 0.69833237],\n",
       "       [0.56485492, 0.43514508],\n",
       "       [0.24598972, 0.75401028],\n",
       "       [0.05608048, 0.94391952],\n",
       "       [0.91177124, 0.08822876],\n",
       "       [0.93720833, 0.06279167],\n",
       "       [0.38308129, 0.61691871],\n",
       "       [0.89175358, 0.10824642],\n",
       "       [0.3171958 , 0.6828042 ],\n",
       "       [0.78324351, 0.21675649],\n",
       "       [0.82170268, 0.17829732],\n",
       "       [0.42267492, 0.57732508],\n",
       "       [0.25828697, 0.74171303],\n",
       "       [0.7926868 , 0.2073132 ],\n",
       "       [0.91379255, 0.08620745],\n",
       "       [0.05448837, 0.94551163],\n",
       "       [0.93882667, 0.06117333],\n",
       "       [0.85726024, 0.14273976],\n",
       "       [0.89974316, 0.10025684],\n",
       "       [0.88334884, 0.11665116],\n",
       "       [0.36113801, 0.63886199],\n",
       "       [0.91332933, 0.08667067],\n",
       "       [0.91339702, 0.08660298],\n",
       "       [0.90999211, 0.09000789],\n",
       "       [0.36437362, 0.63562638],\n",
       "       [0.2703589 , 0.7296411 ],\n",
       "       [0.3780117 , 0.6219883 ],\n",
       "       [0.83462602, 0.16537398],\n",
       "       [0.57518766, 0.42481234],\n",
       "       [0.83139905, 0.16860095],\n",
       "       [0.05739493, 0.94260507],\n",
       "       [0.87385246, 0.12614754],\n",
       "       [0.67013518, 0.32986482],\n",
       "       [0.75868558, 0.24131442],\n",
       "       [0.0987609 , 0.9012391 ],\n",
       "       [0.89449524, 0.10550476],\n",
       "       [0.92453776, 0.07546224],\n",
       "       [0.3823751 , 0.6176249 ],\n",
       "       [0.18385612, 0.81614388],\n",
       "       [0.61804942, 0.38195058],\n",
       "       [0.21578874, 0.78421126],\n",
       "       [0.8804651 , 0.1195349 ],\n",
       "       [0.85741588, 0.14258412],\n",
       "       [0.51928306, 0.48071694],\n",
       "       [0.17996822, 0.82003178],\n",
       "       [0.29499474, 0.70500526],\n",
       "       [0.67873837, 0.32126163],\n",
       "       [0.75829383, 0.24170617],\n",
       "       [0.91834878, 0.08165122],\n",
       "       [0.90470192, 0.09529808],\n",
       "       [0.30424011, 0.69575989],\n",
       "       [0.35234334, 0.64765666],\n",
       "       [0.67601454, 0.32398546],\n",
       "       [0.67669944, 0.32330056],\n",
       "       [0.91333977, 0.08666023],\n",
       "       [0.57331584, 0.42668416],\n",
       "       [0.30744391, 0.69255609],\n",
       "       [0.92548364, 0.07451636],\n",
       "       [0.8063726 , 0.1936274 ],\n",
       "       [0.88047147, 0.11952853],\n",
       "       [0.91165247, 0.08834753],\n",
       "       [0.35500659, 0.64499341],\n",
       "       [0.10969426, 0.89030574],\n",
       "       [0.06366042, 0.93633958],\n",
       "       [0.8106523 , 0.1893477 ],\n",
       "       [0.07080468, 0.92919532],\n",
       "       [0.33495324, 0.66504676],\n",
       "       [0.96235653, 0.03764347],\n",
       "       [0.46766938, 0.53233062],\n",
       "       [0.14031479, 0.85968521],\n",
       "       [0.69049273, 0.30950727],\n",
       "       [0.82051633, 0.17948367],\n",
       "       [0.32928536, 0.67071464],\n",
       "       [0.91165362, 0.08834638],\n",
       "       [0.59897535, 0.40102465],\n",
       "       [0.85665774, 0.14334226],\n",
       "       [0.9492504 , 0.0507496 ],\n",
       "       [0.37915214, 0.62084786],\n",
       "       [0.91405392, 0.08594608],\n",
       "       [0.0711228 , 0.9288772 ],\n",
       "       [0.87392159, 0.12607841],\n",
       "       [0.46197796, 0.53802204],\n",
       "       [0.82648901, 0.17351099],\n",
       "       [0.21296745, 0.78703255],\n",
       "       [0.57776645, 0.42223355],\n",
       "       [0.21354154, 0.78645846],\n",
       "       [0.91338348, 0.08661652],\n",
       "       [0.91333977, 0.08666023],\n",
       "       [0.21067657, 0.78932343],\n",
       "       [0.88224988, 0.11775012]])"
      ]
     },
     "execution_count": 122,
     "metadata": {},
     "output_type": "execute_result"
    }
   ],
   "source": [
    "\n",
    "model.predict_proba(X_test_FE)"
   ]
  },
  {
   "cell_type": "code",
   "execution_count": 123,
   "id": "ec325a48",
   "metadata": {},
   "outputs": [
    {
     "data": {
      "text/plain": [
       "0.7949101796407185"
      ]
     },
     "execution_count": 123,
     "metadata": {},
     "output_type": "execute_result"
    }
   ],
   "source": [
    "# Calculate the train accuracy\n",
    "\n",
    "model.score(X_train_FE, y_train)"
   ]
  },
  {
   "cell_type": "code",
   "execution_count": 124,
   "id": "ed37ca0a",
   "metadata": {},
   "outputs": [
    {
     "data": {
      "text/plain": [
       "0.7847533632286996"
      ]
     },
     "execution_count": 124,
     "metadata": {},
     "output_type": "execute_result"
    }
   ],
   "source": [
    "# Calculate the validation accuracy\n",
    "\n",
    "model.score(X_test_FE, y_test)"
   ]
  },
  {
   "cell_type": "code",
   "execution_count": 125,
   "id": "9ada3aac",
   "metadata": {},
   "outputs": [
    {
     "data": {
      "text/plain": [
       "array([0, 0, 0, 1, 1, 1, 1, 0, 1, 1, 0, 0, 1, 0, 0, 1, 0, 1, 0, 0, 0, 0,\n",
       "       1, 0, 0, 0, 0, 0, 0, 1, 0, 1, 1, 1, 0, 0, 0, 1, 1, 0, 0, 0, 0, 0,\n",
       "       1, 0, 0, 0, 0, 0, 1, 1, 0, 1, 0, 1, 0, 1, 1, 1, 0, 1, 1, 0, 0, 1,\n",
       "       0, 0, 0, 1, 1, 1, 1, 1, 0, 0, 1, 1, 1, 0, 0, 1, 1, 0, 0, 0, 1, 1,\n",
       "       0, 0, 0, 1, 0, 0, 0, 0, 0, 0, 1, 0, 0, 0, 1, 0, 0, 0, 1, 0, 0, 0,\n",
       "       1, 0, 1, 0, 0, 0, 0, 0, 1, 0, 0, 1, 1, 0, 0, 1, 1, 1, 1, 0, 1, 0,\n",
       "       0, 1, 0, 1, 1, 0, 0, 1, 0, 1, 0, 0, 1, 1, 0, 0, 1, 0, 0, 0, 0, 1,\n",
       "       0, 0, 0, 1, 1, 1, 0, 0, 0, 1, 0, 0, 0, 1, 0, 0, 1, 1, 0, 1, 0, 0,\n",
       "       0, 1, 1, 0, 0, 0, 0, 1, 1, 0, 0, 0, 0, 1, 0, 0, 0, 0, 1, 1, 1, 0,\n",
       "       1, 1, 0, 1, 1, 0, 0, 1, 0, 0, 0, 0, 1, 0, 1, 0, 1, 0, 1, 0, 1, 0,\n",
       "       0, 1, 0], dtype=int64)"
      ]
     },
     "execution_count": 125,
     "metadata": {},
     "output_type": "execute_result"
    }
   ],
   "source": [
    "YPred = model.predict(X_test_FE)\n",
    "YPred\n"
   ]
  },
  {
   "cell_type": "code",
   "execution_count": 126,
   "id": "97ae77c1",
   "metadata": {},
   "outputs": [
    {
     "data": {
      "text/plain": [
       "0.7847533632286996"
      ]
     },
     "execution_count": 126,
     "metadata": {},
     "output_type": "execute_result"
    }
   ],
   "source": [
    "accuracy_score(y_test, YPred)"
   ]
  },
  {
   "cell_type": "code",
   "execution_count": null,
   "id": "ea101250",
   "metadata": {},
   "outputs": [],
   "source": [
    "# We can conviniently say there is no overfitting here since our train and test data values are very close"
   ]
  },
  {
   "cell_type": "markdown",
   "id": "5ff4af42",
   "metadata": {},
   "source": [
    "#  Random Forest \n",
    "   (Excluding categorical variables)\n",
    "\n",
    "\n"
   ]
  },
  {
   "cell_type": "code",
   "execution_count": 127,
   "id": "c8d4edda",
   "metadata": {},
   "outputs": [
    {
     "data": {
      "text/plain": [
       "[(0.13299140119472214, 'Pclass'),\n",
       " (0.18369065460776549, 'Age'),\n",
       " (0.08387410051571459, 'SibSp'),\n",
       " (0.08739828108576707, 'Parch'),\n",
       " (0.5120455625960307, 'Fare')]"
      ]
     },
     "execution_count": 127,
     "metadata": {},
     "output_type": "execute_result"
    }
   ],
   "source": [
    "from sklearn.ensemble import RandomForestClassifier\n",
    "from sklearn.tree import DecisionTreeClassifier\n",
    "\n",
    "X = dtrain[['Pclass', 'Age', 'SibSp', 'Parch', 'Fare']]\n",
    "y = dtrain[\"Survived\"]\n",
    "\n",
    "train, test = train_test_split(dtrain)\n",
    "\n",
    "\n",
    "Xtrain = train[['Pclass', 'Age', 'SibSp', 'Parch', 'Fare']]\n",
    "ytrain = train['Survived']\n",
    "\n",
    "\n",
    "rf = RandomForestClassifier(n_estimators=10, max_depth=2)\n",
    "rf.fit(Xtrain, ytrain)\n",
    "\n",
    "importance=rf.feature_importances_\n",
    "\n",
    "\n",
    "list(zip(importance, Xtrain.columns))"
   ]
  },
  {
   "cell_type": "markdown",
   "id": "b601e56d",
   "metadata": {},
   "source": [
    "# Random Forest\n",
    "\n",
    "(With transformed categorical variables)\n",
    "\n",
    "\n"
   ]
  },
  {
   "cell_type": "code",
   "execution_count": 129,
   "id": "77c83d0f",
   "metadata": {},
   "outputs": [
    {
     "data": {
      "text/plain": [
       "[(0.0896461497247775, 'Pclass'),\n",
       " (0.16022611452034935, 'Sex'),\n",
       " (0.4389839372131699, 'Age'),\n",
       " (0.12568263460847054, 'SibSp'),\n",
       " (0.02128191667770394, 'Parch'),\n",
       " (0.03093412273948513, 'Fare'),\n",
       " (0.01511801287537769, 'Embarked')]"
      ]
     },
     "execution_count": 129,
     "metadata": {},
     "output_type": "execute_result"
    }
   ],
   "source": [
    "from sklearn.ensemble import RandomForestClassifier\n",
    "from sklearn.tree import DecisionTreeClassifier\n",
    "\n",
    "X = df[['Pclass', 'Sex', 'Age', 'SibSp', 'Parch', 'Fare', 'Embarked']]\n",
    "y = df[\"Survived\"]\n",
    "\n",
    "train, test = train_test_split(df)\n",
    "\n",
    "\n",
    "Xtrain = train[['Pclass', 'Sex', 'Age', 'SibSp', 'Parch', 'Fare', 'Embarked']]\n",
    "ytrain = train['Survived']\n",
    "\n",
    "Xtest = test[['Pclass', 'Sex', 'Age', 'SibSp', 'Parch', 'Fare', 'Embarked']]\n",
    "ytest = test['Survived']\n",
    "\n",
    "# Transform categorical variables into numeric ones\n",
    "\n",
    "\n",
    "final_transformation = ColumnTransformer(\n",
    "    [\n",
    "        (\"transform twice Age-col3\", pipeline_age, [\"Age\"]),\n",
    "        (\"encoder5\", OneHotEncoder(handle_unknown=\"ignore\", sparse=False), [\"Sex\"]),\n",
    "        (\"encoder6\", OneHotEncoder(handle_unknown=\"ignore\", sparse=False), [\"Embarked\"]),\n",
    "        (\"scaler3\", StandardScaler(), ['Fare']),\n",
    "                \n",
    "    ]\n",
    ")\n",
    "\n",
    "\n",
    "X_train_FE = final_transformation.fit_transform(Xtrain)\n",
    "\n",
    "X_test_FE = final_transformation.transform(Xtest)\n",
    "\n",
    "rf = RandomForestClassifier(n_estimators=10, max_depth=2)\n",
    "rf.fit(X_train_FE, ytrain)\n",
    "\n",
    "importance=rf.feature_importances_\n",
    "\n",
    "\n",
    "list(zip(importance, Xtrain.columns))\n",
    "\n",
    "\n"
   ]
  },
  {
   "cell_type": "code",
   "execution_count": 130,
   "id": "71003aea",
   "metadata": {},
   "outputs": [
    {
     "data": {
      "text/plain": [
       "0.7934131736526946"
      ]
     },
     "execution_count": 130,
     "metadata": {},
     "output_type": "execute_result"
    }
   ],
   "source": [
    "rf.score(X_train_FE, ytrain)\n"
   ]
  },
  {
   "cell_type": "code",
   "execution_count": 131,
   "id": "fc0ab206",
   "metadata": {},
   "outputs": [
    {
     "data": {
      "text/plain": [
       "0.7802690582959642"
      ]
     },
     "execution_count": 131,
     "metadata": {},
     "output_type": "execute_result"
    }
   ],
   "source": [
    "rf.score(X_test_FE, ytest)"
   ]
  },
  {
   "cell_type": "code",
   "execution_count": null,
   "id": "44d66230",
   "metadata": {},
   "outputs": [],
   "source": []
  },
  {
   "cell_type": "code",
   "execution_count": null,
   "id": "9fcf68c3",
   "metadata": {},
   "outputs": [],
   "source": []
  }
 ],
 "metadata": {
  "kernelspec": {
   "display_name": "Python 3",
   "language": "python",
   "name": "python3"
  },
  "language_info": {
   "codemirror_mode": {
    "name": "ipython",
    "version": 3
   },
   "file_extension": ".py",
   "mimetype": "text/x-python",
   "name": "python",
   "nbconvert_exporter": "python",
   "pygments_lexer": "ipython3",
   "version": "3.8.8"
  }
 },
 "nbformat": 4,
 "nbformat_minor": 5
}
