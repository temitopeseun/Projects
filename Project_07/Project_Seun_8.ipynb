{
 "cells": [
  {
   "cell_type": "markdown",
   "metadata": {},
   "source": [
    "## Project 8: Monto carlo simulation"
   ]
  },
  {
   "cell_type": "markdown",
   "metadata": {},
   "source": [
    "#### 19 August 2022"
   ]
  },
  {
   "cell_type": "code",
   "execution_count": null,
   "metadata": {},
   "outputs": [],
   "source": []
  },
  {
   "cell_type": "code",
   "execution_count": 2,
   "metadata": {},
   "outputs": [],
   "source": [
    "import pandas as pd"
   ]
  },
  {
   "cell_type": "code",
   "execution_count": 3,
   "metadata": {},
   "outputs": [
    {
     "data": {
      "text/html": [
       "<div>\n",
       "<style scoped>\n",
       "    .dataframe tbody tr th:only-of-type {\n",
       "        vertical-align: middle;\n",
       "    }\n",
       "\n",
       "    .dataframe tbody tr th {\n",
       "        vertical-align: top;\n",
       "    }\n",
       "\n",
       "    .dataframe thead th {\n",
       "        text-align: right;\n",
       "    }\n",
       "</style>\n",
       "<table border=\"1\" class=\"dataframe\">\n",
       "  <thead>\n",
       "    <tr style=\"text-align: right;\">\n",
       "      <th></th>\n",
       "      <th>timestamp</th>\n",
       "      <th>customer_no</th>\n",
       "      <th>location</th>\n",
       "    </tr>\n",
       "  </thead>\n",
       "  <tbody>\n",
       "    <tr>\n",
       "      <th>0</th>\n",
       "      <td>2019-09-02 07:03:00</td>\n",
       "      <td>1</td>\n",
       "      <td>dairy</td>\n",
       "    </tr>\n",
       "    <tr>\n",
       "      <th>1</th>\n",
       "      <td>2019-09-02 07:03:00</td>\n",
       "      <td>2</td>\n",
       "      <td>dairy</td>\n",
       "    </tr>\n",
       "    <tr>\n",
       "      <th>2</th>\n",
       "      <td>2019-09-02 07:04:00</td>\n",
       "      <td>3</td>\n",
       "      <td>dairy</td>\n",
       "    </tr>\n",
       "  </tbody>\n",
       "</table>\n",
       "</div>"
      ],
      "text/plain": [
       "             timestamp  customer_no location\n",
       "0  2019-09-02 07:03:00            1    dairy\n",
       "1  2019-09-02 07:03:00            2    dairy\n",
       "2  2019-09-02 07:04:00            3    dairy"
      ]
     },
     "execution_count": 3,
     "metadata": {},
     "output_type": "execute_result"
    }
   ],
   "source": [
    "df_Mon=pd.read_csv(r'/home/seun/Desktop/spicedacademy/Week8/classwork/monday.csv', sep=\";\") \n",
    "df_Tue=pd.read_csv(r'/home/seun/Desktop/spicedacademy/Week8/classwork/tuesday.csv', sep=\";\") \n",
    "df_Wed=pd.read_csv(r'/home/seun/Desktop/spicedacademy/Week8/classwork/wednesday.csv', sep=\";\") \n",
    "df_Thu=pd.read_csv(r'/home/seun/Desktop/spicedacademy/Week8/classwork/thursday.csv', sep=\";\") \n",
    "df_Fri=pd.read_csv(r'/home/seun/Desktop/spicedacademy/Week8/classwork/friday.csv', sep=\";\") \n",
    "\n",
    "df_Mon.head(3)"
   ]
  },
  {
   "cell_type": "code",
   "execution_count": 4,
   "metadata": {},
   "outputs": [],
   "source": [
    "df_Mon['customer_no'] = df_Mon['customer_no'] + 100000\n",
    "df_Tue['customer_no'] = df_Tue['customer_no'] + 20000\n",
    "df_Wed['customer_no'] = df_Wed['customer_no'] + 300000\n",
    "df_Thu['customer_no'] = df_Thu['customer_no'] + 40000\n",
    "df_Fri['customer_no'] = df_Fri['customer_no'] + 500000"
   ]
  },
  {
   "cell_type": "code",
   "execution_count": 5,
   "metadata": {},
   "outputs": [],
   "source": [
    "def location_count(dayz):\n",
    "    da=dayz.groupby(\"location\")[\"customer_no\"].count()\n",
    "    da=pd.DataFrame(da)\n",
    "    da.reset_index(inplace=True)\n",
    "    return da"
   ]
  },
  {
   "cell_type": "code",
   "execution_count": 6,
   "metadata": {},
   "outputs": [],
   "source": [
    "index_mon = pd.Index(['Mon', 'Mon', 'Mon', 'Mon','Mon'])\n",
    "index_tue = pd.Index(['Tue', 'Tue', 'Tue', 'Tue','Tue'])\n",
    "index_wed = pd.Index(['Wed', 'Wed', 'Wed', 'Wed','Wed'])\n",
    "index_thu = pd.Index(['Thu', 'Thu', 'Thu', 'Thu','Thu'])\n",
    "index_fri = pd.Index(['Fri', 'Fri', 'Fri', 'Fri','Fri'])\n",
    "\n",
    "mon_loc=location_count(df_Mon).set_index(index_mon)\n",
    "tue_loc=location_count(df_Tue).set_index(index_tue)\n",
    "wed_loc=location_count(df_Wed).set_index(index_wed)\n",
    "thu_loc=location_count(df_Thu).set_index(index_thu)\n",
    "fri_loc=location_count(df_Fri).set_index(index_fri)"
   ]
  },
  {
   "cell_type": "code",
   "execution_count": 7,
   "metadata": {},
   "outputs": [
    {
     "data": {
      "text/plain": [
       "Text(0, 0.5, 'Count')"
      ]
     },
     "execution_count": 7,
     "metadata": {},
     "output_type": "execute_result"
    },
    {
     "data": {
      "text/plain": [
       "<Figure size 5400x360 with 0 Axes>"
      ]
     },
     "metadata": {},
     "output_type": "display_data"
    },
    {
     "data": {
      "image/png": "[encoded data removed]",
      "text/plain": [
       "<Figure size 432x288 with 1 Axes>"
      ]
     },
     "metadata": {},
     "output_type": "display_data"
    }
   ],
   "source": [
    "import matplotlib.pyplot as plt\n",
    "import seaborn as sns\n",
    "from matplotlib import pyplot\n",
    "import seaborn\n",
    "\n",
    "\n",
    "frames = [mon_loc, tue_loc, wed_loc, thu_loc,fri_loc]\n",
    "f3 = pd.concat(frames)\n",
    "\n",
    "f3=f3.pivot(columns='location',values='customer_no')\n",
    "\n",
    "df = pd.DataFrame(f3,columns=['checkout','dairy','drinks','fruit','spices'], index = ['Mon','Tue','Wed','Thu','Fri'])\n",
    "\n",
    "sns.set_style(\"dark\")\n",
    "plt.figure(figsize=(75,5))\n",
    "g=df.plot(kind=\"bar\")\n",
    "plt.grid(True)\n",
    "\n",
    "plt.xlabel('Days',fontsize=13,color='k')\n",
    "plt.ylabel('Count',fontsize=13,color='k')\n",
    "\n",
    "\n"
   ]
  },
  {
   "cell_type": "code",
   "execution_count": 8,
   "metadata": {},
   "outputs": [
    {
     "data": {
      "text/html": [
       "<div>\n",
       "<style scoped>\n",
       "    .dataframe tbody tr th:only-of-type {\n",
       "        vertical-align: middle;\n",
       "    }\n",
       "\n",
       "    .dataframe tbody tr th {\n",
       "        vertical-align: top;\n",
       "    }\n",
       "\n",
       "    .dataframe thead th {\n",
       "        text-align: right;\n",
       "    }\n",
       "</style>\n",
       "<table border=\"1\" class=\"dataframe\">\n",
       "  <thead>\n",
       "    <tr style=\"text-align: right;\">\n",
       "      <th></th>\n",
       "      <th>timestamp</th>\n",
       "      <th>customer_no</th>\n",
       "      <th>location</th>\n",
       "    </tr>\n",
       "  </thead>\n",
       "  <tbody>\n",
       "    <tr>\n",
       "      <th>0</th>\n",
       "      <td>2019-09-02 07:03:00</td>\n",
       "      <td>100001</td>\n",
       "      <td>dairy</td>\n",
       "    </tr>\n",
       "    <tr>\n",
       "      <th>1</th>\n",
       "      <td>2019-09-02 07:03:00</td>\n",
       "      <td>100002</td>\n",
       "      <td>dairy</td>\n",
       "    </tr>\n",
       "    <tr>\n",
       "      <th>2</th>\n",
       "      <td>2019-09-02 07:04:00</td>\n",
       "      <td>100003</td>\n",
       "      <td>dairy</td>\n",
       "    </tr>\n",
       "  </tbody>\n",
       "</table>\n",
       "</div>"
      ],
      "text/plain": [
       "             timestamp  customer_no location\n",
       "0  2019-09-02 07:03:00       100001    dairy\n",
       "1  2019-09-02 07:03:00       100002    dairy\n",
       "2  2019-09-02 07:04:00       100003    dairy"
      ]
     },
     "execution_count": 8,
     "metadata": {},
     "output_type": "execute_result"
    }
   ],
   "source": [
    "d1 = df_Mon.merge(df_Tue, how='outer')\n",
    "d2 = d1.merge(df_Wed, how='outer')\n",
    "d3 = d2.merge(df_Thu, how='outer')\n",
    "Week_Data= d3.merge(df_Fri, how='outer')\n",
    "Week_Data.head(3)"
   ]
  },
  {
   "cell_type": "code",
   "execution_count": 9,
   "metadata": {},
   "outputs": [],
   "source": [
    "Week_Data['timestamp'] = pd.to_datetime(Week_Data['timestamp'] )"
   ]
  },
  {
   "cell_type": "code",
   "execution_count": 10,
   "metadata": {},
   "outputs": [
    {
     "data": {
      "text/html": [
       "<div>\n",
       "<style scoped>\n",
       "    .dataframe tbody tr th:only-of-type {\n",
       "        vertical-align: middle;\n",
       "    }\n",
       "\n",
       "    .dataframe tbody tr th {\n",
       "        vertical-align: top;\n",
       "    }\n",
       "\n",
       "    .dataframe thead th {\n",
       "        text-align: right;\n",
       "    }\n",
       "</style>\n",
       "<table border=\"1\" class=\"dataframe\">\n",
       "  <thead>\n",
       "    <tr style=\"text-align: right;\">\n",
       "      <th></th>\n",
       "      <th>location</th>\n",
       "      <th>customer_no</th>\n",
       "    </tr>\n",
       "  </thead>\n",
       "  <tbody>\n",
       "    <tr>\n",
       "      <th>0</th>\n",
       "      <td>checkout</td>\n",
       "      <td>7417</td>\n",
       "    </tr>\n",
       "    <tr>\n",
       "      <th>1</th>\n",
       "      <td>dairy</td>\n",
       "      <td>4679</td>\n",
       "    </tr>\n",
       "    <tr>\n",
       "      <th>2</th>\n",
       "      <td>drinks</td>\n",
       "      <td>3905</td>\n",
       "    </tr>\n",
       "    <tr>\n",
       "      <th>3</th>\n",
       "      <td>fruit</td>\n",
       "      <td>5122</td>\n",
       "    </tr>\n",
       "    <tr>\n",
       "      <th>4</th>\n",
       "      <td>spices</td>\n",
       "      <td>3754</td>\n",
       "    </tr>\n",
       "  </tbody>\n",
       "</table>\n",
       "</div>"
      ],
      "text/plain": [
       "   location  customer_no\n",
       "0  checkout         7417\n",
       "1     dairy         4679\n",
       "2    drinks         3905\n",
       "3     fruit         5122\n",
       "4    spices         3754"
      ]
     },
     "execution_count": 10,
     "metadata": {},
     "output_type": "execute_result"
    }
   ],
   "source": [
    "data_grp = Week_Data.groupby(\"location\")[\"customer_no\"].count()\n",
    "sections = pd.DataFrame(data_grp)\n",
    "sections.reset_index(inplace=True)\n",
    "sections"
   ]
  },
  {
   "cell_type": "code",
   "execution_count": 11,
   "metadata": {},
   "outputs": [
    {
     "data": {
      "image/png": "[encoded data removed]",
      "text/plain": [
       "<Figure size 432x288 with 1 Axes>"
      ]
     },
     "metadata": {},
     "output_type": "display_data"
    }
   ],
   "source": [
    "import matplotlib.pyplot as plt\n",
    "ax = sections.plot.bar(x='location', y='customer_no', rot=0)\n",
    "plt.grid(True)"
   ]
  },
  {
   "cell_type": "code",
   "execution_count": 12,
   "metadata": {},
   "outputs": [],
   "source": [
    "def expand_time(dataz):\n",
    "    pd.set_option('display.max_rows', None)\n",
    "    dataz['timestamp'] = pd.to_datetime(dataz['timestamp'])\n",
    "    dataz['hour'] = dataz['timestamp'].dt.hour\n",
    "    dataz['day'] = dataz['timestamp'].dt.day\n",
    "    dataz['date'] = dataz['timestamp'].dt.date  \n",
    "    dataz.set_index(dataz['date'], inplace=True)\n",
    "    #dataz=dataz.drop(columns=['timestamp'])\n",
    "    return dataz"
   ]
  },
  {
   "cell_type": "code",
   "execution_count": 13,
   "metadata": {},
   "outputs": [
    {
     "data": {
      "text/html": [
       "<div>\n",
       "<style scoped>\n",
       "    .dataframe tbody tr th:only-of-type {\n",
       "        vertical-align: middle;\n",
       "    }\n",
       "\n",
       "    .dataframe tbody tr th {\n",
       "        vertical-align: top;\n",
       "    }\n",
       "\n",
       "    .dataframe thead th {\n",
       "        text-align: right;\n",
       "    }\n",
       "</style>\n",
       "<table border=\"1\" class=\"dataframe\">\n",
       "  <thead>\n",
       "    <tr style=\"text-align: right;\">\n",
       "      <th></th>\n",
       "      <th>timestamp</th>\n",
       "      <th>customer_no</th>\n",
       "      <th>location</th>\n",
       "      <th>hour</th>\n",
       "      <th>day</th>\n",
       "      <th>date</th>\n",
       "    </tr>\n",
       "    <tr>\n",
       "      <th>date</th>\n",
       "      <th></th>\n",
       "      <th></th>\n",
       "      <th></th>\n",
       "      <th></th>\n",
       "      <th></th>\n",
       "      <th></th>\n",
       "    </tr>\n",
       "  </thead>\n",
       "  <tbody>\n",
       "    <tr>\n",
       "      <th>2019-09-02</th>\n",
       "      <td>2019-09-02 07:03:00</td>\n",
       "      <td>100001</td>\n",
       "      <td>dairy</td>\n",
       "      <td>7</td>\n",
       "      <td>2</td>\n",
       "      <td>2019-09-02</td>\n",
       "    </tr>\n",
       "    <tr>\n",
       "      <th>2019-09-02</th>\n",
       "      <td>2019-09-02 07:03:00</td>\n",
       "      <td>100002</td>\n",
       "      <td>dairy</td>\n",
       "      <td>7</td>\n",
       "      <td>2</td>\n",
       "      <td>2019-09-02</td>\n",
       "    </tr>\n",
       "    <tr>\n",
       "      <th>2019-09-02</th>\n",
       "      <td>2019-09-02 07:04:00</td>\n",
       "      <td>100003</td>\n",
       "      <td>dairy</td>\n",
       "      <td>7</td>\n",
       "      <td>2</td>\n",
       "      <td>2019-09-02</td>\n",
       "    </tr>\n",
       "    <tr>\n",
       "      <th>2019-09-02</th>\n",
       "      <td>2019-09-02 07:04:00</td>\n",
       "      <td>100004</td>\n",
       "      <td>dairy</td>\n",
       "      <td>7</td>\n",
       "      <td>2</td>\n",
       "      <td>2019-09-02</td>\n",
       "    </tr>\n",
       "    <tr>\n",
       "      <th>2019-09-02</th>\n",
       "      <td>2019-09-02 07:04:00</td>\n",
       "      <td>100005</td>\n",
       "      <td>spices</td>\n",
       "      <td>7</td>\n",
       "      <td>2</td>\n",
       "      <td>2019-09-02</td>\n",
       "    </tr>\n",
       "  </tbody>\n",
       "</table>\n",
       "</div>"
      ],
      "text/plain": [
       "                     timestamp  customer_no location  hour  day        date\n",
       "date                                                                       \n",
       "2019-09-02 2019-09-02 07:03:00       100001    dairy     7    2  2019-09-02\n",
       "2019-09-02 2019-09-02 07:03:00       100002    dairy     7    2  2019-09-02\n",
       "2019-09-02 2019-09-02 07:04:00       100003    dairy     7    2  2019-09-02\n",
       "2019-09-02 2019-09-02 07:04:00       100004    dairy     7    2  2019-09-02\n",
       "2019-09-02 2019-09-02 07:04:00       100005   spices     7    2  2019-09-02"
      ]
     },
     "execution_count": 13,
     "metadata": {},
     "output_type": "execute_result"
    }
   ],
   "source": [
    "Week_Data=expand_time(Week_Data)\n",
    "\n",
    "#Week_Data.reset_index(drop=True, inplace=True)\n",
    "Week_Data.head()"
   ]
  },
  {
   "cell_type": "code",
   "execution_count": 14,
   "metadata": {},
   "outputs": [],
   "source": [
    "#data_dairy = Week_Data.loc[Week_Data['location'] == 'dairy']\n",
    "#data_drinks =Week_Data.loc[Week_Data['location'] == 'drinks']\n",
    "#data_fruit = Week_Data.loc[Week_Data['location'] == 'fruit']\n",
    "#data_spices = Week_Data.loc[Week_Data['location'] == 'spices']\n",
    "#data_checkout = Week_Data.loc[Week_Data['location'] == 'checkout']\n"
   ]
  },
  {
   "cell_type": "markdown",
   "metadata": {},
   "source": [
    "### Number of customers in each section over 5 days "
   ]
  },
  {
   "cell_type": "code",
   "execution_count": 15,
   "metadata": {},
   "outputs": [
    {
     "data": {
      "image/png": "[encoded data removed]",
      "text/plain": [
       "<Figure size 1008x288 with 1 Axes>"
      ]
     },
     "metadata": {},
     "output_type": "display_data"
    }
   ],
   "source": [
    "import matplotlib.pyplot as plt\n",
    "import seaborn as sns\n",
    "from matplotlib import pyplot\n",
    "import seaborn\n",
    "\n",
    "total_customers = pd.DataFrame(Week_Data.groupby(['hour','location'])['customer_no'].count())\n",
    "total_customers.reset_index(inplace=True)\n",
    "g=sns.relplot(x='hour', y='customer_no', hue='location', kind='line', data=total_customers)\n",
    "g.fig.set_figwidth(14)\n",
    "g.fig.set_figheight(4)\n",
    "plt.grid(True)"
   ]
  },
  {
   "cell_type": "code",
   "execution_count": 16,
   "metadata": {},
   "outputs": [],
   "source": [
    "Week_Data.reset_index(drop=True, inplace=True)\n",
    "\n",
    "Week_Data.sort_values(by=['customer_no','timestamp'],inplace=True)\n"
   ]
  },
  {
   "cell_type": "code",
   "execution_count": 17,
   "metadata": {},
   "outputs": [
    {
     "data": {
      "text/html": [
       "<div>\n",
       "<style scoped>\n",
       "    .dataframe tbody tr th:only-of-type {\n",
       "        vertical-align: middle;\n",
       "    }\n",
       "\n",
       "    .dataframe tbody tr th {\n",
       "        vertical-align: top;\n",
       "    }\n",
       "\n",
       "    .dataframe thead th {\n",
       "        text-align: right;\n",
       "    }\n",
       "</style>\n",
       "<table border=\"1\" class=\"dataframe\">\n",
       "  <thead>\n",
       "    <tr style=\"text-align: right;\">\n",
       "      <th></th>\n",
       "      <th>timestamp</th>\n",
       "      <th>customer_no</th>\n",
       "      <th>location</th>\n",
       "    </tr>\n",
       "  </thead>\n",
       "  <tbody>\n",
       "    <tr>\n",
       "      <th>4884</th>\n",
       "      <td>2019-09-03 07:02:00</td>\n",
       "      <td>20001</td>\n",
       "      <td>fruit</td>\n",
       "    </tr>\n",
       "    <tr>\n",
       "      <th>4887</th>\n",
       "      <td>2019-09-03 07:05:00</td>\n",
       "      <td>20001</td>\n",
       "      <td>drinks</td>\n",
       "    </tr>\n",
       "    <tr>\n",
       "      <th>4909</th>\n",
       "      <td>2019-09-03 07:12:00</td>\n",
       "      <td>20001</td>\n",
       "      <td>checkout</td>\n",
       "    </tr>\n",
       "    <tr>\n",
       "      <th>4885</th>\n",
       "      <td>2019-09-03 07:02:00</td>\n",
       "      <td>20002</td>\n",
       "      <td>drinks</td>\n",
       "    </tr>\n",
       "  </tbody>\n",
       "</table>\n",
       "</div>"
      ],
      "text/plain": [
       "               timestamp  customer_no  location\n",
       "4884 2019-09-03 07:02:00        20001     fruit\n",
       "4887 2019-09-03 07:05:00        20001    drinks\n",
       "4909 2019-09-03 07:12:00        20001  checkout\n",
       "4885 2019-09-03 07:02:00        20002    drinks"
      ]
     },
     "execution_count": 17,
     "metadata": {},
     "output_type": "execute_result"
    }
   ],
   "source": [
    "Week_Data=Week_Data.drop(columns=['hour','day','date'])\n",
    "Week_Data.head(4)"
   ]
  },
  {
   "cell_type": "code",
   "execution_count": 18,
   "metadata": {},
   "outputs": [],
   "source": [
    "customers_unique = Week_Data['customer_no'].unique()\n",
    "customers_unique = list(customers_unique)"
   ]
  },
  {
   "cell_type": "code",
   "execution_count": 19,
   "metadata": {},
   "outputs": [],
   "source": [
    "for i in customers_unique:  \n",
    "    customer_data = Week_Data.loc[Week_Data['customer_no'] == i] \n",
    "    if customer_data.loc[customer_data['location'] == 'checkout'].empty:\n",
    "        time = str(list(customer_data['timestamp'])[0])   \n",
    "        dict = {'timestamp':time[0:11] + '22:00:00' , 'customer_no': i, 'location': 'checkout'}\n",
    "        Week_Data = Week_Data.append(dict, ignore_index = True)"
   ]
  },
  {
   "cell_type": "code",
   "execution_count": null,
   "metadata": {},
   "outputs": [],
   "source": []
  },
  {
   "cell_type": "markdown",
   "metadata": {},
   "source": [
    "#### Reset the date and resort by customer_no and timestamp again"
   ]
  },
  {
   "cell_type": "code",
   "execution_count": 20,
   "metadata": {},
   "outputs": [],
   "source": [
    "Week_Data['timestamp'] = pd.to_datetime(Week_Data['timestamp'])\n",
    "Week_Data.sort_values(by=['customer_no', 'timestamp'], inplace= True)"
   ]
  },
  {
   "cell_type": "code",
   "execution_count": 21,
   "metadata": {},
   "outputs": [
    {
     "data": {
      "text/html": [
       "<div>\n",
       "<style scoped>\n",
       "    .dataframe tbody tr th:only-of-type {\n",
       "        vertical-align: middle;\n",
       "    }\n",
       "\n",
       "    .dataframe tbody tr th {\n",
       "        vertical-align: top;\n",
       "    }\n",
       "\n",
       "    .dataframe thead th {\n",
       "        text-align: right;\n",
       "    }\n",
       "</style>\n",
       "<table border=\"1\" class=\"dataframe\">\n",
       "  <thead>\n",
       "    <tr style=\"text-align: right;\">\n",
       "      <th></th>\n",
       "      <th>timestamp</th>\n",
       "      <th>customer_no</th>\n",
       "      <th>location</th>\n",
       "    </tr>\n",
       "  </thead>\n",
       "  <tbody>\n",
       "    <tr>\n",
       "      <th>0</th>\n",
       "      <td>2019-09-03 07:02:00</td>\n",
       "      <td>20001</td>\n",
       "      <td>fruit</td>\n",
       "    </tr>\n",
       "    <tr>\n",
       "      <th>1</th>\n",
       "      <td>2019-09-03 07:05:00</td>\n",
       "      <td>20001</td>\n",
       "      <td>drinks</td>\n",
       "    </tr>\n",
       "    <tr>\n",
       "      <th>2</th>\n",
       "      <td>2019-09-03 07:12:00</td>\n",
       "      <td>20001</td>\n",
       "      <td>checkout</td>\n",
       "    </tr>\n",
       "    <tr>\n",
       "      <th>3</th>\n",
       "      <td>2019-09-03 07:02:00</td>\n",
       "      <td>20002</td>\n",
       "      <td>drinks</td>\n",
       "    </tr>\n",
       "  </tbody>\n",
       "</table>\n",
       "</div>"
      ],
      "text/plain": [
       "            timestamp  customer_no  location\n",
       "0 2019-09-03 07:02:00        20001     fruit\n",
       "1 2019-09-03 07:05:00        20001    drinks\n",
       "2 2019-09-03 07:12:00        20001  checkout\n",
       "3 2019-09-03 07:02:00        20002    drinks"
      ]
     },
     "execution_count": 21,
     "metadata": {},
     "output_type": "execute_result"
    }
   ],
   "source": [
    "Week_Data.head(4)"
   ]
  },
  {
   "cell_type": "markdown",
   "metadata": {},
   "source": [
    "### Choose unique customers"
   ]
  },
  {
   "cell_type": "code",
   "execution_count": 22,
   "metadata": {},
   "outputs": [],
   "source": [
    "customers_unique = Week_Data['customer_no'].unique()\n",
    "customers_unique = list(customers_unique)"
   ]
  },
  {
   "cell_type": "markdown",
   "metadata": {},
   "source": [
    "### Force every cutomer to checkout"
   ]
  },
  {
   "cell_type": "code",
   "execution_count": 23,
   "metadata": {},
   "outputs": [],
   "source": [
    "for i in customers_unique:\n",
    "    \n",
    "    customer_data = Week_Data.loc[Week_Data['customer_no'] == i]\n",
    "    #if len(customer_data['location']) ==1:\n",
    "        #print('-----------')\n",
    "        #print(customer_data)\n",
    "    if customer_data.loc[customer_data['location'] == 'checkout'].empty:\n",
    "       time = str(list(customer_data['timestamp'])[0])\n",
    "       \n",
    "       dict = {'timestamp':time[0:11] + '22:00:00' , 'customer_no': i, 'location': 'checkout'}\n",
    "       Week_Data = Week_Data.append(dict, ignore_index = True)\n"
   ]
  },
  {
   "cell_type": "markdown",
   "metadata": {},
   "source": [
    "### Reset the date and resort by customer_no and timestamp again"
   ]
  },
  {
   "cell_type": "code",
   "execution_count": 24,
   "metadata": {},
   "outputs": [
    {
     "data": {
      "text/html": [
       "<div>\n",
       "<style scoped>\n",
       "    .dataframe tbody tr th:only-of-type {\n",
       "        vertical-align: middle;\n",
       "    }\n",
       "\n",
       "    .dataframe tbody tr th {\n",
       "        vertical-align: top;\n",
       "    }\n",
       "\n",
       "    .dataframe thead th {\n",
       "        text-align: right;\n",
       "    }\n",
       "</style>\n",
       "<table border=\"1\" class=\"dataframe\">\n",
       "  <thead>\n",
       "    <tr style=\"text-align: right;\">\n",
       "      <th></th>\n",
       "      <th>timestamp</th>\n",
       "      <th>customer_no</th>\n",
       "      <th>location</th>\n",
       "    </tr>\n",
       "  </thead>\n",
       "  <tbody>\n",
       "    <tr>\n",
       "      <th>0</th>\n",
       "      <td>2019-09-03 07:02:00</td>\n",
       "      <td>20001</td>\n",
       "      <td>fruit</td>\n",
       "    </tr>\n",
       "    <tr>\n",
       "      <th>1</th>\n",
       "      <td>2019-09-03 07:05:00</td>\n",
       "      <td>20001</td>\n",
       "      <td>drinks</td>\n",
       "    </tr>\n",
       "    <tr>\n",
       "      <th>2</th>\n",
       "      <td>2019-09-03 07:12:00</td>\n",
       "      <td>20001</td>\n",
       "      <td>checkout</td>\n",
       "    </tr>\n",
       "    <tr>\n",
       "      <th>3</th>\n",
       "      <td>2019-09-03 07:02:00</td>\n",
       "      <td>20002</td>\n",
       "      <td>drinks</td>\n",
       "    </tr>\n",
       "  </tbody>\n",
       "</table>\n",
       "</div>"
      ],
      "text/plain": [
       "            timestamp  customer_no  location\n",
       "0 2019-09-03 07:02:00        20001     fruit\n",
       "1 2019-09-03 07:05:00        20001    drinks\n",
       "2 2019-09-03 07:12:00        20001  checkout\n",
       "3 2019-09-03 07:02:00        20002    drinks"
      ]
     },
     "execution_count": 24,
     "metadata": {},
     "output_type": "execute_result"
    }
   ],
   "source": [
    "Week_Data['timestamp'] = pd.to_datetime(Week_Data['timestamp'])\n",
    "Week_Data.sort_values(by=['customer_no', 'timestamp'], inplace= True)\n",
    "Week_Data.head(4)"
   ]
  },
  {
   "cell_type": "code",
   "execution_count": 25,
   "metadata": {},
   "outputs": [],
   "source": [
    "#import pandas as pd\n",
    "\n",
    "#l = (pd.DataFrame(columns=['NULL'],\n",
    "  #                index=pd.date_range('2019-09-03 07:01:00', '2019-09-06 22:00:00',\n",
    "     #                                 freq='60S'))\n",
    "  #     .between_time('07:00','22:00')\n",
    "   #    .index.strftime('%Y-%m-%d %H:%M:%S')\n",
    "  #     .tolist()\n",
    "#)\n"
   ]
  },
  {
   "cell_type": "markdown",
   "metadata": {},
   "source": [
    "### Get the location vector and next_location vector seperately"
   ]
  },
  {
   "cell_type": "code",
   "execution_count": 38,
   "metadata": {},
   "outputs": [
    {
     "data": {
      "text/html": [
       "<div>\n",
       "<style scoped>\n",
       "    .dataframe tbody tr th:only-of-type {\n",
       "        vertical-align: middle;\n",
       "    }\n",
       "\n",
       "    .dataframe tbody tr th {\n",
       "        vertical-align: top;\n",
       "    }\n",
       "\n",
       "    .dataframe thead th {\n",
       "        text-align: right;\n",
       "    }\n",
       "</style>\n",
       "<table border=\"1\" class=\"dataframe\">\n",
       "  <thead>\n",
       "    <tr style=\"text-align: right;\">\n",
       "      <th></th>\n",
       "      <th>drinks</th>\n",
       "      <th>fruit</th>\n",
       "      <th>spices</th>\n",
       "      <th>dairy</th>\n",
       "      <th>checkout</th>\n",
       "      <th>entrance</th>\n",
       "    </tr>\n",
       "  </thead>\n",
       "  <tbody>\n",
       "    <tr>\n",
       "      <th>drinks</th>\n",
       "      <td>0</td>\n",
       "      <td>0</td>\n",
       "      <td>0</td>\n",
       "      <td>0</td>\n",
       "      <td>0</td>\n",
       "      <td>0</td>\n",
       "    </tr>\n",
       "    <tr>\n",
       "      <th>fruit</th>\n",
       "      <td>0</td>\n",
       "      <td>0</td>\n",
       "      <td>0</td>\n",
       "      <td>0</td>\n",
       "      <td>0</td>\n",
       "      <td>0</td>\n",
       "    </tr>\n",
       "    <tr>\n",
       "      <th>spices</th>\n",
       "      <td>0</td>\n",
       "      <td>0</td>\n",
       "      <td>0</td>\n",
       "      <td>0</td>\n",
       "      <td>0</td>\n",
       "      <td>0</td>\n",
       "    </tr>\n",
       "    <tr>\n",
       "      <th>dairy</th>\n",
       "      <td>0</td>\n",
       "      <td>0</td>\n",
       "      <td>0</td>\n",
       "      <td>0</td>\n",
       "      <td>0</td>\n",
       "      <td>0</td>\n",
       "    </tr>\n",
       "    <tr>\n",
       "      <th>checkout</th>\n",
       "      <td>0</td>\n",
       "      <td>0</td>\n",
       "      <td>0</td>\n",
       "      <td>0</td>\n",
       "      <td>1</td>\n",
       "      <td>0</td>\n",
       "    </tr>\n",
       "    <tr>\n",
       "      <th>entrance</th>\n",
       "      <td>0</td>\n",
       "      <td>0</td>\n",
       "      <td>0</td>\n",
       "      <td>0</td>\n",
       "      <td>0</td>\n",
       "      <td>0</td>\n",
       "    </tr>\n",
       "  </tbody>\n",
       "</table>\n",
       "</div>"
      ],
      "text/plain": [
       "          drinks  fruit  spices  dairy  checkout  entrance\n",
       "drinks         0      0       0      0         0         0\n",
       "fruit          0      0       0      0         0         0\n",
       "spices         0      0       0      0         0         0\n",
       "dairy          0      0       0      0         0         0\n",
       "checkout       0      0       0      0         1         0\n",
       "entrance       0      0       0      0         0         0"
      ]
     },
     "execution_count": 38,
     "metadata": {},
     "output_type": "execute_result"
    }
   ],
   "source": [
    "df1 = ['drinks', 'fruit', 'spices', 'dairy', 'checkout', 'entrance'] \n",
    "df2 = [[0,0,0,0,0,0],[0,0,0,0,0,0],[0,0,0,0,0,0],[0,0,0,0,0,0],[0,0,0,0,1,0],[0,0,0,0,0,0]]\n",
    "\n",
    "data_group = pd.DataFrame(df2, index=[df1], columns=df1)\n",
    "data_group   "
   ]
  },
  {
   "cell_type": "code",
   "execution_count": 42,
   "metadata": {},
   "outputs": [],
   "source": [
    "# Into the location and next_location vectors, entrance and chekout will be added\n",
    "\n",
    "location = []\n",
    "next_location = []\n",
    "\n",
    "\n",
    "for i in customers_unique:\n",
    "    \n",
    "        \n",
    "   \n",
    "    customer_data = Week_Data.loc[Week_Data['customer_no'] == i]\n",
    "    \n",
    "        \n",
    "    first_time =  list(customer_data['timestamp'])[0]\n",
    "    end_time = list(customer_data['timestamp'])[-1]\n",
    "    \n",
    "    datelist = pd.date_range(start=first_time, end=end_time, freq='60S')\n",
    "    datelist = pd.DataFrame(datelist)\n",
    "\n",
    "      \n",
    "    datelist['timestamp'] = datelist[0]\n",
    "    datelist.drop(columns=0, inplace=True)\n",
    "   \n",
    "\n",
    "    d1 = datelist.merge(customer_data, how='outer')\n",
    "    d1.ffill(inplace=True)\n",
    "    d1 = d1.astype({\"customer_no\": int}, errors='raise') \n",
    "    \n",
    "    d1['next_location'] = d1['location'].shift(-1)\n",
    "    \n",
    "  \n",
    "    \n",
    "    d1_s = []\n",
    "    d1_s = list(d1['location'])\n",
    "    d1_s.insert(0,'entrance')\n",
    "    d1_f = pd.DataFrame(d1_s, columns=['location'])\n",
    "    d1_f['next_location'] = d1_f['location'].shift(-1)\n",
    "    d1_f.fillna('checkout', inplace=True)\n",
    "    #print(d1_f)    \n",
    "    \n",
    "    location.extend(list(d1_f['location']))\n",
    "    next_location.extend(list(d1_f['next_location']))\n",
    "    "
   ]
  },
  {
   "cell_type": "markdown",
   "metadata": {},
   "source": [
    "### Concatenate location and next_location"
   ]
  },
  {
   "cell_type": "code",
   "execution_count": 45,
   "metadata": {},
   "outputs": [
    {
     "data": {
      "text/html": [
       "<div>\n",
       "<style scoped>\n",
       "    .dataframe tbody tr th:only-of-type {\n",
       "        vertical-align: middle;\n",
       "    }\n",
       "\n",
       "    .dataframe tbody tr th {\n",
       "        vertical-align: top;\n",
       "    }\n",
       "\n",
       "    .dataframe thead th {\n",
       "        text-align: right;\n",
       "    }\n",
       "</style>\n",
       "<table border=\"1\" class=\"dataframe\">\n",
       "  <thead>\n",
       "    <tr style=\"text-align: right;\">\n",
       "      <th></th>\n",
       "      <th>location</th>\n",
       "      <th>next_location</th>\n",
       "    </tr>\n",
       "  </thead>\n",
       "  <tbody>\n",
       "    <tr>\n",
       "      <th>0</th>\n",
       "      <td>entrance</td>\n",
       "      <td>fruit</td>\n",
       "    </tr>\n",
       "    <tr>\n",
       "      <th>1</th>\n",
       "      <td>fruit</td>\n",
       "      <td>fruit</td>\n",
       "    </tr>\n",
       "    <tr>\n",
       "      <th>2</th>\n",
       "      <td>fruit</td>\n",
       "      <td>fruit</td>\n",
       "    </tr>\n",
       "    <tr>\n",
       "      <th>3</th>\n",
       "      <td>fruit</td>\n",
       "      <td>drinks</td>\n",
       "    </tr>\n",
       "  </tbody>\n",
       "</table>\n",
       "</div>"
      ],
      "text/plain": [
       "   location next_location\n",
       "0  entrance         fruit\n",
       "1     fruit         fruit\n",
       "2     fruit         fruit\n",
       "3     fruit        drinks"
      ]
     },
     "execution_count": 45,
     "metadata": {},
     "output_type": "execute_result"
    }
   ],
   "source": [
    "data_shift = pd.DataFrame(list(zip(location, next_location)), columns=['location', 'next_location'])\n",
    "data_shift.head(4)"
   ]
  },
  {
   "cell_type": "code",
   "execution_count": 46,
   "metadata": {},
   "outputs": [],
   "source": [
    "entrance = [0.0,0.0,0.0,0.0,0.0,0.0]\n",
    "entrance = pd.DataFrame(entrance,columns=['entrance'])"
   ]
  },
  {
   "cell_type": "code",
   "execution_count": 47,
   "metadata": {},
   "outputs": [
    {
     "data": {
      "text/html": [
       "<div>\n",
       "<style scoped>\n",
       "    .dataframe tbody tr th:only-of-type {\n",
       "        vertical-align: middle;\n",
       "    }\n",
       "\n",
       "    .dataframe tbody tr th {\n",
       "        vertical-align: top;\n",
       "    }\n",
       "\n",
       "    .dataframe thead th {\n",
       "        text-align: right;\n",
       "    }\n",
       "</style>\n",
       "<table border=\"1\" class=\"dataframe\">\n",
       "  <thead>\n",
       "    <tr style=\"text-align: right;\">\n",
       "      <th>next_location</th>\n",
       "      <th>checkout</th>\n",
       "      <th>dairy</th>\n",
       "      <th>drinks</th>\n",
       "      <th>fruit</th>\n",
       "      <th>spices</th>\n",
       "      <th>entrance</th>\n",
       "    </tr>\n",
       "    <tr>\n",
       "      <th>location</th>\n",
       "      <th></th>\n",
       "      <th></th>\n",
       "      <th></th>\n",
       "      <th></th>\n",
       "      <th></th>\n",
       "      <th></th>\n",
       "    </tr>\n",
       "  </thead>\n",
       "  <tbody>\n",
       "    <tr>\n",
       "      <th>checkout</th>\n",
       "      <td>1.000000</td>\n",
       "      <td>0.000000</td>\n",
       "      <td>0.000000</td>\n",
       "      <td>0.000000</td>\n",
       "      <td>0.000000</td>\n",
       "      <td>0.0</td>\n",
       "    </tr>\n",
       "    <tr>\n",
       "      <th>dairy</th>\n",
       "      <td>0.102617</td>\n",
       "      <td>0.738910</td>\n",
       "      <td>0.058088</td>\n",
       "      <td>0.049439</td>\n",
       "      <td>0.050946</td>\n",
       "      <td>0.0</td>\n",
       "    </tr>\n",
       "    <tr>\n",
       "      <th>drinks</th>\n",
       "      <td>0.215290</td>\n",
       "      <td>0.010877</td>\n",
       "      <td>0.599282</td>\n",
       "      <td>0.087737</td>\n",
       "      <td>0.086814</td>\n",
       "      <td>0.0</td>\n",
       "    </tr>\n",
       "    <tr>\n",
       "      <th>entrance</th>\n",
       "      <td>0.000000</td>\n",
       "      <td>0.287576</td>\n",
       "      <td>0.153526</td>\n",
       "      <td>0.377435</td>\n",
       "      <td>0.181464</td>\n",
       "      <td>0.0</td>\n",
       "    </tr>\n",
       "    <tr>\n",
       "      <th>fruit</th>\n",
       "      <td>0.200454</td>\n",
       "      <td>0.095376</td>\n",
       "      <td>0.054534</td>\n",
       "      <td>0.599249</td>\n",
       "      <td>0.050387</td>\n",
       "      <td>0.0</td>\n",
       "    </tr>\n",
       "    <tr>\n",
       "      <th>spices</th>\n",
       "      <td>0.149494</td>\n",
       "      <td>0.191688</td>\n",
       "      <td>0.161820</td>\n",
       "      <td>0.090234</td>\n",
       "      <td>0.406764</td>\n",
       "      <td>0.0</td>\n",
       "    </tr>\n",
       "  </tbody>\n",
       "</table>\n",
       "</div>"
      ],
      "text/plain": [
       "next_location  checkout     dairy    drinks     fruit    spices  entrance\n",
       "location                                                                 \n",
       "checkout       1.000000  0.000000  0.000000  0.000000  0.000000       0.0\n",
       "dairy          0.102617  0.738910  0.058088  0.049439  0.050946       0.0\n",
       "drinks         0.215290  0.010877  0.599282  0.087737  0.086814       0.0\n",
       "entrance       0.000000  0.287576  0.153526  0.377435  0.181464       0.0\n",
       "fruit          0.200454  0.095376  0.054534  0.599249  0.050387       0.0\n",
       "spices         0.149494  0.191688  0.161820  0.090234  0.406764       0.0"
      ]
     },
     "execution_count": 47,
     "metadata": {},
     "output_type": "execute_result"
    }
   ],
   "source": [
    "trans=pd.crosstab(data_shift ['location'], data_shift ['next_location'], normalize=0)\n",
    "trans['entrance'] = entrance['entrance']\n",
    "entrance['entrance'].values \n",
    "trans['entrance'] = entrance['entrance'].values\n",
    "trans"
   ]
  },
  {
   "cell_type": "markdown",
   "metadata": {},
   "source": [
    "### Convert the transition matrix into list"
   ]
  },
  {
   "cell_type": "code",
   "execution_count": 48,
   "metadata": {},
   "outputs": [],
   "source": [
    "transition_matrix=[]\n",
    "\n",
    "temp_matrix = list(trans.to_numpy())\n",
    "\n",
    "for i in temp_matrix:\n",
    "    transition_matrix.append(list(i))\n"
   ]
  },
  {
   "cell_type": "code",
   "execution_count": 49,
   "metadata": {},
   "outputs": [
    {
     "data": {
      "text/plain": [
       "[[1.0, 0.0, 0.0, 0.0, 0.0, 0.0],\n",
       " [0.10261704145973997,\n",
       "  0.7389096590592042,\n",
       "  0.05808827632386586,\n",
       "  0.04943920540148429,\n",
       "  0.0509458177557056,\n",
       "  0.0],\n",
       " [0.21528989225243714,\n",
       "  0.010877373011800924,\n",
       "  0.599281682914315,\n",
       "  0.08773730118009236,\n",
       "  0.08681375064135453,\n",
       "  0.0],\n",
       " [0.0,\n",
       "  0.2875755540631296,\n",
       "  0.15352585627938214,\n",
       "  0.3774345198119543,\n",
       "  0.18146406984553393,\n",
       "  0.0],\n",
       " [0.20045379860730772,\n",
       "  0.09537594867381269,\n",
       "  0.05453407401611767,\n",
       "  0.5992488850637665,\n",
       "  0.050387293638995384,\n",
       "  0.0],\n",
       " [0.14949431099873578,\n",
       "  0.19168773704171935,\n",
       "  0.16182048040455121,\n",
       "  0.0902338811630847,\n",
       "  0.40676359039190896,\n",
       "  0.0]]"
      ]
     },
     "execution_count": 49,
     "metadata": {},
     "output_type": "execute_result"
    }
   ],
   "source": [
    "transition_matrix"
   ]
  },
  {
   "cell_type": "markdown",
   "metadata": {},
   "source": [
    "### Create a function that gives state vectors"
   ]
  },
  {
   "cell_type": "code",
   "execution_count": 50,
   "metadata": {},
   "outputs": [],
   "source": [
    "def statevector(section):\n",
    "    if section=='checkout':\n",
    "       vec = [1,0,0,0,0,0]\n",
    "    if section=='dairy':\n",
    "       vec = [0,1,0,0,0,0]\n",
    "    if section=='drinks':\n",
    "       vec = [0,0,1,0,0,0] \n",
    "    if section=='fruit':\n",
    "       vec = [0,0,0,1,0,0]   \n",
    "    if section=='spices':\n",
    "       vec = [0,0,0,0,1,0]\n",
    "    if section=='entrance':\n",
    "       vec = [0,0,0,0,0,1]         \n",
    "    return vec"
   ]
  },
  {
   "cell_type": "code",
   "execution_count": null,
   "metadata": {},
   "outputs": [],
   "source": []
  },
  {
   "cell_type": "markdown",
   "metadata": {},
   "source": [
    "### Create a function that gives the location based to the probabilitiy distribustion"
   ]
  },
  {
   "cell_type": "code",
   "execution_count": 51,
   "metadata": {},
   "outputs": [],
   "source": [
    "import math as mt\n",
    "import random\n",
    "\n",
    "def state_name(vec):\n",
    "    \n",
    "    p1 = ['checkout']*(mt.ceil(vec[0]))*100\n",
    "    p2 = ['dairy']*(mt.ceil(vec[1]))*100\n",
    "    p3 = ['drinks']*(mt.ceil(vec[2]))*100\n",
    "    p4 = ['fruit']*(mt.ceil(vec[3]))*100\n",
    "    p5 = ['spices']*(mt.ceil(vec[4]))*100\n",
    "    p6 = ['enrtance']*(mt.ceil(vec[5]))*100\n",
    "    \n",
    "    vec_c = p1 + p2 + p3 + p4 + p5 + p6\n",
    "    \n",
    "    random.shuffle(vec_c)\n",
    "    \n",
    "    next_state = random.choice(vec_c)\n",
    "       \n",
    "        \n",
    "    return next_state\n",
    "    "
   ]
  },
  {
   "cell_type": "markdown",
   "metadata": {},
   "source": [
    "### Get names from data"
   ]
  },
  {
   "cell_type": "code",
   "execution_count": 52,
   "metadata": {},
   "outputs": [],
   "source": [
    "name_data = pd.read_csv('namelist.csv')\n",
    "name_w = list(name_data['name'])\n",
    "\n",
    "# choose the first 500 names\n",
    "\n",
    "name = name_w[0:499]"
   ]
  },
  {
   "cell_type": "code",
   "execution_count": 53,
   "metadata": {},
   "outputs": [
    {
     "data": {
      "text/plain": [
       "['John',\n",
       " 'William',\n",
       " 'James',\n",
       " 'Charles',\n",
       " 'George',\n",
       " 'Frank',\n",
       " 'Joseph',\n",
       " 'Thomas',\n",
       " 'Henry',\n",
       " 'Robert',\n",
       " 'Edward',\n",
       " 'Harry',\n",
       " 'Walter',\n",
       " 'Arthur',\n",
       " 'Fred',\n",
       " 'Albert',\n",
       " 'Samuel',\n",
       " 'David',\n",
       " 'Louis',\n",
       " 'Joe',\n",
       " 'Charlie',\n",
       " 'Clarence',\n",
       " 'Richard',\n",
       " 'Andrew',\n",
       " 'Daniel',\n",
       " 'Ernest',\n",
       " 'Will',\n",
       " 'Jesse',\n",
       " 'Oscar',\n",
       " 'Lewis',\n",
       " 'Peter',\n",
       " 'Benjamin',\n",
       " 'Frederick',\n",
       " 'Willie',\n",
       " 'Alfred',\n",
       " 'Sam',\n",
       " 'Roy',\n",
       " 'Herbert',\n",
       " 'Jacob',\n",
       " 'Tom',\n",
       " 'Elmer',\n",
       " 'Carl',\n",
       " 'Lee',\n",
       " 'Howard',\n",
       " 'Martin',\n",
       " 'Michael',\n",
       " 'Bert',\n",
       " 'Herman',\n",
       " 'Jim',\n",
       " 'Francis',\n",
       " 'Harvey',\n",
       " 'Earl',\n",
       " 'Eugene',\n",
       " 'Ralph',\n",
       " 'Ed',\n",
       " 'Claude',\n",
       " 'Edwin',\n",
       " 'Ben',\n",
       " 'Charley',\n",
       " 'Paul',\n",
       " 'Edgar',\n",
       " 'Isaac',\n",
       " 'Otto',\n",
       " 'Luther',\n",
       " 'Lawrence',\n",
       " 'Ira',\n",
       " 'Patrick',\n",
       " 'Guy',\n",
       " 'Oliver',\n",
       " 'Theodore',\n",
       " 'Hugh',\n",
       " 'Clyde',\n",
       " 'Alexander',\n",
       " 'August',\n",
       " 'Floyd',\n",
       " 'Homer',\n",
       " 'Jack',\n",
       " 'Leonard',\n",
       " 'Horace',\n",
       " 'Marion',\n",
       " 'Philip',\n",
       " 'Allen',\n",
       " 'Archie',\n",
       " 'Stephen',\n",
       " 'Chester',\n",
       " 'Willis',\n",
       " 'Raymond',\n",
       " 'Rufus',\n",
       " 'Warren',\n",
       " 'Jessie',\n",
       " 'Milton',\n",
       " 'Alex',\n",
       " 'Leo',\n",
       " 'Julius',\n",
       " 'Ray',\n",
       " 'Sidney',\n",
       " 'Bernard',\n",
       " 'Dan',\n",
       " 'Jerry',\n",
       " 'Calvin',\n",
       " 'Perry',\n",
       " 'Dave',\n",
       " 'Anthony',\n",
       " 'Eddie',\n",
       " 'Amos',\n",
       " 'Dennis',\n",
       " 'Clifford',\n",
       " 'Leroy',\n",
       " 'Wesley',\n",
       " 'Alonzo',\n",
       " 'Garfield',\n",
       " 'Franklin',\n",
       " 'Emil',\n",
       " 'Leon',\n",
       " 'Nathan',\n",
       " 'Harold',\n",
       " 'Matthew',\n",
       " 'Levi',\n",
       " 'Moses',\n",
       " 'Everett',\n",
       " 'Lester',\n",
       " 'Winfield',\n",
       " 'Adam',\n",
       " 'Lloyd',\n",
       " 'Mack',\n",
       " 'Fredrick',\n",
       " 'Jay',\n",
       " 'Jess',\n",
       " 'Melvin',\n",
       " 'Noah',\n",
       " 'Aaron',\n",
       " 'Alvin',\n",
       " 'Norman',\n",
       " 'Gilbert',\n",
       " 'Elijah',\n",
       " 'Victor',\n",
       " 'Gus',\n",
       " 'Nelson',\n",
       " 'Jasper',\n",
       " 'Silas',\n",
       " 'Christopher',\n",
       " 'Jake',\n",
       " 'Mike',\n",
       " 'Percy',\n",
       " 'Adolph',\n",
       " 'Maurice',\n",
       " 'Cornelius',\n",
       " 'Felix',\n",
       " 'Reuben',\n",
       " 'Wallace',\n",
       " 'Claud',\n",
       " 'Roscoe',\n",
       " 'Sylvester',\n",
       " 'Earnest',\n",
       " 'Hiram',\n",
       " 'Otis',\n",
       " 'Simon',\n",
       " 'Willard',\n",
       " 'Irvin',\n",
       " 'Mark',\n",
       " 'Jose',\n",
       " 'Wilbur',\n",
       " 'Abraham',\n",
       " 'Virgil',\n",
       " 'Clinton',\n",
       " 'Elbert',\n",
       " 'Leslie',\n",
       " 'Marshall',\n",
       " 'Owen',\n",
       " 'Wiley',\n",
       " 'Anton',\n",
       " 'Morris',\n",
       " 'Manuel',\n",
       " 'Phillip',\n",
       " 'Augustus',\n",
       " 'Emmett',\n",
       " 'Eli',\n",
       " 'Nicholas',\n",
       " 'Wilson',\n",
       " 'Alva',\n",
       " 'Harley',\n",
       " 'Newton',\n",
       " 'Timothy',\n",
       " 'Marvin',\n",
       " 'Ross',\n",
       " 'Curtis',\n",
       " 'Edmund',\n",
       " 'Jeff',\n",
       " 'Elias',\n",
       " 'Harrison',\n",
       " 'Stanley',\n",
       " 'Columbus',\n",
       " 'Lon',\n",
       " 'Ora',\n",
       " 'Ollie',\n",
       " 'Russell',\n",
       " 'Pearl',\n",
       " 'Solomon',\n",
       " 'Arch',\n",
       " 'Asa',\n",
       " 'Clayton',\n",
       " 'Enoch',\n",
       " 'Irving',\n",
       " 'Mathew',\n",
       " 'Nathaniel',\n",
       " 'Scott',\n",
       " 'Hubert',\n",
       " 'Lemuel',\n",
       " 'Andy',\n",
       " 'Ellis',\n",
       " 'Emanuel',\n",
       " 'Joshua',\n",
       " 'Millard',\n",
       " 'Vernon',\n",
       " 'Wade',\n",
       " 'Cyrus',\n",
       " 'Miles',\n",
       " 'Rudolph',\n",
       " 'Sherman',\n",
       " 'Austin',\n",
       " 'Bill',\n",
       " 'Chas',\n",
       " 'Lonnie',\n",
       " 'Monroe',\n",
       " 'Byron',\n",
       " 'Edd',\n",
       " 'Emery',\n",
       " 'Grant',\n",
       " 'Jerome',\n",
       " 'Max',\n",
       " 'Mose',\n",
       " 'Steve',\n",
       " 'Gordon',\n",
       " 'Abe',\n",
       " 'Pete',\n",
       " 'Chris',\n",
       " 'Clark',\n",
       " 'Gustave',\n",
       " 'Orville',\n",
       " 'Lorenzo',\n",
       " 'Bruce',\n",
       " 'Marcus',\n",
       " 'Preston',\n",
       " 'Bob',\n",
       " 'Dock',\n",
       " 'Donald',\n",
       " 'Jackson',\n",
       " 'Cecil',\n",
       " 'Barney',\n",
       " 'Delbert',\n",
       " 'Edmond',\n",
       " 'Anderson',\n",
       " 'Christian',\n",
       " 'Glenn',\n",
       " 'Jefferson',\n",
       " 'Luke',\n",
       " 'Neal',\n",
       " 'Burt',\n",
       " 'Ike',\n",
       " 'Myron',\n",
       " 'Tony',\n",
       " 'Conrad',\n",
       " 'Joel',\n",
       " 'Matt',\n",
       " 'Riley',\n",
       " 'Vincent',\n",
       " 'Emory',\n",
       " 'Isaiah',\n",
       " 'Nick',\n",
       " 'Ezra',\n",
       " 'Green',\n",
       " 'Juan',\n",
       " 'Clifton',\n",
       " 'Lucius',\n",
       " 'Porter',\n",
       " 'Arnold',\n",
       " 'Bud',\n",
       " 'Jeremiah',\n",
       " 'Taylor',\n",
       " 'Forrest',\n",
       " 'Roland',\n",
       " 'Spencer',\n",
       " 'Burton',\n",
       " 'Don',\n",
       " 'Emmet',\n",
       " 'Gustav',\n",
       " 'Louie',\n",
       " 'Morgan',\n",
       " 'Ned',\n",
       " 'Van',\n",
       " 'Ambrose',\n",
       " 'Chauncey',\n",
       " 'Elisha',\n",
       " 'Ferdinand',\n",
       " 'General',\n",
       " 'Julian',\n",
       " 'Kenneth',\n",
       " 'Mitchell',\n",
       " 'Allie',\n",
       " 'Josh',\n",
       " 'Judson',\n",
       " 'Lyman',\n",
       " 'Napoleon',\n",
       " 'Pedro',\n",
       " 'Berry',\n",
       " 'Dewitt',\n",
       " 'Ervin',\n",
       " 'Forest',\n",
       " 'Lynn',\n",
       " 'Pink',\n",
       " 'Ruben',\n",
       " 'Sanford',\n",
       " 'Ward',\n",
       " 'Douglas',\n",
       " 'Ole',\n",
       " 'Omer',\n",
       " 'Ulysses',\n",
       " 'Walker',\n",
       " 'Wilbert',\n",
       " 'Adelbert',\n",
       " 'Benjiman',\n",
       " 'Ivan',\n",
       " 'Jonas',\n",
       " 'Major',\n",
       " 'Abner',\n",
       " 'Archibald',\n",
       " 'Caleb',\n",
       " 'Clint',\n",
       " 'Dudley',\n",
       " 'Granville',\n",
       " 'King',\n",
       " 'Mary',\n",
       " 'Merton',\n",
       " 'Antonio',\n",
       " 'Bennie',\n",
       " 'Carroll',\n",
       " 'Freeman',\n",
       " 'Josiah',\n",
       " 'Milo',\n",
       " 'Royal',\n",
       " 'Dick',\n",
       " 'Earle',\n",
       " 'Elza',\n",
       " 'Emerson',\n",
       " 'Fletcher',\n",
       " 'Judge',\n",
       " 'Laurence',\n",
       " 'Neil',\n",
       " 'Roger',\n",
       " 'Seth',\n",
       " 'Glen',\n",
       " 'Hugo',\n",
       " 'Jimmie',\n",
       " 'Johnnie',\n",
       " 'Washington',\n",
       " 'Elwood',\n",
       " 'Gust',\n",
       " 'Harmon',\n",
       " 'Jordan',\n",
       " 'Simeon',\n",
       " 'Wayne',\n",
       " 'Wilber',\n",
       " 'Clem',\n",
       " 'Evan',\n",
       " 'Frederic',\n",
       " 'Irwin',\n",
       " 'Junius',\n",
       " 'Lafayette',\n",
       " 'Loren',\n",
       " 'Madison',\n",
       " 'Mason',\n",
       " 'Orval',\n",
       " 'Abram',\n",
       " 'Aubrey',\n",
       " 'Elliott',\n",
       " 'Hans',\n",
       " 'Karl',\n",
       " 'Minor',\n",
       " 'Wash',\n",
       " 'Wilfred',\n",
       " 'Allan',\n",
       " 'Alphonse',\n",
       " 'Dallas',\n",
       " 'Dee',\n",
       " 'Isiah',\n",
       " 'Jason',\n",
       " 'Johnny',\n",
       " 'Lawson',\n",
       " 'Lew',\n",
       " 'Micheal',\n",
       " 'Orin',\n",
       " 'Addison',\n",
       " 'Cal',\n",
       " 'Erastus',\n",
       " 'Francisco',\n",
       " 'Hardy',\n",
       " 'Lucien',\n",
       " 'Randolph',\n",
       " 'Stewart',\n",
       " 'Vern',\n",
       " 'Wilmer',\n",
       " 'Zack',\n",
       " 'Adrian',\n",
       " 'Alvah',\n",
       " 'Bertram',\n",
       " 'Clay',\n",
       " 'Ephraim',\n",
       " 'Fritz',\n",
       " 'Giles',\n",
       " 'Grover',\n",
       " 'Harris',\n",
       " 'Isom',\n",
       " 'Jesus',\n",
       " 'Johnie',\n",
       " 'Jonathan',\n",
       " 'Lucian',\n",
       " 'Malcolm',\n",
       " 'Merritt',\n",
       " 'Otho',\n",
       " 'Perley',\n",
       " 'Rolla',\n",
       " 'Sandy',\n",
       " 'Tomas',\n",
       " 'Wilford',\n",
       " 'Adolphus',\n",
       " 'Angus',\n",
       " 'Arther',\n",
       " 'Carlos',\n",
       " 'Cary',\n",
       " 'Cassius',\n",
       " 'Davis',\n",
       " 'Hamilton',\n",
       " 'Harve',\n",
       " 'Israel',\n",
       " 'Leander',\n",
       " 'Melville',\n",
       " 'Merle',\n",
       " 'Murray',\n",
       " 'Pleasant',\n",
       " 'Sterling',\n",
       " 'Steven',\n",
       " 'Axel',\n",
       " 'Boyd',\n",
       " 'Bryant',\n",
       " 'Clement',\n",
       " 'Erwin',\n",
       " 'Ezekiel',\n",
       " 'Foster',\n",
       " 'Frances',\n",
       " 'Geo',\n",
       " 'Houston',\n",
       " 'Issac',\n",
       " 'Jules',\n",
       " 'Larkin',\n",
       " 'Mat',\n",
       " 'Morton',\n",
       " 'Orlando',\n",
       " 'Pierce',\n",
       " 'Prince',\n",
       " 'Rollie',\n",
       " 'Rollin',\n",
       " 'Sim',\n",
       " 'Stuart',\n",
       " 'Wilburn',\n",
       " 'Bennett',\n",
       " 'Casper',\n",
       " 'Christ',\n",
       " 'Dell',\n",
       " 'Egbert',\n",
       " 'Elmo',\n",
       " 'Fay',\n",
       " 'Gabriel',\n",
       " 'Hector',\n",
       " 'Horatio',\n",
       " 'Lige',\n",
       " 'Saul',\n",
       " 'Smith',\n",
       " 'Squire',\n",
       " 'Tobe',\n",
       " 'Tommie',\n",
       " 'Wyatt',\n",
       " 'Alford',\n",
       " 'Alma',\n",
       " 'Alton',\n",
       " 'Andres',\n",
       " 'Burl',\n",
       " 'Cicero',\n",
       " 'Dean',\n",
       " 'Dorsey',\n",
       " 'Enos',\n",
       " 'Howell',\n",
       " 'Lou',\n",
       " 'Loyd',\n",
       " 'Mahlon',\n",
       " 'Nat',\n",
       " 'Omar',\n",
       " 'Oran',\n",
       " 'Parker',\n",
       " 'Raleigh']"
      ]
     },
     "execution_count": 53,
     "metadata": {},
     "output_type": "execute_result"
    }
   ],
   "source": [
    "name"
   ]
  },
  {
   "cell_type": "markdown",
   "metadata": {},
   "source": [
    "### Create time series with frequency 1 minute"
   ]
  },
  {
   "cell_type": "code",
   "execution_count": 54,
   "metadata": {},
   "outputs": [],
   "source": [
    "from datetime import datetime\n",
    "\n",
    "\n",
    "t1 = datetime.strptime('09/10/19 07:00:00', '%m/%d/%y %H:%M:%S')\n",
    "t2 = datetime.strptime('09/10/19 22:00:00', '%m/%d/%y %H:%M:%S')\n",
    "\n",
    "\n",
    "time_series= pd.DataFrame(pd.date_range(start=t1, end=t2, freq='60S'))"
   ]
  },
  {
   "cell_type": "markdown",
   "metadata": {},
   "source": [
    "### This function retrives the time using the index of 'time_series'"
   ]
  },
  {
   "cell_type": "code",
   "execution_count": 55,
   "metadata": {},
   "outputs": [],
   "source": [
    "def choose_time(l):\n",
    "    time = time_series[0][l]\n",
    "    #print(time)\n",
    "    return time"
   ]
  },
  {
   "cell_type": "code",
   "execution_count": 56,
   "metadata": {},
   "outputs": [
    {
     "data": {
      "text/plain": [
       "Timestamp('2019-09-10 13:40:00')"
      ]
     },
     "execution_count": 56,
     "metadata": {},
     "output_type": "execute_result"
    }
   ],
   "source": [
    "choose_time(400)"
   ]
  },
  {
   "cell_type": "code",
   "execution_count": 57,
   "metadata": {},
   "outputs": [],
   "source": [
    "import numpy as np\n",
    "\n",
    "\n",
    "class Customer:\n",
    "    \"\"\"\n",
    "    a single customer that moves through the supermarket\n",
    "    in a MCMC simulation\n",
    "    \"\"\"   \n",
    "    \n",
    "    def __init__(self, name, path=[7], entry_time=0, visit_times=[0], budget=100):\n",
    "        self.name = name\n",
    "        self.budget = budget\n",
    "        \n",
    "        \n",
    "        \n",
    "        # Make the whole path of the customer\n",
    "        \n",
    "        position = 'entrance'\n",
    "        \n",
    "        path_v = ['entrance']\n",
    "        \n",
    "        while position != 'checkout':\n",
    "              vec = statevector(position)\n",
    "              \n",
    "              next_state_vec = np.dot(vec, transition_matrix)\n",
    "              next_position = state_name(next_state_vec) \n",
    "              path_v.append(next_position) \n",
    "              position = next_position\n",
    "        self.path = path_v\n",
    "        \n",
    "        # assign a randam entry_time\n",
    "        l = len(time_series)   \n",
    "        \n",
    "        l_p = len(self.path) # this is not to exceed close time\n",
    "        \n",
    "            # choose a random int in (0,l)\n",
    "        l_1 = random.randint(0, l-l_p-1)\n",
    "        self.entry_time = choose_time(l_1)\n",
    "        \n",
    "        \n",
    "        ll = len(self.path)\n",
    "        self.visit_times = pd.date_range(start=self.entry_time, periods=ll, freq='60S')\n",
    "        "
   ]
  },
  {
   "cell_type": "markdown",
   "metadata": {},
   "source": [
    "### Create names 500 customers"
   ]
  },
  {
   "cell_type": "code",
   "execution_count": 58,
   "metadata": {},
   "outputs": [],
   "source": [
    "my_objects = {}\n",
    "for k in name:\n",
    "   name1 = format(k)\n",
    "       \n",
    "   my_objects[name1] = my_objects.get(name1, Customer(name = name1))"
   ]
  },
  {
   "cell_type": "code",
   "execution_count": 59,
   "metadata": {},
   "outputs": [
    {
     "data": {
      "text/plain": [
       "['entrance', 'fruit', 'dairy', 'drinks', 'checkout']"
      ]
     },
     "execution_count": 59,
     "metadata": {},
     "output_type": "execute_result"
    }
   ],
   "source": [
    "my_objects['John'].path"
   ]
  },
  {
   "cell_type": "code",
   "execution_count": 60,
   "metadata": {},
   "outputs": [
    {
     "data": {
      "text/plain": [
       "DatetimeIndex(['2019-09-10 09:07:00', '2019-09-10 09:08:00',\n",
       "               '2019-09-10 09:09:00', '2019-09-10 09:10:00',\n",
       "               '2019-09-10 09:11:00'],\n",
       "              dtype='datetime64[ns]', freq='60S')"
      ]
     },
     "execution_count": 60,
     "metadata": {},
     "output_type": "execute_result"
    }
   ],
   "source": [
    "my_objects['John'].visit_times"
   ]
  },
  {
   "cell_type": "code",
   "execution_count": 61,
   "metadata": {},
   "outputs": [
    {
     "data": {
      "text/plain": [
       "['entrance', 'dairy', 'checkout']"
      ]
     },
     "execution_count": 61,
     "metadata": {},
     "output_type": "execute_result"
    }
   ],
   "source": [
    "John = Customer('John')\n",
    "John.path"
   ]
  },
  {
   "cell_type": "code",
   "execution_count": 62,
   "metadata": {},
   "outputs": [
    {
     "data": {
      "text/plain": [
       "['entrance', 'spices', 'drinks', 'checkout']"
      ]
     },
     "execution_count": 62,
     "metadata": {},
     "output_type": "execute_result"
    }
   ],
   "source": [
    "cust1 = Customer('Niki')\n",
    "cust1.path\n"
   ]
  },
  {
   "cell_type": "code",
   "execution_count": 63,
   "metadata": {},
   "outputs": [
    {
     "data": {
      "text/plain": [
       "Timestamp('2019-09-10 09:38:00')"
      ]
     },
     "execution_count": 63,
     "metadata": {},
     "output_type": "execute_result"
    }
   ],
   "source": [
    "cust1.entry_time    "
   ]
  },
  {
   "cell_type": "code",
   "execution_count": 64,
   "metadata": {},
   "outputs": [
    {
     "data": {
      "text/plain": [
       "DatetimeIndex(['2019-09-10 09:38:00', '2019-09-10 09:39:00',\n",
       "               '2019-09-10 09:40:00', '2019-09-10 09:41:00'],\n",
       "              dtype='datetime64[ns]', freq='60S')"
      ]
     },
     "execution_count": 64,
     "metadata": {},
     "output_type": "execute_result"
    }
   ],
   "source": [
    "cust1.visit_times"
   ]
  },
  {
   "cell_type": "code",
   "execution_count": 65,
   "metadata": {},
   "outputs": [],
   "source": [
    "\n",
    "cus_name = []\n",
    "for x in name:\n",
    "   namel = format(x)\n",
    "   cus_name.append(namel)   \n"
   ]
  },
  {
   "cell_type": "code",
   "execution_count": 66,
   "metadata": {},
   "outputs": [],
   "source": [
    "NAMES=pd.DataFrame(cus_name,columns=['CusNames'])\n"
   ]
  },
  {
   "cell_type": "code",
   "execution_count": 67,
   "metadata": {},
   "outputs": [],
   "source": [
    "location = []\n",
    "for x in name:\n",
    "   cust1 = Customer('x')\n",
    "   c=cust1.path\n",
    "   location.append(c)   "
   ]
  },
  {
   "cell_type": "code",
   "execution_count": 68,
   "metadata": {},
   "outputs": [],
   "source": [
    "L=location\n"
   ]
  },
  {
   "cell_type": "code",
   "execution_count": 70,
   "metadata": {},
   "outputs": [
    {
     "data": {
      "text/html": [
       "<div>\n",
       "<style scoped>\n",
       "    .dataframe tbody tr th:only-of-type {\n",
       "        vertical-align: middle;\n",
       "    }\n",
       "\n",
       "    .dataframe tbody tr th {\n",
       "        vertical-align: top;\n",
       "    }\n",
       "\n",
       "    .dataframe thead th {\n",
       "        text-align: right;\n",
       "    }\n",
       "</style>\n",
       "<table border=\"1\" class=\"dataframe\">\n",
       "  <thead>\n",
       "    <tr style=\"text-align: right;\">\n",
       "      <th></th>\n",
       "      <th>0</th>\n",
       "      <th>1</th>\n",
       "      <th>2</th>\n",
       "      <th>3</th>\n",
       "      <th>4</th>\n",
       "      <th>5</th>\n",
       "      <th>6</th>\n",
       "      <th>7</th>\n",
       "      <th>8</th>\n",
       "      <th>9</th>\n",
       "      <th>...</th>\n",
       "      <th>489</th>\n",
       "      <th>490</th>\n",
       "      <th>491</th>\n",
       "      <th>492</th>\n",
       "      <th>493</th>\n",
       "      <th>494</th>\n",
       "      <th>495</th>\n",
       "      <th>496</th>\n",
       "      <th>497</th>\n",
       "      <th>498</th>\n",
       "    </tr>\n",
       "  </thead>\n",
       "  <tbody>\n",
       "    <tr>\n",
       "      <th>Market_Section</th>\n",
       "      <td>[entrance, checkout]</td>\n",
       "      <td>[entrance, dairy, drinks, checkout]</td>\n",
       "      <td>[entrance, spices, drinks, checkout]</td>\n",
       "      <td>[entrance, checkout]</td>\n",
       "      <td>[entrance, spices, spices, checkout]</td>\n",
       "      <td>[entrance, checkout]</td>\n",
       "      <td>[entrance, spices, fruit, fruit, drinks, check...</td>\n",
       "      <td>[entrance, dairy, spices, spices, spices, drin...</td>\n",
       "      <td>[entrance, fruit, spices, drinks, spices, dair...</td>\n",
       "      <td>[entrance, fruit, dairy, fruit, spices, drinks...</td>\n",
       "      <td>...</td>\n",
       "      <td>[entrance, spices, dairy, fruit, spices, dairy...</td>\n",
       "      <td>[entrance, drinks, dairy, dairy, dairy, checkout]</td>\n",
       "      <td>[entrance, fruit, spices, drinks, checkout]</td>\n",
       "      <td>[entrance, drinks, spices, dairy, checkout]</td>\n",
       "      <td>[entrance, dairy, fruit, spices, spices, spice...</td>\n",
       "      <td>[entrance, dairy, dairy, fruit, spices, spices...</td>\n",
       "      <td>[entrance, spices, drinks, fruit, fruit, spice...</td>\n",
       "      <td>[entrance, drinks, spices, fruit, fruit, dairy...</td>\n",
       "      <td>[entrance, drinks, checkout]</td>\n",
       "      <td>[entrance, checkout]</td>\n",
       "    </tr>\n",
       "  </tbody>\n",
       "</table>\n",
       "<p>1 rows × 499 columns</p>\n",
       "</div>"
      ],
      "text/plain": [
       "                                 0                                    1    \\\n",
       "Market_Section  [entrance, checkout]  [entrance, dairy, drinks, checkout]   \n",
       "\n",
       "                                                 2                     3    \\\n",
       "Market_Section  [entrance, spices, drinks, checkout]  [entrance, checkout]   \n",
       "\n",
       "                                                 4                     5    \\\n",
       "Market_Section  [entrance, spices, spices, checkout]  [entrance, checkout]   \n",
       "\n",
       "                                                              6    \\\n",
       "Market_Section  [entrance, spices, fruit, fruit, drinks, check...   \n",
       "\n",
       "                                                              7    \\\n",
       "Market_Section  [entrance, dairy, spices, spices, spices, drin...   \n",
       "\n",
       "                                                              8    \\\n",
       "Market_Section  [entrance, fruit, spices, drinks, spices, dair...   \n",
       "\n",
       "                                                              9    ...  \\\n",
       "Market_Section  [entrance, fruit, dairy, fruit, spices, drinks...  ...   \n",
       "\n",
       "                                                              489  \\\n",
       "Market_Section  [entrance, spices, dairy, fruit, spices, dairy...   \n",
       "\n",
       "                                                              490  \\\n",
       "Market_Section  [entrance, drinks, dairy, dairy, dairy, checkout]   \n",
       "\n",
       "                                                        491  \\\n",
       "Market_Section  [entrance, fruit, spices, drinks, checkout]   \n",
       "\n",
       "                                                        492  \\\n",
       "Market_Section  [entrance, drinks, spices, dairy, checkout]   \n",
       "\n",
       "                                                              493  \\\n",
       "Market_Section  [entrance, dairy, fruit, spices, spices, spice...   \n",
       "\n",
       "                                                              494  \\\n",
       "Market_Section  [entrance, dairy, dairy, fruit, spices, spices...   \n",
       "\n",
       "                                                              495  \\\n",
       "Market_Section  [entrance, spices, drinks, fruit, fruit, spice...   \n",
       "\n",
       "                                                              496  \\\n",
       "Market_Section  [entrance, drinks, spices, fruit, fruit, dairy...   \n",
       "\n",
       "                                         497                   498  \n",
       "Market_Section  [entrance, drinks, checkout]  [entrance, checkout]  \n",
       "\n",
       "[1 rows x 499 columns]"
      ]
     },
     "execution_count": 70,
     "metadata": {},
     "output_type": "execute_result"
    }
   ],
   "source": [
    "LO=pd.DataFrame({'Market_Section':location})\n",
    "LO.T"
   ]
  },
  {
   "cell_type": "code",
   "execution_count": 71,
   "metadata": {},
   "outputs": [
    {
     "data": {
      "text/plain": [
       "RangeIndex(start=0, stop=499, step=1)"
      ]
     },
     "execution_count": 71,
     "metadata": {},
     "output_type": "execute_result"
    }
   ],
   "source": [
    "LO.T.columns "
   ]
  },
  {
   "cell_type": "code",
   "execution_count": 76,
   "metadata": {},
   "outputs": [
    {
     "data": {
      "text/plain": [
       "['entrance', 'checkout']"
      ]
     },
     "execution_count": 76,
     "metadata": {},
     "output_type": "execute_result"
    }
   ],
   "source": [
    "LO.Market_Section[3]"
   ]
  },
  {
   "cell_type": "code",
   "execution_count": 77,
   "metadata": {},
   "outputs": [],
   "source": [
    "f=pd.DataFrame(location)\n"
   ]
  },
  {
   "cell_type": "code",
   "execution_count": 78,
   "metadata": {},
   "outputs": [],
   "source": [
    "VisitTimes = []\n",
    "for x in name:\n",
    "   cust1 = Customer('x')\n",
    "   v=cust1.visit_times\n",
    "   VisitTimes.append(v)   "
   ]
  },
  {
   "cell_type": "code",
   "execution_count": 79,
   "metadata": {},
   "outputs": [],
   "source": [
    "v=pd.DataFrame(VisitTimes)\n"
   ]
  },
  {
   "cell_type": "code",
   "execution_count": 80,
   "metadata": {},
   "outputs": [],
   "source": [
    "df_w = pd.DataFrame(columns=['timestamp', 'customer_name', 'location'])\n",
    "\n",
    "t1_w = []\n",
    "p1_w = []\n",
    "n1_w = []\n",
    "for i in name:\n",
    "    df = pd.DataFrame()\n",
    "    name1 = format(i)\n",
    "    t1 = pd.DataFrame(my_objects[name1].visit_times)\n",
    "    p1 = pd.DataFrame(my_objects[name1].path)\n",
    "    \n",
    "    l = len(t1[0])\n",
    "    t1_w.append(t1)\n",
    "    p1_w.append(p1)\n",
    "    \n",
    "    n1 = pd.DataFrame([name1]*l)\n",
    "    n1_w.append(n1)"
   ]
  },
  {
   "cell_type": "code",
   "execution_count": 81,
   "metadata": {},
   "outputs": [
    {
     "name": "stderr",
     "output_type": "stream",
     "text": [
      "/home/seun/anaconda3/lib/python3.7/site-packages/pandas/core/internals/construction.py:540: VisibleDeprecationWarning: Creating an ndarray from ragged nested sequences (which is a list-or-tuple of lists-or-tuples-or ndarrays with different lengths or shapes) is deprecated. If you meant to do this, you must specify 'dtype=object' when creating the ndarray.\n",
      "  values = np.array([convert(v) for v in values])\n"
     ]
    }
   ],
   "source": [
    "f1=pd.DataFrame(t1_w)"
   ]
  },
  {
   "cell_type": "code",
   "execution_count": null,
   "metadata": {},
   "outputs": [],
   "source": []
  },
  {
   "cell_type": "code",
   "execution_count": null,
   "metadata": {},
   "outputs": [],
   "source": []
  },
  {
   "cell_type": "code",
   "execution_count": null,
   "metadata": {},
   "outputs": [],
   "source": []
  },
  {
   "cell_type": "code",
   "execution_count": null,
   "metadata": {},
   "outputs": [],
   "source": [
    "#f3=f3.pivot(index='date',columns='location',values='customer_no')"
   ]
  },
  {
   "cell_type": "code",
   "execution_count": null,
   "metadata": {},
   "outputs": [],
   "source": []
  },
  {
   "cell_type": "code",
   "execution_count": null,
   "metadata": {},
   "outputs": [],
   "source": []
  },
  {
   "cell_type": "code",
   "execution_count": null,
   "metadata": {},
   "outputs": [],
   "source": [
    "#f3=df_Mon.pivot(index='timestamp',columns='location',values='customer_no')"
   ]
  },
  {
   "cell_type": "code",
   "execution_count": null,
   "metadata": {},
   "outputs": [],
   "source": []
  },
  {
   "cell_type": "code",
   "execution_count": null,
   "metadata": {},
   "outputs": [],
   "source": []
  },
  {
   "cell_type": "code",
   "execution_count": null,
   "metadata": {},
   "outputs": [],
   "source": []
  }
 ],
 "metadata": {
  "kernelspec": {
   "display_name": "Python 3 (ipykernel)",
   "language": "python",
   "name": "python3"
  },
  "language_info": {
   "codemirror_mode": {
    "name": "ipython",
    "version": 3
   },
   "file_extension": ".py",
   "mimetype": "text/x-python",
   "name": "python",
   "nbconvert_exporter": "python",
   "pygments_lexer": "ipython3",
   "version": "3.10.4"
  }
 },
 "nbformat": 4,
 "nbformat_minor": 4
}
