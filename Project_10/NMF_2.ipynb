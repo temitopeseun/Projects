{
 "cells": [
  {
   "cell_type": "markdown",
   "id": "6c8dfae8",
   "metadata": {},
   "source": [
    "### Non Negative Matrix Factorization [ NMF ] for recommender Systems"
   ]
  },
  {
   "cell_type": "code",
   "execution_count": 1,
   "id": "44da936f",
   "metadata": {},
   "outputs": [
    {
     "name": "stderr",
     "output_type": "stream",
     "text": [
      "\n",
      "Bad key \"text.kerning_factor\" on line 4 in\n",
      "/home/seun/anaconda3/lib/python3.7/site-packages/matplotlib/mpl-data/stylelib/_classic_test_patch.mplstyle.\n",
      "You probably need to get an updated matplotlibrc file from\n",
      "https://github.com/matplotlib/matplotlib/blob/v3.1.3/matplotlibrc.template\n",
      "or from the matplotlib source distribution\n"
     ]
    }
   ],
   "source": [
    "import pandas as pd\n",
    "import numpy as np\n",
    "import seaborn as sns\n",
    "import matplotlib.pyplot as plt\n",
    "from sklearn.decomposition import NMF\n",
    "from sklearn.neighbors import NearestNeighbors\n",
    "from sklearn.metrics import pairwise\n",
    "from scipy.sparse import csr_matrix\n",
    "import sklearn\n",
    "import pickle"
   ]
  },
  {
   "cell_type": "markdown",
   "id": "650b9ce9",
   "metadata": {},
   "source": [
    "#### 0. candiate generation"
   ]
  },
  {
   "cell_type": "code",
   "execution_count": null,
   "id": "2faa63cc",
   "metadata": {},
   "outputs": [],
   "source": []
  },
  {
   "cell_type": "code",
   "execution_count": null,
   "id": "fce91c97",
   "metadata": {},
   "outputs": [],
   "source": []
  },
  {
   "cell_type": "markdown",
   "id": "350fd3d5",
   "metadata": {},
   "source": [
    "### 1. Load in the database that contains the movie infomation"
   ]
  },
  {
   "cell_type": "code",
   "execution_count": 2,
   "id": "1e3ae33a",
   "metadata": {},
   "outputs": [],
   "source": [
    "ratings = pd.read_csv('ml-latest-small/ratings.csv')\n",
    "movies = pd.read_csv('ml-latest-small/movies.csv')"
   ]
  },
  {
   "cell_type": "markdown",
   "id": "7ec2b24c",
   "metadata": {},
   "source": [
    "### Preprocessing\n",
    "##### filter out movies rated by less than 20 users\n",
    "##### filter out movies with an average rating lower than 2\n",
    "##### create a sparse user item matrix"
   ]
  },
  {
   "cell_type": "code",
   "execution_count": 3,
   "id": "f3ac5738",
   "metadata": {},
   "outputs": [
    {
     "data": {
      "text/html": [
       "<div>\n",
       "<style scoped>\n",
       "    .dataframe tbody tr th:only-of-type {\n",
       "        vertical-align: middle;\n",
       "    }\n",
       "\n",
       "    .dataframe tbody tr th {\n",
       "        vertical-align: top;\n",
       "    }\n",
       "\n",
       "    .dataframe thead th {\n",
       "        text-align: right;\n",
       "    }\n",
       "</style>\n",
       "<table border=\"1\" class=\"dataframe\">\n",
       "  <thead>\n",
       "    <tr style=\"text-align: right;\">\n",
       "      <th></th>\n",
       "      <th>userId</th>\n",
       "      <th>movieId</th>\n",
       "      <th>rating</th>\n",
       "      <th>timestamp</th>\n",
       "    </tr>\n",
       "  </thead>\n",
       "  <tbody>\n",
       "    <tr>\n",
       "      <th>0</th>\n",
       "      <td>1</td>\n",
       "      <td>1</td>\n",
       "      <td>4.0</td>\n",
       "      <td>964982703</td>\n",
       "    </tr>\n",
       "    <tr>\n",
       "      <th>1</th>\n",
       "      <td>1</td>\n",
       "      <td>3</td>\n",
       "      <td>4.0</td>\n",
       "      <td>964981247</td>\n",
       "    </tr>\n",
       "    <tr>\n",
       "      <th>2</th>\n",
       "      <td>1</td>\n",
       "      <td>6</td>\n",
       "      <td>4.0</td>\n",
       "      <td>964982224</td>\n",
       "    </tr>\n",
       "    <tr>\n",
       "      <th>3</th>\n",
       "      <td>1</td>\n",
       "      <td>47</td>\n",
       "      <td>5.0</td>\n",
       "      <td>964983815</td>\n",
       "    </tr>\n",
       "    <tr>\n",
       "      <th>4</th>\n",
       "      <td>1</td>\n",
       "      <td>50</td>\n",
       "      <td>5.0</td>\n",
       "      <td>964982931</td>\n",
       "    </tr>\n",
       "  </tbody>\n",
       "</table>\n",
       "</div>"
      ],
      "text/plain": [
       "   userId  movieId  rating  timestamp\n",
       "0       1        1     4.0  964982703\n",
       "1       1        3     4.0  964981247\n",
       "2       1        6     4.0  964982224\n",
       "3       1       47     5.0  964983815\n",
       "4       1       50     5.0  964982931"
      ]
     },
     "execution_count": 3,
     "metadata": {},
     "output_type": "execute_result"
    }
   ],
   "source": [
    "ratings.head(5)"
   ]
  },
  {
   "cell_type": "code",
   "execution_count": 4,
   "id": "466c930a",
   "metadata": {},
   "outputs": [
    {
     "data": {
      "text/html": [
       "<div>\n",
       "<style scoped>\n",
       "    .dataframe tbody tr th:only-of-type {\n",
       "        vertical-align: middle;\n",
       "    }\n",
       "\n",
       "    .dataframe tbody tr th {\n",
       "        vertical-align: top;\n",
       "    }\n",
       "\n",
       "    .dataframe thead th {\n",
       "        text-align: right;\n",
       "    }\n",
       "</style>\n",
       "<table border=\"1\" class=\"dataframe\">\n",
       "  <thead>\n",
       "    <tr style=\"text-align: right;\">\n",
       "      <th></th>\n",
       "      <th>userId</th>\n",
       "    </tr>\n",
       "    <tr>\n",
       "      <th>movieId</th>\n",
       "      <th></th>\n",
       "    </tr>\n",
       "  </thead>\n",
       "  <tbody>\n",
       "    <tr>\n",
       "      <th>1</th>\n",
       "      <td>215</td>\n",
       "    </tr>\n",
       "    <tr>\n",
       "      <th>2</th>\n",
       "      <td>110</td>\n",
       "    </tr>\n",
       "    <tr>\n",
       "      <th>3</th>\n",
       "      <td>52</td>\n",
       "    </tr>\n",
       "    <tr>\n",
       "      <th>4</th>\n",
       "      <td>7</td>\n",
       "    </tr>\n",
       "    <tr>\n",
       "      <th>5</th>\n",
       "      <td>49</td>\n",
       "    </tr>\n",
       "  </tbody>\n",
       "</table>\n",
       "</div>"
      ],
      "text/plain": [
       "         userId\n",
       "movieId        \n",
       "1           215\n",
       "2           110\n",
       "3            52\n",
       "4             7\n",
       "5            49"
      ]
     },
     "execution_count": 4,
     "metadata": {},
     "output_type": "execute_result"
    }
   ],
   "source": [
    "# calculate the number of ratings per movie\n",
    "rating_per_movie=ratings.groupby('movieId')['userId'].count()\n",
    "rating_per_movie = pd.DataFrame(rating_per_movie)\n",
    "rating_per_movie.head(5)"
   ]
  },
  {
   "cell_type": "code",
   "execution_count": 5,
   "id": "c6e0d87a",
   "metadata": {},
   "outputs": [
    {
     "data": {
      "text/html": [
       "<div>\n",
       "<style scoped>\n",
       "    .dataframe tbody tr th:only-of-type {\n",
       "        vertical-align: middle;\n",
       "    }\n",
       "\n",
       "    .dataframe tbody tr th {\n",
       "        vertical-align: top;\n",
       "    }\n",
       "\n",
       "    .dataframe thead th {\n",
       "        text-align: right;\n",
       "    }\n",
       "</style>\n",
       "<table border=\"1\" class=\"dataframe\">\n",
       "  <thead>\n",
       "    <tr style=\"text-align: right;\">\n",
       "      <th></th>\n",
       "      <th>userId</th>\n",
       "    </tr>\n",
       "    <tr>\n",
       "      <th>movieId</th>\n",
       "      <th></th>\n",
       "    </tr>\n",
       "  </thead>\n",
       "  <tbody>\n",
       "    <tr>\n",
       "      <th>1</th>\n",
       "      <td>215</td>\n",
       "    </tr>\n",
       "    <tr>\n",
       "      <th>2</th>\n",
       "      <td>110</td>\n",
       "    </tr>\n",
       "    <tr>\n",
       "      <th>3</th>\n",
       "      <td>52</td>\n",
       "    </tr>\n",
       "    <tr>\n",
       "      <th>5</th>\n",
       "      <td>49</td>\n",
       "    </tr>\n",
       "    <tr>\n",
       "      <th>6</th>\n",
       "      <td>102</td>\n",
       "    </tr>\n",
       "  </tbody>\n",
       "</table>\n",
       "</div>"
      ],
      "text/plain": [
       "         userId\n",
       "movieId        \n",
       "1           215\n",
       "2           110\n",
       "3            52\n",
       "5            49\n",
       "6           102"
      ]
     },
     "execution_count": 5,
     "metadata": {},
     "output_type": "execute_result"
    }
   ],
   "source": [
    "# filter the ratings matrix and only keep the popular movies\n",
    "popular_movies=rating_per_movie.loc[rating_per_movie['userId'] > 19]\n",
    "popular_movies.head(5)"
   ]
  },
  {
   "cell_type": "code",
   "execution_count": 6,
   "id": "ecd31812",
   "metadata": {},
   "outputs": [
    {
     "data": {
      "text/html": [
       "<div>\n",
       "<style scoped>\n",
       "    .dataframe tbody tr th:only-of-type {\n",
       "        vertical-align: middle;\n",
       "    }\n",
       "\n",
       "    .dataframe tbody tr th {\n",
       "        vertical-align: top;\n",
       "    }\n",
       "\n",
       "    .dataframe thead th {\n",
       "        text-align: right;\n",
       "    }\n",
       "</style>\n",
       "<table border=\"1\" class=\"dataframe\">\n",
       "  <thead>\n",
       "    <tr style=\"text-align: right;\">\n",
       "      <th></th>\n",
       "      <th>movieId</th>\n",
       "      <th>userId</th>\n",
       "      <th>rating</th>\n",
       "      <th>timestamp</th>\n",
       "    </tr>\n",
       "  </thead>\n",
       "  <tbody>\n",
       "    <tr>\n",
       "      <th>0</th>\n",
       "      <td>1</td>\n",
       "      <td>1</td>\n",
       "      <td>4.0</td>\n",
       "      <td>964982703</td>\n",
       "    </tr>\n",
       "    <tr>\n",
       "      <th>1</th>\n",
       "      <td>1</td>\n",
       "      <td>5</td>\n",
       "      <td>4.0</td>\n",
       "      <td>847434962</td>\n",
       "    </tr>\n",
       "    <tr>\n",
       "      <th>2</th>\n",
       "      <td>1</td>\n",
       "      <td>7</td>\n",
       "      <td>4.5</td>\n",
       "      <td>1106635946</td>\n",
       "    </tr>\n",
       "    <tr>\n",
       "      <th>3</th>\n",
       "      <td>1</td>\n",
       "      <td>15</td>\n",
       "      <td>2.5</td>\n",
       "      <td>1510577970</td>\n",
       "    </tr>\n",
       "    <tr>\n",
       "      <th>4</th>\n",
       "      <td>1</td>\n",
       "      <td>17</td>\n",
       "      <td>4.5</td>\n",
       "      <td>1305696483</td>\n",
       "    </tr>\n",
       "  </tbody>\n",
       "</table>\n",
       "</div>"
      ],
      "text/plain": [
       "   movieId  userId  rating   timestamp\n",
       "0        1       1     4.0   964982703\n",
       "1        1       5     4.0   847434962\n",
       "2        1       7     4.5  1106635946\n",
       "3        1      15     2.5  1510577970\n",
       "4        1      17     4.5  1305696483"
      ]
     },
     "execution_count": 6,
     "metadata": {},
     "output_type": "execute_result"
    }
   ],
   "source": [
    "# filter the rating matrix and only keep the popular movies\n",
    "ratings = ratings.set_index('movieId').loc[popular_movies.index]\n",
    "ratings = ratings.reset_index()\n",
    "ratings.head(5)"
   ]
  },
  {
   "cell_type": "code",
   "execution_count": null,
   "id": "9246be42",
   "metadata": {},
   "outputs": [],
   "source": []
  },
  {
   "cell_type": "markdown",
   "id": "8f3c50d4",
   "metadata": {},
   "source": [
    "### User rating "
   ]
  },
  {
   "cell_type": "code",
   "execution_count": 7,
   "id": "66f72f7c",
   "metadata": {},
   "outputs": [
    {
     "data": {
      "text/html": [
       "<div>\n",
       "<style scoped>\n",
       "    .dataframe tbody tr th:only-of-type {\n",
       "        vertical-align: middle;\n",
       "    }\n",
       "\n",
       "    .dataframe tbody tr th {\n",
       "        vertical-align: top;\n",
       "    }\n",
       "\n",
       "    .dataframe thead th {\n",
       "        text-align: right;\n",
       "    }\n",
       "</style>\n",
       "<table border=\"1\" class=\"dataframe\">\n",
       "  <thead>\n",
       "    <tr style=\"text-align: right;\">\n",
       "      <th></th>\n",
       "      <th>movieId</th>\n",
       "      <th>userId</th>\n",
       "      <th>rating</th>\n",
       "      <th>timestamp</th>\n",
       "      <th>title</th>\n",
       "      <th>genres</th>\n",
       "    </tr>\n",
       "  </thead>\n",
       "  <tbody>\n",
       "    <tr>\n",
       "      <th>0</th>\n",
       "      <td>1</td>\n",
       "      <td>1.0</td>\n",
       "      <td>4.0</td>\n",
       "      <td>9.649827e+08</td>\n",
       "      <td>Toy Story (1995)</td>\n",
       "      <td>Adventure|Animation|Children|Comedy|Fantasy</td>\n",
       "    </tr>\n",
       "    <tr>\n",
       "      <th>1</th>\n",
       "      <td>1</td>\n",
       "      <td>5.0</td>\n",
       "      <td>4.0</td>\n",
       "      <td>8.474350e+08</td>\n",
       "      <td>Toy Story (1995)</td>\n",
       "      <td>Adventure|Animation|Children|Comedy|Fantasy</td>\n",
       "    </tr>\n",
       "    <tr>\n",
       "      <th>2</th>\n",
       "      <td>1</td>\n",
       "      <td>7.0</td>\n",
       "      <td>4.5</td>\n",
       "      <td>1.106636e+09</td>\n",
       "      <td>Toy Story (1995)</td>\n",
       "      <td>Adventure|Animation|Children|Comedy|Fantasy</td>\n",
       "    </tr>\n",
       "    <tr>\n",
       "      <th>3</th>\n",
       "      <td>1</td>\n",
       "      <td>15.0</td>\n",
       "      <td>2.5</td>\n",
       "      <td>1.510578e+09</td>\n",
       "      <td>Toy Story (1995)</td>\n",
       "      <td>Adventure|Animation|Children|Comedy|Fantasy</td>\n",
       "    </tr>\n",
       "    <tr>\n",
       "      <th>4</th>\n",
       "      <td>1</td>\n",
       "      <td>17.0</td>\n",
       "      <td>4.5</td>\n",
       "      <td>1.305696e+09</td>\n",
       "      <td>Toy Story (1995)</td>\n",
       "      <td>Adventure|Animation|Children|Comedy|Fantasy</td>\n",
       "    </tr>\n",
       "  </tbody>\n",
       "</table>\n",
       "</div>"
      ],
      "text/plain": [
       "   movieId  userId  rating     timestamp             title  \\\n",
       "0        1     1.0     4.0  9.649827e+08  Toy Story (1995)   \n",
       "1        1     5.0     4.0  8.474350e+08  Toy Story (1995)   \n",
       "2        1     7.0     4.5  1.106636e+09  Toy Story (1995)   \n",
       "3        1    15.0     2.5  1.510578e+09  Toy Story (1995)   \n",
       "4        1    17.0     4.5  1.305696e+09  Toy Story (1995)   \n",
       "\n",
       "                                        genres  \n",
       "0  Adventure|Animation|Children|Comedy|Fantasy  \n",
       "1  Adventure|Animation|Children|Comedy|Fantasy  \n",
       "2  Adventure|Animation|Children|Comedy|Fantasy  \n",
       "3  Adventure|Animation|Children|Comedy|Fantasy  \n",
       "4  Adventure|Animation|Children|Comedy|Fantasy  "
      ]
     },
     "execution_count": 7,
     "metadata": {},
     "output_type": "execute_result"
    }
   ],
   "source": [
    "df = ratings.merge(movies, on='movieId', how='outer')\n",
    "df.head(5)"
   ]
  },
  {
   "cell_type": "code",
   "execution_count": 8,
   "id": "63222e26",
   "metadata": {},
   "outputs": [
    {
     "data": {
      "text/html": [
       "<div>\n",
       "<style scoped>\n",
       "    .dataframe tbody tr th:only-of-type {\n",
       "        vertical-align: middle;\n",
       "    }\n",
       "\n",
       "    .dataframe tbody tr th {\n",
       "        vertical-align: top;\n",
       "    }\n",
       "\n",
       "    .dataframe thead th {\n",
       "        text-align: right;\n",
       "    }\n",
       "</style>\n",
       "<table border=\"1\" class=\"dataframe\">\n",
       "  <thead>\n",
       "    <tr style=\"text-align: right;\">\n",
       "      <th></th>\n",
       "      <th>movieId</th>\n",
       "      <th>userId</th>\n",
       "      <th>rating</th>\n",
       "      <th>genres</th>\n",
       "    </tr>\n",
       "  </thead>\n",
       "  <tbody>\n",
       "    <tr>\n",
       "      <th>5448</th>\n",
       "      <td>235</td>\n",
       "      <td>1.0</td>\n",
       "      <td>4.0</td>\n",
       "      <td>Comedy|Drama</td>\n",
       "    </tr>\n",
       "    <tr>\n",
       "      <th>5449</th>\n",
       "      <td>235</td>\n",
       "      <td>4.0</td>\n",
       "      <td>2.0</td>\n",
       "      <td>Comedy|Drama</td>\n",
       "    </tr>\n",
       "    <tr>\n",
       "      <th>5450</th>\n",
       "      <td>235</td>\n",
       "      <td>8.0</td>\n",
       "      <td>3.0</td>\n",
       "      <td>Comedy|Drama</td>\n",
       "    </tr>\n",
       "    <tr>\n",
       "      <th>5451</th>\n",
       "      <td>235</td>\n",
       "      <td>18.0</td>\n",
       "      <td>4.5</td>\n",
       "      <td>Comedy|Drama</td>\n",
       "    </tr>\n",
       "  </tbody>\n",
       "</table>\n",
       "</div>"
      ],
      "text/plain": [
       "      movieId  userId  rating        genres\n",
       "5448      235     1.0     4.0  Comedy|Drama\n",
       "5449      235     4.0     2.0  Comedy|Drama\n",
       "5450      235     8.0     3.0  Comedy|Drama\n",
       "5451      235    18.0     4.5  Comedy|Drama"
      ]
     },
     "execution_count": 8,
     "metadata": {},
     "output_type": "execute_result"
    }
   ],
   "source": [
    "df.drop(['timestamp'],axis=1)\n",
    "comedy_movie=df[df[\"genres\"] == \"Comedy|Drama\"]\n",
    "comedy_movie = comedy_movie.dropna()\n",
    "comedy_movie=comedy_movie[['movieId','userId','rating','genres']]\n",
    "comedy_movie.head(4)"
   ]
  },
  {
   "cell_type": "code",
   "execution_count": 9,
   "id": "14f4fe7e",
   "metadata": {},
   "outputs": [],
   "source": [
    "#pd.set_option('display.max_rows', 500)\n",
    "#values, counts = np.unique(comedy_movie['userId'], return_counts=True)\n",
    "#pd.DataFrame (counts, columns = ['count'])\n",
    "#pd.DataFrame (values, columns = ['values'])"
   ]
  },
  {
   "cell_type": "code",
   "execution_count": 10,
   "id": "2610bf35",
   "metadata": {},
   "outputs": [
    {
     "data": {
      "text/html": [
       "<div>\n",
       "<style scoped>\n",
       "    .dataframe tbody tr th:only-of-type {\n",
       "        vertical-align: middle;\n",
       "    }\n",
       "\n",
       "    .dataframe tbody tr th {\n",
       "        vertical-align: top;\n",
       "    }\n",
       "\n",
       "    .dataframe thead th {\n",
       "        text-align: right;\n",
       "    }\n",
       "</style>\n",
       "<table border=\"1\" class=\"dataframe\">\n",
       "  <thead>\n",
       "    <tr style=\"text-align: right;\">\n",
       "      <th></th>\n",
       "      <th>movieId</th>\n",
       "      <th>userId</th>\n",
       "      <th>rating</th>\n",
       "      <th>genres</th>\n",
       "    </tr>\n",
       "  </thead>\n",
       "  <tbody>\n",
       "    <tr>\n",
       "      <th>5502</th>\n",
       "      <td>235</td>\n",
       "      <td>474.0</td>\n",
       "      <td>4.0</td>\n",
       "      <td>Comedy|Drama</td>\n",
       "    </tr>\n",
       "    <tr>\n",
       "      <th>6263</th>\n",
       "      <td>272</td>\n",
       "      <td>474.0</td>\n",
       "      <td>3.5</td>\n",
       "      <td>Comedy|Drama</td>\n",
       "    </tr>\n",
       "    <tr>\n",
       "      <th>7179</th>\n",
       "      <td>308</td>\n",
       "      <td>474.0</td>\n",
       "      <td>4.0</td>\n",
       "      <td>Comedy|Drama</td>\n",
       "    </tr>\n",
       "    <tr>\n",
       "      <th>8367</th>\n",
       "      <td>345</td>\n",
       "      <td>474.0</td>\n",
       "      <td>3.5</td>\n",
       "      <td>Comedy|Drama</td>\n",
       "    </tr>\n",
       "    <tr>\n",
       "      <th>9624</th>\n",
       "      <td>371</td>\n",
       "      <td>474.0</td>\n",
       "      <td>3.0</td>\n",
       "      <td>Comedy|Drama</td>\n",
       "    </tr>\n",
       "  </tbody>\n",
       "</table>\n",
       "</div>"
      ],
      "text/plain": [
       "      movieId  userId  rating        genres\n",
       "5502      235   474.0     4.0  Comedy|Drama\n",
       "6263      272   474.0     3.5  Comedy|Drama\n",
       "7179      308   474.0     4.0  Comedy|Drama\n",
       "8367      345   474.0     3.5  Comedy|Drama\n",
       "9624      371   474.0     3.0  Comedy|Drama"
      ]
     },
     "execution_count": 10,
     "metadata": {},
     "output_type": "execute_result"
    }
   ],
   "source": [
    "comedy_movie=comedy_movie[comedy_movie['userId']==474]\n",
    "comedy_movie=comedy_movie[comedy_movie.rating > 2]\n",
    "\n",
    "# transform to dictionary\n",
    "comedy_movie_dict=comedy_movie.to_dict()\n",
    "query=comedy_movie_dict['rating']\n",
    "query\n",
    "\n",
    "# make a list of rated movie\n",
    "comedy_movie_movies_rated=list(query.keys())\n",
    "comedy_movie.head(5)"
   ]
  },
  {
   "cell_type": "code",
   "execution_count": null,
   "id": "22cee33f",
   "metadata": {},
   "outputs": [],
   "source": []
  },
  {
   "cell_type": "markdown",
   "id": "91f758ab",
   "metadata": {},
   "source": [
    "### Training data "
   ]
  },
  {
   "cell_type": "code",
   "execution_count": 11,
   "id": "0aeeeca1",
   "metadata": {},
   "outputs": [
    {
     "data": {
      "text/plain": [
       "(67898, 4)"
      ]
     },
     "execution_count": 11,
     "metadata": {},
     "output_type": "execute_result"
    }
   ],
   "source": [
    "#df3 = df[~((df['userId'] == 474.0) & (df['genres'] == 'Comedy|Drama'))]#\n",
    "#df3 = df3[df3['userId'].notnull()]\n",
    "#df3=df3[['movieId','userId','rating','timestamp']]\n",
    "\n",
    "df3 = ratings[~((ratings['userId'] == 474.0) & (ratings['rating'] == '4|5'))]\n",
    "df3.shape"
   ]
  },
  {
   "cell_type": "code",
   "execution_count": null,
   "id": "20033ba3",
   "metadata": {},
   "outputs": [],
   "source": []
  },
  {
   "cell_type": "code",
   "execution_count": 12,
   "id": "9e02eaa9",
   "metadata": {},
   "outputs": [
    {
     "data": {
      "text/plain": [
       "<611x168253 sparse matrix of type '<class 'numpy.float64'>'\n",
       "\twith 67898 stored elements in Compressed Sparse Row format>"
      ]
     },
     "execution_count": 12,
     "metadata": {},
     "output_type": "execute_result"
    }
   ],
   "source": [
    "# Initialize a sparse user-item rating matrix \n",
    "# (data, (row_ind, col_ind)\n",
    "R=csr_matrix((df3['rating'],(df3['userId'],df3['movieId'])))\n",
    "R"
   ]
  },
  {
   "cell_type": "markdown",
   "id": "9c494639",
   "metadata": {},
   "source": [
    "### 2. Training the model\n",
    "#### initialize the model,  AND fit it on the user item matrix\n",
    "-optionally, tune the number of components (hidden features): what happens if you set the number of components to a really low number?\n",
    "-decrease the tol to train for a longer time"
   ]
  },
  {
   "cell_type": "code",
   "execution_count": 13,
   "id": "363a95ea",
   "metadata": {},
   "outputs": [
    {
     "data": {
      "text/plain": [
       "NMF(init='nndsvd', max_iter=20000, n_components=400, tol=0.01)"
      ]
     },
     "execution_count": 13,
     "metadata": {},
     "output_type": "execute_result"
    }
   ],
   "source": [
    "# initialize the unsupervised model\n",
    "# 55 hidden features, F=55\n",
    "model = NMF(n_components=400, init='nndsvd', max_iter=20000, tol=0.01, verbose=0)\n",
    "\n",
    "# fit it to the user-item rating matrix\n",
    "model.fit(R)"
   ]
  },
  {
   "cell_type": "markdown",
   "id": "b1dc5212",
   "metadata": {},
   "source": [
    "### 3. Model inspection"
   ]
  },
  {
   "cell_type": "code",
   "execution_count": 15,
   "id": "aa55cfc7",
   "metadata": {},
   "outputs": [
    {
     "data": {
      "text/plain": [
       "<611x168253 sparse matrix of type '<class 'numpy.float64'>'\n",
       "\twith 67898 stored elements in Compressed Sparse Row format>"
      ]
     },
     "execution_count": 15,
     "metadata": {},
     "output_type": "execute_result"
    }
   ],
   "source": [
    "R"
   ]
  },
  {
   "cell_type": "code",
   "execution_count": 16,
   "id": "e2b424b7",
   "metadata": {},
   "outputs": [
    {
     "data": {
      "text/plain": [
       "(400, 168253)"
      ]
     },
     "execution_count": 16,
     "metadata": {},
     "output_type": "execute_result"
    }
   ],
   "source": [
    "model.components_.shape"
   ]
  },
  {
   "cell_type": "code",
   "execution_count": 17,
   "id": "c369f5e6",
   "metadata": {},
   "outputs": [
    {
     "data": {
      "text/plain": [
       "((611, 400), (400, 168253))"
      ]
     },
     "execution_count": 17,
     "metadata": {},
     "output_type": "execute_result"
    }
   ],
   "source": [
    "# user-'genre' matrix [611x55]\n",
    "P=model.transform(R)\n",
    "\n",
    "# movie-'genre' matrix [55x168253]\n",
    "Q=model.components_\n",
    "\n",
    "P.shape, Q.shape"
   ]
  },
  {
   "cell_type": "code",
   "execution_count": 18,
   "id": "7265ac58",
   "metadata": {},
   "outputs": [],
   "source": [
    "# R -> encoding -> P -> decoding -> Rhat\n",
    "R_hat = model.inverse_transform(model.transform(R))"
   ]
  },
  {
   "cell_type": "markdown",
   "id": "63592712",
   "metadata": {},
   "source": [
    "### 4. Error reconstruction ¶\n"
   ]
  },
  {
   "cell_type": "code",
   "execution_count": 19,
   "id": "9334c5b7",
   "metadata": {},
   "outputs": [
    {
     "data": {
      "text/plain": [
       "((611, 168253), (611, 168253))"
      ]
     },
     "execution_count": 19,
     "metadata": {},
     "output_type": "execute_result"
    }
   ],
   "source": [
    "R.shape, R_hat.shape"
   ]
  },
  {
   "cell_type": "code",
   "execution_count": 20,
   "id": "ddf004d6",
   "metadata": {},
   "outputs": [
    {
     "data": {
      "text/plain": [
       "297.86588233651366"
      ]
     },
     "execution_count": 20,
     "metadata": {},
     "output_type": "execute_result"
    }
   ],
   "source": [
    "model.reconstruction_err_"
   ]
  },
  {
   "cell_type": "markdown",
   "id": "28aebca2",
   "metadata": {},
   "source": [
    "### 5. Model deployment: Make recommendations for a new user"
   ]
  },
  {
   "cell_type": "markdown",
   "id": "4c243571",
   "metadata": {},
   "source": [
    "##### Save the trained model on the hard drive"
   ]
  },
  {
   "cell_type": "code",
   "execution_count": null,
   "id": "f3f0085c",
   "metadata": {},
   "outputs": [],
   "source": [
    "with open('./NMF_recommender.pkl', 'wb') as file:\n",
    "    pickle.dump(model, file)"
   ]
  },
  {
   "cell_type": "markdown",
   "id": "8f1e5aa6",
   "metadata": {},
   "source": [
    "#### Read the model from hard drive"
   ]
  },
  {
   "cell_type": "code",
   "execution_count": null,
   "id": "d313be9a",
   "metadata": {},
   "outputs": [],
   "source": [
    "with open('./NMF_recommender.pkl', 'rb') as file:\n",
    "    model = pickle.load(file)"
   ]
  },
  {
   "cell_type": "code",
   "execution_count": 21,
   "id": "b5829f6b",
   "metadata": {},
   "outputs": [
    {
     "data": {
      "text/plain": [
       "297.86588233651366"
      ]
     },
     "execution_count": 21,
     "metadata": {},
     "output_type": "execute_result"
    }
   ],
   "source": [
    "model.reconstruction_err_"
   ]
  },
  {
   "cell_type": "markdown",
   "id": "fc02a647",
   "metadata": {},
   "source": [
    "#### Construct a user vector to test"
   ]
  },
  {
   "cell_type": "code",
   "execution_count": 22,
   "id": "39e53723",
   "metadata": {},
   "outputs": [
    {
     "data": {
      "text/plain": [
       "[4.0,\n",
       " 3.5,\n",
       " 4.0,\n",
       " 3.5,\n",
       " 3.0,\n",
       " 2.5,\n",
       " 4.0,\n",
       " 4.5,\n",
       " 4.0,\n",
       " 3.5,\n",
       " 3.0,\n",
       " 3.5,\n",
       " 3.0,\n",
       " 4.0,\n",
       " 3.5,\n",
       " 4.0,\n",
       " 3.0,\n",
       " 4.0,\n",
       " 4.0,\n",
       " 4.0,\n",
       " 3.5,\n",
       " 4.0,\n",
       " 4.0,\n",
       " 4.0,\n",
       " 3.5]"
      ]
     },
     "execution_count": 22,
     "metadata": {},
     "output_type": "execute_result"
    }
   ],
   "source": [
    "list(query.values())"
   ]
  },
  {
   "cell_type": "code",
   "execution_count": 23,
   "id": "e31c5789",
   "metadata": {},
   "outputs": [],
   "source": [
    "data = list(query.values())   # the ratings of the new user\n",
    "row_ind = [0]*len(data)       # we use just a single row 0 for this user \n",
    "col_ind = list(query.keys())  # the columns (=movieId) of the ratings\n",
    "#data, row_ind, col_ind\n"
   ]
  },
  {
   "cell_type": "code",
   "execution_count": 24,
   "id": "38564e55",
   "metadata": {},
   "outputs": [
    {
     "data": {
      "text/plain": [
       "<1x168253 sparse matrix of type '<class 'numpy.float64'>'\n",
       "\twith 25 stored elements in Compressed Sparse Row format>"
      ]
     },
     "execution_count": 24,
     "metadata": {},
     "output_type": "execute_result"
    }
   ],
   "source": [
    "# new user vector: needs to have the same format as the training data\n",
    "\n",
    "user_vec = csr_matrix((data, (row_ind, col_ind)), shape=(1, R.shape[1]))\n",
    "user_vec"
   ]
  },
  {
   "cell_type": "markdown",
   "id": "04c2a734",
   "metadata": {},
   "source": [
    "#### Calculate the score\n",
    "* Transform the user vector to its dense representation (encoding), \n",
    "* Inverse transform the dense vector into the sparse representation (decoding)"
   ]
  },
  {
   "cell_type": "code",
   "execution_count": 25,
   "id": "5ebd840b",
   "metadata": {},
   "outputs": [
    {
     "data": {
      "text/plain": [
       "0         0.000000\n",
       "1         0.020578\n",
       "2         0.017790\n",
       "3         0.001466\n",
       "4         0.000000\n",
       "            ...   \n",
       "168248    0.000000\n",
       "168249    0.000000\n",
       "168250    0.000000\n",
       "168251    0.000000\n",
       "168252    0.004075\n",
       "Length: 168253, dtype: float64"
      ]
     },
     "execution_count": 25,
     "metadata": {},
     "output_type": "execute_result"
    }
   ],
   "source": [
    "# user_vec -> encoding -> p_user_vec -> decoding -> user_vec_hat\n",
    "\n",
    "scores = model.inverse_transform(model.transform(user_vec))\n",
    "\n",
    "# convert to a pandas series\n",
    "scores = pd.Series(scores[0])\n",
    "scores"
   ]
  },
  {
   "cell_type": "code",
   "execution_count": 26,
   "id": "5e0d86ad",
   "metadata": {},
   "outputs": [
    {
     "data": {
      "text/plain": [
       "5502     0.182906\n",
       "5445     0.157510\n",
       "2571     0.153142\n",
       "5349     0.145997\n",
       "1097     0.138374\n",
       "           ...   \n",
       "56762    0.000000\n",
       "56763    0.000000\n",
       "56764    0.000000\n",
       "56765    0.000000\n",
       "84126    0.000000\n",
       "Length: 168253, dtype: float64"
      ]
     },
     "execution_count": 26,
     "metadata": {},
     "output_type": "execute_result"
    }
   ],
   "source": [
    "# sort the scores from high to low \n",
    "scores = scores.sort_values(ascending=False)\n",
    "scores"
   ]
  },
  {
   "cell_type": "code",
   "execution_count": 29,
   "id": "e2d8c005",
   "metadata": {},
   "outputs": [
    {
     "data": {
      "text/plain": [
       "Int64Index([5502, 5445, 2571, 5349, 1097, 5378,  480, 3793, 3527, 1214, 1200,\n",
       "            6333, 1527, 5218, 1356],\n",
       "           dtype='int64')"
      ]
     },
     "execution_count": 29,
     "metadata": {},
     "output_type": "execute_result"
    }
   ],
   "source": [
    "# get the movieIds of the top 10 entries\n",
    "recommendations = scores.head(15).index\n",
    "recommendations"
   ]
  },
  {
   "cell_type": "code",
   "execution_count": 28,
   "id": "7d19c6d2",
   "metadata": {},
   "outputs": [
    {
     "data": {
      "text/html": [
       "<div>\n",
       "<style scoped>\n",
       "    .dataframe tbody tr th:only-of-type {\n",
       "        vertical-align: middle;\n",
       "    }\n",
       "\n",
       "    .dataframe tbody tr th {\n",
       "        vertical-align: top;\n",
       "    }\n",
       "\n",
       "    .dataframe thead th {\n",
       "        text-align: right;\n",
       "    }\n",
       "</style>\n",
       "<table border=\"1\" class=\"dataframe\">\n",
       "  <thead>\n",
       "    <tr style=\"text-align: right;\">\n",
       "      <th></th>\n",
       "      <th>title</th>\n",
       "      <th>genres</th>\n",
       "    </tr>\n",
       "  </thead>\n",
       "  <tbody>\n",
       "    <tr>\n",
       "      <th>5502</th>\n",
       "      <td>Signs (2002)</td>\n",
       "      <td>Horror|Sci-Fi|Thriller</td>\n",
       "    </tr>\n",
       "    <tr>\n",
       "      <th>5445</th>\n",
       "      <td>Minority Report (2002)</td>\n",
       "      <td>Action|Crime|Mystery|Sci-Fi|Thriller</td>\n",
       "    </tr>\n",
       "    <tr>\n",
       "      <th>2571</th>\n",
       "      <td>Matrix, The (1999)</td>\n",
       "      <td>Action|Sci-Fi|Thriller</td>\n",
       "    </tr>\n",
       "    <tr>\n",
       "      <th>5349</th>\n",
       "      <td>Spider-Man (2002)</td>\n",
       "      <td>Action|Adventure|Sci-Fi|Thriller</td>\n",
       "    </tr>\n",
       "    <tr>\n",
       "      <th>1097</th>\n",
       "      <td>E.T. the Extra-Terrestrial (1982)</td>\n",
       "      <td>Children|Drama|Sci-Fi</td>\n",
       "    </tr>\n",
       "    <tr>\n",
       "      <th>5378</th>\n",
       "      <td>Star Wars: Episode II - Attack of the Clones (...</td>\n",
       "      <td>Action|Adventure|Sci-Fi|IMAX</td>\n",
       "    </tr>\n",
       "    <tr>\n",
       "      <th>480</th>\n",
       "      <td>Jurassic Park (1993)</td>\n",
       "      <td>Action|Adventure|Sci-Fi|Thriller</td>\n",
       "    </tr>\n",
       "    <tr>\n",
       "      <th>3793</th>\n",
       "      <td>X-Men (2000)</td>\n",
       "      <td>Action|Adventure|Sci-Fi</td>\n",
       "    </tr>\n",
       "    <tr>\n",
       "      <th>3527</th>\n",
       "      <td>Predator (1987)</td>\n",
       "      <td>Action|Sci-Fi|Thriller</td>\n",
       "    </tr>\n",
       "    <tr>\n",
       "      <th>1214</th>\n",
       "      <td>Alien (1979)</td>\n",
       "      <td>Horror|Sci-Fi</td>\n",
       "    </tr>\n",
       "    <tr>\n",
       "      <th>1200</th>\n",
       "      <td>Aliens (1986)</td>\n",
       "      <td>Action|Adventure|Horror|Sci-Fi</td>\n",
       "    </tr>\n",
       "    <tr>\n",
       "      <th>6333</th>\n",
       "      <td>X2: X-Men United (2003)</td>\n",
       "      <td>Action|Adventure|Sci-Fi|Thriller</td>\n",
       "    </tr>\n",
       "    <tr>\n",
       "      <th>1527</th>\n",
       "      <td>Fifth Element, The (1997)</td>\n",
       "      <td>Action|Adventure|Comedy|Sci-Fi</td>\n",
       "    </tr>\n",
       "    <tr>\n",
       "      <th>5218</th>\n",
       "      <td>Ice Age (2002)</td>\n",
       "      <td>Adventure|Animation|Children|Comedy</td>\n",
       "    </tr>\n",
       "    <tr>\n",
       "      <th>1356</th>\n",
       "      <td>Star Trek: First Contact (1996)</td>\n",
       "      <td>Action|Adventure|Sci-Fi|Thriller</td>\n",
       "    </tr>\n",
       "  </tbody>\n",
       "</table>\n",
       "</div>"
      ],
      "text/plain": [
       "                                                  title  \\\n",
       "5502                                       Signs (2002)   \n",
       "5445                             Minority Report (2002)   \n",
       "2571                                 Matrix, The (1999)   \n",
       "5349                                  Spider-Man (2002)   \n",
       "1097                  E.T. the Extra-Terrestrial (1982)   \n",
       "5378  Star Wars: Episode II - Attack of the Clones (...   \n",
       "480                                Jurassic Park (1993)   \n",
       "3793                                       X-Men (2000)   \n",
       "3527                                    Predator (1987)   \n",
       "1214                                       Alien (1979)   \n",
       "1200                                      Aliens (1986)   \n",
       "6333                            X2: X-Men United (2003)   \n",
       "1527                          Fifth Element, The (1997)   \n",
       "5218                                     Ice Age (2002)   \n",
       "1356                    Star Trek: First Contact (1996)   \n",
       "\n",
       "                                    genres  \n",
       "5502                Horror|Sci-Fi|Thriller  \n",
       "5445  Action|Crime|Mystery|Sci-Fi|Thriller  \n",
       "2571                Action|Sci-Fi|Thriller  \n",
       "5349      Action|Adventure|Sci-Fi|Thriller  \n",
       "1097                 Children|Drama|Sci-Fi  \n",
       "5378          Action|Adventure|Sci-Fi|IMAX  \n",
       "480       Action|Adventure|Sci-Fi|Thriller  \n",
       "3793               Action|Adventure|Sci-Fi  \n",
       "3527                Action|Sci-Fi|Thriller  \n",
       "1214                         Horror|Sci-Fi  \n",
       "1200        Action|Adventure|Horror|Sci-Fi  \n",
       "6333      Action|Adventure|Sci-Fi|Thriller  \n",
       "1527        Action|Adventure|Comedy|Sci-Fi  \n",
       "5218   Adventure|Animation|Children|Comedy  \n",
       "1356      Action|Adventure|Sci-Fi|Thriller  "
      ]
     },
     "execution_count": 28,
     "metadata": {},
     "output_type": "execute_result"
    }
   ],
   "source": [
    "movies.set_index('movieId').loc[recommendations]"
   ]
  },
  {
   "cell_type": "code",
   "execution_count": null,
   "id": "57aa1185",
   "metadata": {},
   "outputs": [],
   "source": []
  },
  {
   "cell_type": "markdown",
   "id": "5a6e242b",
   "metadata": {},
   "source": [
    "## Make the model a function file"
   ]
  },
  {
   "cell_type": "code",
   "execution_count": 30,
   "id": "b9bd8315",
   "metadata": {},
   "outputs": [],
   "source": [
    "# collaborative filtering = look at ratings only!\n",
    "def recommend_nmf(query, model, ratings, k=10):\n",
    "    \"\"\"\n",
    "    Filters and recommends the top k movies for any given input query based on a trained NMF model. \n",
    "    Returns a list of k movie ids.\n",
    "    \"\"\"\n",
    "    R = csr_matrix((ratings['rating'], (ratings['userId'], ratings['movieId'])))\n",
    "    model.fit(R)\n",
    "    R_hat = model.inverse_transform(model.transform(R))\n",
    "    \n",
    "    data = list(query.values())   # the ratings of the new user\n",
    "    row_ind = [0]*len(data) \n",
    "    col_ind = list(query.keys()) \n",
    "    \n",
    "    # new user vector: needs to have the same format as the training data\n",
    "\n",
    "    user_vec = csr_matrix((data, (row_ind, col_ind)), shape=(1, R.shape[1]))\n",
    "    user_vec\n",
    "    \n",
    "   \n",
    "    # 2. scoring\n",
    "    \n",
    "    scores = model.inverse_transform(model.transform(user_vec))\n",
    "\n",
    "    # convert to a pandas series\n",
    "    scores = pd.Series(scores[0])\n",
    "    scores[comedy_movie['movieId']]=0\n",
    "    scores = scores.sort_values(ascending=False)\n",
    "    \n",
    "    \n",
    "    recommendations = scores.head(k).index\n",
    "    \n",
    "    return movies.set_index('movieId').loc[recommendations]\n",
    "\n",
    " "
   ]
  },
  {
   "cell_type": "code",
   "execution_count": 31,
   "id": "5ab3f3e0",
   "metadata": {},
   "outputs": [
    {
     "data": {
      "text/plain": [
       "{5502: 4.0,\n",
       " 6263: 3.5,\n",
       " 7179: 4.0,\n",
       " 8367: 3.5,\n",
       " 9624: 3.0,\n",
       " 11787: 2.5,\n",
       " 12971: 4.0,\n",
       " 19056: 4.5,\n",
       " 25304: 4.0,\n",
       " 28884: 3.5,\n",
       " 31141: 3.0,\n",
       " 31442: 3.5,\n",
       " 35498: 3.0,\n",
       " 41902: 4.0,\n",
       " 42291: 3.5,\n",
       " 42659: 4.0,\n",
       " 42816: 3.0,\n",
       " 43524: 4.0,\n",
       " 48388: 4.0,\n",
       " 49653: 4.0,\n",
       " 52014: 3.5,\n",
       " 55060: 4.0,\n",
       " 58298: 4.0,\n",
       " 59076: 4.0,\n",
       " 59411: 3.5}"
      ]
     },
     "execution_count": 31,
     "metadata": {},
     "output_type": "execute_result"
    }
   ],
   "source": [
    "query"
   ]
  },
  {
   "cell_type": "code",
   "execution_count": 32,
   "id": "ca9e94b0",
   "metadata": {},
   "outputs": [
    {
     "data": {
      "text/html": [
       "<div>\n",
       "<style scoped>\n",
       "    .dataframe tbody tr th:only-of-type {\n",
       "        vertical-align: middle;\n",
       "    }\n",
       "\n",
       "    .dataframe tbody tr th {\n",
       "        vertical-align: top;\n",
       "    }\n",
       "\n",
       "    .dataframe thead th {\n",
       "        text-align: right;\n",
       "    }\n",
       "</style>\n",
       "<table border=\"1\" class=\"dataframe\">\n",
       "  <thead>\n",
       "    <tr style=\"text-align: right;\">\n",
       "      <th></th>\n",
       "      <th>title</th>\n",
       "      <th>genres</th>\n",
       "    </tr>\n",
       "  </thead>\n",
       "  <tbody>\n",
       "    <tr>\n",
       "      <th>5502</th>\n",
       "      <td>Signs (2002)</td>\n",
       "      <td>Horror|Sci-Fi|Thriller</td>\n",
       "    </tr>\n",
       "    <tr>\n",
       "      <th>5349</th>\n",
       "      <td>Spider-Man (2002)</td>\n",
       "      <td>Action|Adventure|Sci-Fi|Thriller</td>\n",
       "    </tr>\n",
       "    <tr>\n",
       "      <th>5445</th>\n",
       "      <td>Minority Report (2002)</td>\n",
       "      <td>Action|Crime|Mystery|Sci-Fi|Thriller</td>\n",
       "    </tr>\n",
       "    <tr>\n",
       "      <th>2571</th>\n",
       "      <td>Matrix, The (1999)</td>\n",
       "      <td>Action|Sci-Fi|Thriller</td>\n",
       "    </tr>\n",
       "    <tr>\n",
       "      <th>6333</th>\n",
       "      <td>X2: X-Men United (2003)</td>\n",
       "      <td>Action|Adventure|Sci-Fi|Thriller</td>\n",
       "    </tr>\n",
       "    <tr>\n",
       "      <th>3793</th>\n",
       "      <td>X-Men (2000)</td>\n",
       "      <td>Action|Adventure|Sci-Fi</td>\n",
       "    </tr>\n",
       "    <tr>\n",
       "      <th>1527</th>\n",
       "      <td>Fifth Element, The (1997)</td>\n",
       "      <td>Action|Adventure|Comedy|Sci-Fi</td>\n",
       "    </tr>\n",
       "    <tr>\n",
       "      <th>1097</th>\n",
       "      <td>E.T. the Extra-Terrestrial (1982)</td>\n",
       "      <td>Children|Drama|Sci-Fi</td>\n",
       "    </tr>\n",
       "    <tr>\n",
       "      <th>5378</th>\n",
       "      <td>Star Wars: Episode II - Attack of the Clones (...</td>\n",
       "      <td>Action|Adventure|Sci-Fi|IMAX</td>\n",
       "    </tr>\n",
       "    <tr>\n",
       "      <th>1214</th>\n",
       "      <td>Alien (1979)</td>\n",
       "      <td>Horror|Sci-Fi</td>\n",
       "    </tr>\n",
       "  </tbody>\n",
       "</table>\n",
       "</div>"
      ],
      "text/plain": [
       "                                                  title  \\\n",
       "5502                                       Signs (2002)   \n",
       "5349                                  Spider-Man (2002)   \n",
       "5445                             Minority Report (2002)   \n",
       "2571                                 Matrix, The (1999)   \n",
       "6333                            X2: X-Men United (2003)   \n",
       "3793                                       X-Men (2000)   \n",
       "1527                          Fifth Element, The (1997)   \n",
       "1097                  E.T. the Extra-Terrestrial (1982)   \n",
       "5378  Star Wars: Episode II - Attack of the Clones (...   \n",
       "1214                                       Alien (1979)   \n",
       "\n",
       "                                    genres  \n",
       "5502                Horror|Sci-Fi|Thriller  \n",
       "5349      Action|Adventure|Sci-Fi|Thriller  \n",
       "5445  Action|Crime|Mystery|Sci-Fi|Thriller  \n",
       "2571                Action|Sci-Fi|Thriller  \n",
       "6333      Action|Adventure|Sci-Fi|Thriller  \n",
       "3793               Action|Adventure|Sci-Fi  \n",
       "1527        Action|Adventure|Comedy|Sci-Fi  \n",
       "1097                 Children|Drama|Sci-Fi  \n",
       "5378          Action|Adventure|Sci-Fi|IMAX  \n",
       "1214                         Horror|Sci-Fi  "
      ]
     },
     "execution_count": 32,
     "metadata": {},
     "output_type": "execute_result"
    }
   ],
   "source": [
    "recommend_nmf(query, model, ratings, 10)"
   ]
  },
  {
   "cell_type": "code",
   "execution_count": null,
   "id": "084301b1",
   "metadata": {},
   "outputs": [],
   "source": []
  },
  {
   "cell_type": "code",
   "execution_count": null,
   "id": "22f23a8c",
   "metadata": {},
   "outputs": [],
   "source": []
  }
 ],
 "metadata": {
  "kernelspec": {
   "display_name": "Python 3 (ipykernel)",
   "language": "python",
   "name": "python3"
  },
  "language_info": {
   "codemirror_mode": {
    "name": "ipython",
    "version": 3
   },
   "file_extension": ".py",
   "mimetype": "text/x-python",
   "name": "python",
   "nbconvert_exporter": "python",
   "pygments_lexer": "ipython3",
   "version": "3.10.4"
  }
 },
 "nbformat": 4,
 "nbformat_minor": 5
}
