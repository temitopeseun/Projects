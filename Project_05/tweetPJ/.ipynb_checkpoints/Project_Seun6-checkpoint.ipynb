{
 "cells": [
  {
   "cell_type": "code",
   "execution_count": 1,
   "metadata": {},
   "outputs": [
    {
     "name": "stdout",
     "output_type": "stream",
     "text": [
      "Requirement already satisfied: tweepy==4.4.0 in /home/seun/anaconda3/lib/python3.7/site-packages (4.4.0)\n",
      "Requirement already satisfied: requests-oauthlib<2,>=1.0.0 in /home/seun/anaconda3/lib/python3.7/site-packages (from tweepy==4.4.0) (1.3.1)\n",
      "Requirement already satisfied: requests<3,>=2.11.1 in /home/seun/anaconda3/lib/python3.7/site-packages (from tweepy==4.4.0) (2.22.0)\n",
      "Requirement already satisfied: oauthlib>=3.0.0 in /home/seun/anaconda3/lib/python3.7/site-packages (from requests-oauthlib<2,>=1.0.0->tweepy==4.4.0) (3.2.0)\n",
      "Requirement already satisfied: idna<2.9,>=2.5 in /home/seun/anaconda3/lib/python3.7/site-packages (from requests<3,>=2.11.1->tweepy==4.4.0) (2.8)\n",
      "Requirement already satisfied: certifi>=2017.4.17 in /home/seun/anaconda3/lib/python3.7/site-packages (from requests<3,>=2.11.1->tweepy==4.4.0) (2019.11.28)\n",
      "Requirement already satisfied: urllib3!=1.25.0,!=1.25.1,<1.26,>=1.21.1 in /home/seun/anaconda3/lib/python3.7/site-packages (from requests<3,>=2.11.1->tweepy==4.4.0) (1.25.8)\n",
      "Requirement already satisfied: chardet<3.1.0,>=3.0.2 in /home/seun/anaconda3/lib/python3.7/site-packages (from requests<3,>=2.11.1->tweepy==4.4.0) (3.0.4)\n",
      "Note: you may need to restart the kernel to use updated packages.\n"
     ]
    }
   ],
   "source": [
    "pip install tweepy==4.4.0"
   ]
  },
  {
   "cell_type": "code",
   "execution_count": 2,
   "metadata": {},
   "outputs": [
    {
     "name": "stdout",
     "output_type": "stream",
     "text": [
      "Requirement already satisfied: credentials in /home/seun/anaconda3/lib/python3.7/site-packages (1.1)\n",
      "Note: you may need to restart the kernel to use updated packages.\n"
     ]
    }
   ],
   "source": [
    "pip install credentials"
   ]
  },
  {
   "cell_type": "code",
   "execution_count": 3,
   "metadata": {},
   "outputs": [],
   "source": [
    "import requests\n",
    "import pandas as pd"
   ]
  },
  {
   "cell_type": "code",
   "execution_count": 4,
   "metadata": {},
   "outputs": [],
   "source": [
    "import config"
   ]
  },
  {
   "cell_type": "code",
   "execution_count": 5,
   "metadata": {},
   "outputs": [
    {
     "name": "stdout",
     "output_type": "stream",
     "text": [
      "{'username': 'elonmusk', 'public_metrics': {'followers_count': 102591324, 'following_count': 119, 'tweet_count': 18888, 'listed_count': 97354}, 'name': 'Elon Musk', 'profile_image_url': 'https://pbs.twimg.com/profile_images/1529956155937759233/Nyn1HZWF_normal.jpg', 'created_at': datetime.datetime(2009, 6, 2, 20, 12, 29, tzinfo=datetime.timezone.utc), 'id': 44196397, 'description': 'Mars & Cars, Chips & Dips'}\n",
      "Worth reading. This is a close match for my philosophy. https://t.co/cWEM6QBobY\n",
      "Still time to vote! https://t.co/ZbFWv0pkgG\n",
      "https://t.co/2Ck4z96NFM\n",
      "X ❤️ Doges\n",
      "https://t.co/RmXlZHKEKc\n",
      "Thanksgiving last year after watching one too many episodes of Vikings https://t.co/ra7lijKRhD\n",
      "If our reality is actually an alien soap opera, our ratings would be 🚀💥💫\n",
      "Maybe free some people in jail for weed here too? https://t.co/AYo0ZC79lZ\n",
      "Off to the Races set to Harley Quinn https://t.co/79XaBOxAKk\n",
      "Some people are no nonsense, but, personally, I like a little nonsense\n",
      "Tesla + Twitter -&gt; Twizzler\n",
      "Interaction with almost all twitter accounts seem to be much lower in recent weeks &amp; days. Accurate?\n",
      "Saxon https://t.co/UTh4uqIEYP\n",
      "Friend made this for me 2 years ago https://t.co/XzlmpmPNT7\n",
      "Try voice command “open butthole” on your Tesla\n",
      "https://t.co/Uo30yDO3tJ\n",
      "Heatwave in Shortville 🥵\n",
      "I can’t say for sure that Starship will reach escape velocity, but my hubris certainly has\n",
      "More Tesla commodity prices are trending down than up fwiw\n",
      "Inflation might be trending down\n",
      "Shout it out loud ayman zawahiri was slayed in a drone strike. Thank Elon Musk!\n",
      "\n",
      "Why would China go to war? When they just take all of americas money and buy the rest of the world. Look they own Africa, Canada they have most of everyone on the take in Congress. They own Elon musk. Fuck they got it easy. They need to stop with the ponzi shit. Keep steal ip 😂\n",
      "\n",
      "if elon musk really got more money than me why he never posted a spread pic?🤷‍♂️\n",
      "\n",
      "Digital divorce addict Elon Musk unleashes a leftfield masterstroke: augmented reality Pacman\n",
      "\n",
      "“Don’t just follow the trend… It’s good to think in terms of the physics approach or First Principles. Which is rather than reasoning by analogy, you boil things down to the most fundamental truths you can imagine and you reason up from there.”\n",
      "\n",
      "| Elon Musk\n",
      "\n",
      "#Elon Musk has officially countersued #Twitter 🧑‍⚖️\n",
      "\n",
      "Elon musk for president! Any thoughts?\n",
      "\n",
      "it grinds my gears that i can get a tax credit for a tesla, which doesn't take cars off the road (and generates toxic vibes everywhere because elon musk) and not for an e-bike. ya know who i see more and more on e-bikes? parents w small kids. i love that.\n",
      "\n",
      "FUCK YOU ELON MUSK!!!!!\n",
      "\n",
      "Screw u, you're not Elon Musk to be that Busy\n",
      "\n",
      "Elon Musk was able to buy Twitter because he doesn’t spend $5 on coffee everyday\n",
      "\n",
      "Just remember… you have the same amount of time in each day as Elon Musk.\n",
      "\n",
      "JUST IN: Twitter has subpoenaed records from Bank of America &amp; Morgan Stanley as part of its legal battle with Elon Musk, Bloomberg reports.\n",
      "\n",
      "My dad don't run shit... Nigga. I run shit .. I'm Elon Musk.... Tesla run shit\n",
      "\n",
      "People Have Stopped Buying Teslas Because Elon Musk is Scaring Buyers Away: ‘He Acts Like a Seven-Year-Old'\n",
      "\n",
      "THANKS Elon Musk for 3 BTC.\n",
      "\n",
      "Next year Elon Musk has model 'a twentieth-century deadly book' that is set to mark a huge monumental change for humankind Says PayPal.\n",
      "\n",
      "Fun fact:\n",
      "\n",
      "Elon Musk has made more in the past 9 months than Warren Buffett in the past 90 years.\n",
      "\n",
      "Elon Musk, what's wrong you barely touched your Twitter\n",
      "\n",
      "Elon Musk is originally from South Africa......\n",
      "\n",
      "Which is weird, you think he'd be from mad-at-gas-car.\n",
      "\n",
      "#dadjoke\n",
      "\n"
     ]
    }
   ],
   "source": [
    "import tweepy\n",
    "\n",
    "##################\n",
    "# Authentication #\n",
    "##################\n",
    "BEARER_TOKEN = config.BEARER_TOKEN \n",
    "\n",
    "\n",
    "client = tweepy.Client(\n",
    "    bearer_token=BEARER_TOKEN,\n",
    "    wait_on_rate_limit=True,\n",
    ")\n",
    "\n",
    "########################\n",
    "# Get User Information #\n",
    "########################\n",
    "\n",
    "# https://docs.tweepy.org/en/stable/client.html#tweepy.Client.get_user\n",
    "# https://developer.twitter.com/en/docs/twitter-api/data-dictionary/object-model/user\n",
    "\n",
    "response = client.get_user(\n",
    "    username='elonmusk',\n",
    "    user_fields=['created_at', 'description', 'location',\n",
    "                 'public_metrics', 'profile_image_url']\n",
    ")\n",
    "\n",
    "user = response.data\n",
    "\n",
    "print(dict(user))\n",
    "\n",
    "\n",
    "#########################\n",
    "# Get a user's timeline #\n",
    "#########################\n",
    "\n",
    "# https://docs.tweepy.org/en/stable/pagination.html#tweepy.Paginator\n",
    "# https://docs.tweepy.org/en/stable/client.html#tweepy.Client.get_users_tweets\n",
    "# https://developer.twitter.com/en/docs/twitter-api/data-dictionary/object-model/tweet\n",
    "\n",
    "cursor = tweepy.Paginator(\n",
    "    method=client.get_users_tweets,\n",
    "    id=user.id,\n",
    "    exclude=['replies', 'retweets'],\n",
    "    tweet_fields=['author_id', 'created_at', 'public_metrics']\n",
    ").flatten(limit=20)\n",
    "\n",
    "for tweet in cursor:\n",
    "    print(tweet.text)\n",
    "\n",
    "\n",
    "#####################\n",
    "# Search for Tweets #\n",
    "#####################\n",
    "\n",
    "# https://docs.tweepy.org/en/stable/client.html#tweepy.Client.search_recent_tweets\n",
    "# https://developer.twitter.com/en/docs/twitter-api/tweets/search/integrate/build-a-query\n",
    "\n",
    "# - means NOT\n",
    "search_query = \"elon musk -is:retweet -is:reply -is:quote lang:en -has:links\"\n",
    "\n",
    "cursor = tweepy.Paginator(\n",
    "    method=client.search_recent_tweets,\n",
    "    query=search_query,\n",
    "    tweet_fields=['author_id', 'created_at', 'public_metrics'],\n",
    ").flatten(limit=20)\n",
    "\n",
    "for tweet in cursor:\n",
    "    print(tweet.text+'\\n')"
   ]
  },
  {
   "cell_type": "code",
   "execution_count": 6,
   "metadata": {},
   "outputs": [
    {
     "data": {
      "text/plain": [
       "tweepy.client.Client"
      ]
     },
     "execution_count": 6,
     "metadata": {},
     "output_type": "execute_result"
    }
   ],
   "source": [
    "\n",
    "type(client)"
   ]
  },
  {
   "cell_type": "code",
   "execution_count": 7,
   "metadata": {},
   "outputs": [
    {
     "data": {
      "text/plain": [
       "['__class__',\n",
       " '__delattr__',\n",
       " '__dict__',\n",
       " '__dir__',\n",
       " '__doc__',\n",
       " '__eq__',\n",
       " '__format__',\n",
       " '__ge__',\n",
       " '__getattribute__',\n",
       " '__gt__',\n",
       " '__hash__',\n",
       " '__init__',\n",
       " '__init_subclass__',\n",
       " '__le__',\n",
       " '__lt__',\n",
       " '__module__',\n",
       " '__ne__',\n",
       " '__new__',\n",
       " '__reduce__',\n",
       " '__reduce_ex__',\n",
       " '__repr__',\n",
       " '__setattr__',\n",
       " '__sizeof__',\n",
       " '__str__',\n",
       " '__subclasshook__',\n",
       " '__weakref__',\n",
       " '_make_request',\n",
       " 'access_token',\n",
       " 'access_token_secret',\n",
       " 'add_list_member',\n",
       " 'bearer_token',\n",
       " 'block',\n",
       " 'consumer_key',\n",
       " 'consumer_secret',\n",
       " 'create_compliance_job',\n",
       " 'create_list',\n",
       " 'create_tweet',\n",
       " 'delete_list',\n",
       " 'delete_tweet',\n",
       " 'follow',\n",
       " 'follow_list',\n",
       " 'follow_user',\n",
       " 'get_all_tweets_count',\n",
       " 'get_blocked',\n",
       " 'get_compliance_job',\n",
       " 'get_compliance_jobs',\n",
       " 'get_followed_lists',\n",
       " 'get_liked_tweets',\n",
       " 'get_liking_users',\n",
       " 'get_list',\n",
       " 'get_list_followers',\n",
       " 'get_list_members',\n",
       " 'get_list_memberships',\n",
       " 'get_list_tweets',\n",
       " 'get_muted',\n",
       " 'get_owned_lists',\n",
       " 'get_pinned_lists',\n",
       " 'get_recent_tweets_count',\n",
       " 'get_retweeters',\n",
       " 'get_space',\n",
       " 'get_space_buyers',\n",
       " 'get_spaces',\n",
       " 'get_tweet',\n",
       " 'get_tweets',\n",
       " 'get_user',\n",
       " 'get_users',\n",
       " 'get_users_followers',\n",
       " 'get_users_following',\n",
       " 'get_users_mentions',\n",
       " 'get_users_tweets',\n",
       " 'hide_reply',\n",
       " 'like',\n",
       " 'mute',\n",
       " 'pin_list',\n",
       " 'remove_list_member',\n",
       " 'request',\n",
       " 'return_type',\n",
       " 'retweet',\n",
       " 'search_all_tweets',\n",
       " 'search_recent_tweets',\n",
       " 'search_spaces',\n",
       " 'session',\n",
       " 'unblock',\n",
       " 'unfollow',\n",
       " 'unfollow_list',\n",
       " 'unfollow_user',\n",
       " 'unhide_reply',\n",
       " 'unlike',\n",
       " 'unmute',\n",
       " 'unpin_list',\n",
       " 'unretweet',\n",
       " 'update_list',\n",
       " 'user_agent',\n",
       " 'wait_on_rate_limit']"
      ]
     },
     "execution_count": 7,
     "metadata": {},
     "output_type": "execute_result"
    }
   ],
   "source": [
    "dir(client)"
   ]
  },
  {
   "cell_type": "code",
   "execution_count": null,
   "metadata": {},
   "outputs": [],
   "source": []
  },
  {
   "cell_type": "code",
   "execution_count": null,
   "metadata": {},
   "outputs": [],
   "source": []
  },
  {
   "cell_type": "code",
   "execution_count": null,
   "metadata": {},
   "outputs": [],
   "source": []
  },
  {
   "cell_type": "code",
   "execution_count": null,
   "metadata": {},
   "outputs": [],
   "source": []
  }
 ],
 "metadata": {
  "kernelspec": {
   "display_name": "Python 3",
   "language": "python",
   "name": "python3"
  },
  "language_info": {
   "codemirror_mode": {
    "name": "ipython",
    "version": 3
   },
   "file_extension": ".py",
   "mimetype": "text/x-python",
   "name": "python",
   "nbconvert_exporter": "python",
   "pygments_lexer": "ipython3",
   "version": "3.7.6"
  }
 },
 "nbformat": 4,
 "nbformat_minor": 4
}
